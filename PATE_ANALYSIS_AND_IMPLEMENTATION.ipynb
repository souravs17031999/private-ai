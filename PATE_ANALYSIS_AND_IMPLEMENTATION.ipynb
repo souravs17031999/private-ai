{
  "nbformat": 4,
  "nbformat_minor": 0,
  "metadata": {
    "colab": {
      "name": "PATE_ANALYSIS_AND_IMPLEMENTATION.ipynb",
      "version": "0.3.2",
      "provenance": [],
      "include_colab_link": true
    },
    "kernelspec": {
      "name": "python3",
      "display_name": "Python 3"
    }
  },
  "cells": [
    {
      "cell_type": "markdown",
      "metadata": {
        "id": "view-in-github",
        "colab_type": "text"
      },
      "source": [
        "<a href=\"https://colab.research.google.com/github/souravs17031999/private-ai/blob/master/PATE_ANALYSIS_AND_IMPLEMENTATION.ipynb\" target=\"_parent\"><img src=\"https://colab.research.google.com/assets/colab-badge.svg\" alt=\"Open In Colab\"/></a>"
      ]
    },
    {
      "cell_type": "markdown",
      "metadata": {
        "id": "hQ6TlDQw7jxF",
        "colab_type": "text"
      },
      "source": [
        "# Project VIII\n",
        "## PATE ANALYSIS + MODEL TRAINING USING DP"
      ]
    },
    {
      "cell_type": "markdown",
      "metadata": {
        "id": "75Uhc8sq73P9",
        "colab_type": "text"
      },
      "source": [
        "### PART - I (PATE ANALYSIS)"
      ]
    },
    {
      "cell_type": "code",
      "metadata": {
        "id": "x85u2alUqofZ",
        "colab_type": "code",
        "colab": {}
      },
      "source": [
        "# importing torch and numpy modules\n",
        "import torch\n",
        "import numpy as np"
      ],
      "execution_count": 0,
      "outputs": []
    },
    {
      "cell_type": "code",
      "metadata": {
        "id": "wG3V8g4mqvT2",
        "colab_type": "code",
        "colab": {}
      },
      "source": [
        "# installing pysyft\n",
        "!pip install syft"
      ],
      "execution_count": 0,
      "outputs": []
    },
    {
      "cell_type": "code",
      "metadata": {
        "id": "fYZIetYytBJK",
        "colab_type": "code",
        "colab": {}
      },
      "source": [
        "# importing pate so that we can apply pate algorithm\n",
        "from syft.frameworks.torch.differential_privacy import pate\n"
      ],
      "execution_count": 0,
      "outputs": []
    },
    {
      "cell_type": "code",
      "metadata": {
        "id": "aTGkD1SvtaDp",
        "colab_type": "code",
        "colab": {}
      },
      "source": [
        "# taking random teachers , examples, labels\n",
        "teachers = 100\n",
        "examples = 100\n",
        "labels = 10\n",
        "# generating random pred and actual labels\n",
        "pred = (np.random.rand(teachers, examples) * labels).astype(int) # fake predctions\n",
        "true_labels = (np.random.rand(examples) * labels).astype(int)  # actual labels"
      ],
      "execution_count": 0,
      "outputs": []
    },
    {
      "cell_type": "code",
      "metadata": {
        "id": "mEO529coz6t3",
        "colab_type": "code",
        "colab": {
          "base_uri": "https://localhost:8080/",
          "height": 140
        },
        "outputId": "31c294dc-715d-43c4-bfe6-55636fea108c"
      },
      "source": [
        "pred"
      ],
      "execution_count": 13,
      "outputs": [
        {
          "output_type": "execute_result",
          "data": {
            "text/plain": [
              "array([[2, 1, 5, ..., 8, 1, 5],\n",
              "       [2, 1, 7, ..., 7, 1, 7],\n",
              "       [5, 2, 1, ..., 1, 8, 3],\n",
              "       ...,\n",
              "       [3, 1, 3, ..., 2, 4, 7],\n",
              "       [6, 1, 2, ..., 5, 7, 8],\n",
              "       [2, 6, 4, ..., 3, 7, 7]])"
            ]
          },
          "metadata": {
            "tags": []
          },
          "execution_count": 13
        }
      ]
    },
    {
      "cell_type": "code",
      "metadata": {
        "id": "YJMTaY9P1QB9",
        "colab_type": "code",
        "colab": {
          "base_uri": "https://localhost:8080/",
          "height": 105
        },
        "outputId": "519825b0-7240-4f33-cdf6-b6d1471e0a7e"
      },
      "source": [
        "true_labels"
      ],
      "execution_count": 14,
      "outputs": [
        {
          "output_type": "execute_result",
          "data": {
            "text/plain": [
              "array([3, 9, 2, 5, 9, 0, 2, 9, 3, 8, 4, 4, 4, 0, 5, 7, 9, 3, 8, 7, 3, 8,\n",
              "       5, 9, 5, 9, 4, 3, 1, 1, 4, 1, 1, 2, 9, 7, 9, 2, 5, 3, 3, 1, 8, 2,\n",
              "       5, 9, 8, 3, 3, 9, 1, 5, 1, 6, 3, 2, 3, 1, 3, 6, 9, 7, 6, 4, 2, 5,\n",
              "       4, 7, 8, 6, 9, 4, 9, 4, 1, 5, 7, 7, 2, 5, 2, 1, 0, 2, 5, 3, 1, 7,\n",
              "       0, 9, 1, 0, 6, 8, 2, 0, 4, 7, 4, 3])"
            ]
          },
          "metadata": {
            "tags": []
          },
          "execution_count": 14
        }
      ]
    },
    {
      "cell_type": "markdown",
      "metadata": {
        "id": "XW_XP2B45ZJ9",
        "colab_type": "text"
      },
      "source": [
        "Data dependent epsilon is where PATE analysis does its job as it is an epsilon that looks at how much agreement there is between the teachers before throwing the epsilon, and the data independent epsilon does not do this, so when the two of them are really close to each other it means that PATE only found a really tiny amount of agreement between the teachers when throwing the data dependent epsilon"
      ]
    },
    {
      "cell_type": "code",
      "metadata": {
        "id": "OD6WtJ9v1WFK",
        "colab_type": "code",
        "colab": {
          "base_uri": "https://localhost:8080/",
          "height": 52
        },
        "outputId": "0eb748f9-640e-41c3-8c97-f73adba2604b"
      },
      "source": [
        "# performing the pate analysis\n",
        "data_dep_eps, data_ind_eps = pate.perform_analysis(teacher_preds=pred, indices=true_labels, noise_eps=0.1, delta=1e-5)\n",
        "print(\"Data Independent Epsilon:\", data_ind_eps)\n",
        "print(\"Data Dependent Epsilon:\", data_dep_eps)"
      ],
      "execution_count": 16,
      "outputs": [
        {
          "output_type": "stream",
          "text": [
            "Data Independent Epsilon: 11.756462732485115\n",
            "Data Dependent Epsilon: 11.756462732485105\n"
          ],
          "name": "stdout"
        }
      ]
    },
    {
      "cell_type": "code",
      "metadata": {
        "id": "a6JDhXNC1mLy",
        "colab_type": "code",
        "colab": {}
      },
      "source": [
        "pred[:,0:10] *= 0\n"
      ],
      "execution_count": 0,
      "outputs": []
    },
    {
      "cell_type": "code",
      "metadata": {
        "id": "lcJKvqFd1q_G",
        "colab_type": "code",
        "colab": {
          "base_uri": "https://localhost:8080/",
          "height": 70
        },
        "outputId": "6bd6b49d-e7d5-4c8f-9cdd-382c75d9a898"
      },
      "source": [
        "data_dep_eps, data_ind_eps = pate.perform_analysis(teacher_preds=pred, indices=true_labels, noise_eps=0.1, delta=1e-5)\n",
        "print(\"Data Independent Epsilon:\", data_ind_eps)\n",
        "print(\"Data Dependent Epsilon:\", data_dep_eps)"
      ],
      "execution_count": 24,
      "outputs": [
        {
          "output_type": "stream",
          "text": [
            "Warning: May not have used enough values of l. Increase 'moments' variable and run again.\n",
            "Data Independent Epsilon: 11.756462732485115\n",
            "Data Dependent Epsilon: 1.52655213289881\n"
          ],
          "name": "stdout"
        }
      ]
    },
    {
      "cell_type": "code",
      "metadata": {
        "id": "nFR8idBW10Ul",
        "colab_type": "code",
        "colab": {}
      },
      "source": [
        "pred[:,0:50] *= 0\n"
      ],
      "execution_count": 0,
      "outputs": []
    },
    {
      "cell_type": "code",
      "metadata": {
        "id": "K2El_a2Z13g_",
        "colab_type": "code",
        "colab": {
          "base_uri": "https://localhost:8080/",
          "height": 52
        },
        "outputId": "cbe6b9d6-8f98-4133-b30d-32627326dcff"
      },
      "source": [
        "data_dep_eps, data_ind_eps = pate.perform_analysis(teacher_preds=pred, indices=true_labels, noise_eps=0.1, delta=1e-5, moments=20)\n",
        "print(\"Data Independent Epsilon:\", data_ind_eps)\n",
        "print(\"Data Dependent Epsilon:\", data_dep_eps)"
      ],
      "execution_count": 23,
      "outputs": [
        {
          "output_type": "stream",
          "text": [
            "Data Independent Epsilon: 11.756462732485115\n",
            "Data Dependent Epsilon: 0.9029013677789843\n"
          ],
          "name": "stdout"
        }
      ]
    },
    {
      "cell_type": "markdown",
      "metadata": {
        "id": "MNKVldJi4OuY",
        "colab_type": "text"
      },
      "source": [
        "Better is when  data dependent epsilon gets smaller as it means query not doesn't depends on the inputs of database , that is not depending on the individuals thus getting us more tighter bounds for epsilon."
      ]
    },
    {
      "cell_type": "markdown",
      "metadata": {
        "id": "IbL1va9579xu",
        "colab_type": "text"
      },
      "source": [
        "### PART - II (MODEL TRAINING - MNIST DATASET)"
      ]
    },
    {
      "cell_type": "code",
      "metadata": {
        "id": "KcDqDcHm8EB6",
        "colab_type": "code",
        "colab": {
          "base_uri": "https://localhost:8080/",
          "height": 263
        },
        "outputId": "5a23f211-9313-486d-adcd-41fd83215627"
      },
      "source": [
        "import torchvision.datasets as datasets\n",
        "mnist_trainset = datasets.MNIST(root='./data', train=True, download=True, transform=None)"
      ],
      "execution_count": 25,
      "outputs": [
        {
          "output_type": "stream",
          "text": [
            "\r0it [00:00, ?it/s]"
          ],
          "name": "stderr"
        },
        {
          "output_type": "stream",
          "text": [
            "Downloading http://yann.lecun.com/exdb/mnist/train-images-idx3-ubyte.gz to ./data/MNIST/raw/train-images-idx3-ubyte.gz\n"
          ],
          "name": "stdout"
        },
        {
          "output_type": "stream",
          "text": [
            "9920512it [00:01, 9326287.75it/s]                            \n"
          ],
          "name": "stderr"
        },
        {
          "output_type": "stream",
          "text": [
            "Extracting ./data/MNIST/raw/train-images-idx3-ubyte.gz\n"
          ],
          "name": "stdout"
        },
        {
          "output_type": "stream",
          "text": [
            "  0%|          | 0/28881 [00:00<?, ?it/s]"
          ],
          "name": "stderr"
        },
        {
          "output_type": "stream",
          "text": [
            "Downloading http://yann.lecun.com/exdb/mnist/train-labels-idx1-ubyte.gz to ./data/MNIST/raw/train-labels-idx1-ubyte.gz\n"
          ],
          "name": "stdout"
        },
        {
          "output_type": "stream",
          "text": [
            "32768it [00:00, 134939.73it/s]           \n",
            "  0%|          | 0/1648877 [00:00<?, ?it/s]"
          ],
          "name": "stderr"
        },
        {
          "output_type": "stream",
          "text": [
            "Extracting ./data/MNIST/raw/train-labels-idx1-ubyte.gz\n",
            "Downloading http://yann.lecun.com/exdb/mnist/t10k-images-idx3-ubyte.gz to ./data/MNIST/raw/t10k-images-idx3-ubyte.gz\n"
          ],
          "name": "stdout"
        },
        {
          "output_type": "stream",
          "text": [
            "1654784it [00:00, 2542617.59it/s]                           \n",
            "0it [00:00, ?it/s]"
          ],
          "name": "stderr"
        },
        {
          "output_type": "stream",
          "text": [
            "Extracting ./data/MNIST/raw/t10k-images-idx3-ubyte.gz\n",
            "Downloading http://yann.lecun.com/exdb/mnist/t10k-labels-idx1-ubyte.gz to ./data/MNIST/raw/t10k-labels-idx1-ubyte.gz\n"
          ],
          "name": "stdout"
        },
        {
          "output_type": "stream",
          "text": [
            "8192it [00:00, 50410.64it/s]            "
          ],
          "name": "stderr"
        },
        {
          "output_type": "stream",
          "text": [
            "Extracting ./data/MNIST/raw/t10k-labels-idx1-ubyte.gz\n",
            "Processing...\n",
            "Done!\n"
          ],
          "name": "stdout"
        },
        {
          "output_type": "stream",
          "text": [
            "\n"
          ],
          "name": "stderr"
        }
      ]
    },
    {
      "cell_type": "code",
      "metadata": {
        "id": "ExUCPnqkBNPV",
        "colab_type": "code",
        "colab": {
          "base_uri": "https://localhost:8080/",
          "height": 87
        },
        "outputId": "4e197bf5-77c5-4f9d-ed11-52a46312b2ac"
      },
      "source": [
        "train_data = mnist_trainset.train_data\n",
        "train_targets = mnist_trainset.train_labels"
      ],
      "execution_count": 26,
      "outputs": [
        {
          "output_type": "stream",
          "text": [
            "/usr/local/lib/python3.6/dist-packages/torchvision/datasets/mnist.py:53: UserWarning: train_data has been renamed data\n",
            "  warnings.warn(\"train_data has been renamed data\")\n",
            "/usr/local/lib/python3.6/dist-packages/torchvision/datasets/mnist.py:43: UserWarning: train_labels has been renamed targets\n",
            "  warnings.warn(\"train_labels has been renamed targets\")\n"
          ],
          "name": "stderr"
        }
      ]
    },
    {
      "cell_type": "code",
      "metadata": {
        "id": "BTvPO48MBQ_J",
        "colab_type": "code",
        "colab": {
          "base_uri": "https://localhost:8080/",
          "height": 87
        },
        "outputId": "9089916b-beb0-4365-89e1-c22495363506"
      },
      "source": [
        "test_data = mnist_trainset.test_data\n",
        "test_targets = mnist_trainset.test_labels"
      ],
      "execution_count": 27,
      "outputs": [
        {
          "output_type": "stream",
          "text": [
            "/usr/local/lib/python3.6/dist-packages/torchvision/datasets/mnist.py:58: UserWarning: test_data has been renamed data\n",
            "  warnings.warn(\"test_data has been renamed data\")\n",
            "/usr/local/lib/python3.6/dist-packages/torchvision/datasets/mnist.py:48: UserWarning: test_labels has been renamed targets\n",
            "  warnings.warn(\"test_labels has been renamed targets\")\n"
          ],
          "name": "stderr"
        }
      ]
    },
    {
      "cell_type": "code",
      "metadata": {
        "id": "r5355XLoBTox",
        "colab_type": "code",
        "colab": {}
      },
      "source": [
        ""
      ],
      "execution_count": 0,
      "outputs": []
    }
  ]
}