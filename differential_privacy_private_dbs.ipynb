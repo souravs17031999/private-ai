#Project - I
{
  "nbformat": 4,
  "nbformat_minor": 0,
  "metadata": {
    "colab": {
      "name": "differential - privacy_private_dbs",
      "version": "0.3.2",
      "provenance": [],
      "collapsed_sections": []
    },
    "kernelspec": {
      "name": "python3",
      "display_name": "Python 3"
    },
    "accelerator": "GPU"
  },
  "cells": [
    {
      "cell_type": "markdown",
      "metadata": {
        "id": "L7W_3jxY42LM",
        "colab_type": "text"
      },
      "source": [
        "# Showcasing functions for implementing privatising of data in a database and creating parallel databases that is iterating over the entire database and creating a new db each one with one entry removed.\n",
        "\n"
      ]
    },
    {
      "cell_type": "code",
      "metadata": {
        "id": "1vA3ww-tDk40",
        "colab_type": "code",
        "colab": {}
      },
      "source": [
        "#importing torch\n",
        "import torch"
      ],
      "execution_count": 0,
      "outputs": []
    },
    {
      "cell_type": "code",
      "metadata": {
        "id": "pToHDMttDx_n",
        "colab_type": "code",
        "colab": {}
      },
      "source": [
        "#creating a random tensor filled with 0's or 1's  \n",
        "db = torch.rand(5000) > 0.5"
      ],
      "execution_count": 0,
      "outputs": []
    },
    {
      "cell_type": "code",
      "metadata": {
        "id": "F5-jZQU2ECPF",
        "colab_type": "code",
        "outputId": "46ed50bc-30dc-4deb-81fe-c55cc0e85e63",
        "colab": {
          "base_uri": "https://localhost:8080/",
          "height": 34
        }
      },
      "source": [
        "db"
      ],
      "execution_count": 0,
      "outputs": [
        {
          "output_type": "execute_result",
          "data": {
            "text/plain": [
              "tensor([0, 0, 1,  ..., 0, 0, 0], dtype=torch.uint8)"
            ]
          },
          "metadata": {
            "tags": []
          },
          "execution_count": 115
        }
      ]
    },
    {
      "cell_type": "code",
      "metadata": {
        "id": "HX9BvLdKEbR6",
        "colab_type": "code",
        "colab": {}
      },
      "source": [
        "def create(x):\n",
        "  return torch.rand(x) > 0.5"
      ],
      "execution_count": 0,
      "outputs": []
    },
    {
      "cell_type": "code",
      "metadata": {
        "id": "6CcJPScwTYUb",
        "colab_type": "code",
        "outputId": "bed4511f-eb50-481b-c911-78b71dce1ca6",
        "colab": {
          "base_uri": "https://localhost:8080/",
          "height": 34
        }
      },
      "source": [
        "create(5000)"
      ],
      "execution_count": 0,
      "outputs": [
        {
          "output_type": "execute_result",
          "data": {
            "text/plain": [
              "tensor([0, 0, 0,  ..., 1, 0, 1], dtype=torch.uint8)"
            ]
          },
          "metadata": {
            "tags": []
          },
          "execution_count": 117
        }
      ]
    },
    {
      "cell_type": "code",
      "metadata": {
        "id": "r7uKXdIXTiGK",
        "colab_type": "code",
        "outputId": "fba7a468-dfd2-476e-831b-d7330090bbfe",
        "colab": {
          "base_uri": "https://localhost:8080/",
          "height": 34
        }
      },
      "source": [
        "db.shape"
      ],
      "execution_count": 0,
      "outputs": [
        {
          "output_type": "execute_result",
          "data": {
            "text/plain": [
              "torch.Size([5000])"
            ]
          },
          "metadata": {
            "tags": []
          },
          "execution_count": 118
        }
      ]
    },
    {
      "cell_type": "code",
      "metadata": {
        "id": "xS6Za_vAWSz7",
        "colab_type": "code",
        "colab": {}
      },
      "source": [
        "#showing concatenating ops of tensors\n",
        "T = torch.tensor([1, 2, 3, 4, 5])\n",
        "i = 2\n",
        "T = torch.cat([T[:i], T[i+1:]])"
      ],
      "execution_count": 0,
      "outputs": []
    },
    {
      "cell_type": "code",
      "metadata": {
        "id": "WE2VeC-cWzv0",
        "colab_type": "code",
        "outputId": "218f7786-d501-43c8-b794-7ef71dacb12d",
        "colab": {
          "base_uri": "https://localhost:8080/",
          "height": 34
        }
      },
      "source": [
        "x = torch.arange(10)\n",
        "x"
      ],
      "execution_count": 0,
      "outputs": [
        {
          "output_type": "execute_result",
          "data": {
            "text/plain": [
              "tensor([0, 1, 2, 3, 4, 5, 6, 7, 8, 9])"
            ]
          },
          "metadata": {
            "tags": []
          },
          "execution_count": 120
        }
      ]
    },
    {
      "cell_type": "code",
      "metadata": {
        "id": "BdxZQiT6ZPPf",
        "colab_type": "code",
        "colab": {}
      },
      "source": [
        "value = 5\n",
        "x = x[x != value]"
      ],
      "execution_count": 0,
      "outputs": []
    },
    {
      "cell_type": "code",
      "metadata": {
        "id": "H_TNX_vWZYI2",
        "colab_type": "code",
        "colab": {}
      },
      "source": [
        "# a way to remove the value at a index\n",
        "def remove(tens, index):\n",
        "  idx = torch.arange(len(tens))  #creating a tensor filled with (0,1,2...)\n",
        "  tens = tens[idx != index]\n",
        "  return tens"
      ],
      "execution_count": 0,
      "outputs": []
    },
    {
      "cell_type": "code",
      "metadata": {
        "id": "49bRf6KSc3d8",
        "colab_type": "code",
        "outputId": "8f87c6b2-37f3-42bb-c341-a7f485f985ce",
        "colab": {
          "base_uri": "https://localhost:8080/",
          "height": 34
        }
      },
      "source": [
        "x = torch.tensor([1, 2, 3, 4])\n",
        "remove(x, 1)\n"
      ],
      "execution_count": 0,
      "outputs": [
        {
          "output_type": "execute_result",
          "data": {
            "text/plain": [
              "tensor([1, 3, 4])"
            ]
          },
          "metadata": {
            "tags": []
          },
          "execution_count": 123
        }
      ]
    },
    {
      "cell_type": "code",
      "metadata": {
        "id": "8-J8vvlhlmng",
        "colab_type": "code",
        "outputId": "dbed8053-f9cf-4a8c-d85d-5e11eef459d9",
        "colab": {
          "base_uri": "https://localhost:8080/",
          "height": 34
        }
      },
      "source": [
        "db"
      ],
      "execution_count": 0,
      "outputs": [
        {
          "output_type": "execute_result",
          "data": {
            "text/plain": [
              "tensor([0, 0, 1,  ..., 0, 0, 0], dtype=torch.uint8)"
            ]
          },
          "metadata": {
            "tags": []
          },
          "execution_count": 124
        }
      ]
    },
    {
      "cell_type": "code",
      "metadata": {
        "id": "cRXulkyXkz2l",
        "colab_type": "code",
        "colab": {}
      },
      "source": [
        "#function for creating parallel db that is remove a index from a tensor\n",
        "def get_parallel_db(db, index):\n",
        "  return torch.cat((db[:index], db[index + 1 :]))  #way of removing a value at a given index"
      ],
      "execution_count": 0,
      "outputs": []
    },
    {
      "cell_type": "code",
      "metadata": {
        "id": "CDfpNqb4lchH",
        "colab_type": "code",
        "outputId": "93c63088-63ea-4d6b-a172-164d0c7232fd",
        "colab": {
          "base_uri": "https://localhost:8080/",
          "height": 34
        }
      },
      "source": [
        "get_parallel_db(db, 0).shape #shows one element removed since original db contained 5000 elements"
      ],
      "execution_count": 0,
      "outputs": [
        {
          "output_type": "execute_result",
          "data": {
            "text/plain": [
              "torch.Size([4999])"
            ]
          },
          "metadata": {
            "tags": []
          },
          "execution_count": 126
        }
      ]
    },
    {
      "cell_type": "code",
      "metadata": {
        "id": "UdtbHaZBl8fp",
        "colab_type": "code",
        "colab": {}
      },
      "source": [
        "#function for creating a list of paralle dbs each one with one entry removed one by one iterating over the entire db\n",
        "def get_parallel_dbs(db):\n",
        "  parallel_dbs = list()\n",
        "  for i in range(len(db)):\n",
        "    pdb = get_parallel_db(db, i)\n",
        "    parallel_dbs.append(pdb)\n",
        "  return parallel_dbs  "
      ],
      "execution_count": 0,
      "outputs": []
    },
    {
      "cell_type": "code",
      "metadata": {
        "id": "tLFKbWKunZPB",
        "colab_type": "code",
        "colab": {}
      },
      "source": [
        "pdbs = get_parallel_dbs(db)"
      ],
      "execution_count": 0,
      "outputs": []
    },
    {
      "cell_type": "code",
      "metadata": {
        "id": "_9vvTPZPoF-H",
        "colab_type": "code",
        "outputId": "13f2d96e-00e9-4e7c-aff7-cec904c9b0e9",
        "colab": {
          "base_uri": "https://localhost:8080/",
          "height": 34
        }
      },
      "source": [
        "len(pdbs)"
      ],
      "execution_count": 0,
      "outputs": [
        {
          "output_type": "execute_result",
          "data": {
            "text/plain": [
              "5000"
            ]
          },
          "metadata": {
            "tags": []
          },
          "execution_count": 129
        }
      ]
    },
    {
      "cell_type": "code",
      "metadata": {
        "id": "Oeb4BpcMoOi2",
        "colab_type": "code",
        "colab": {}
      },
      "source": [
        "#combined function for creating a db and then fetching required lists of paralle dbs\n",
        "def create_db_and_paralleldbs(entries):\n",
        "  db = torch.rand(entries) > 0.5\n",
        "  pdbs = get_parallel_dbs(db)\n",
        "  return db, pdbs\n",
        "  "
      ],
      "execution_count": 0,
      "outputs": []
    },
    {
      "cell_type": "code",
      "metadata": {
        "id": "ulSr1_-0o-7C",
        "colab_type": "code",
        "colab": {}
      },
      "source": [
        "db, pdbs = create_db_and_paralleldbs(20)"
      ],
      "execution_count": 0,
      "outputs": []
    },
    {
      "cell_type": "code",
      "metadata": {
        "id": "1Y0lAcotpE_d",
        "colab_type": "code",
        "outputId": "4d8b7e5e-b57b-46ae-d1b1-d6464ba7184d",
        "colab": {
          "base_uri": "https://localhost:8080/",
          "height": 52
        }
      },
      "source": [
        "db"
      ],
      "execution_count": 0,
      "outputs": [
        {
          "output_type": "execute_result",
          "data": {
            "text/plain": [
              "tensor([0, 1, 0, 1, 1, 0, 1, 0, 0, 1, 0, 0, 1, 1, 0, 1, 0, 1, 1, 0],\n",
              "       dtype=torch.uint8)"
            ]
          },
          "metadata": {
            "tags": []
          },
          "execution_count": 132
        }
      ]
    },
    {
      "cell_type": "code",
      "metadata": {
        "id": "r5x7BF-zpGRR",
        "colab_type": "code",
        "outputId": "e211db8a-a9d4-4440-e4e8-8d1f94989591",
        "colab": {
          "base_uri": "https://localhost:8080/",
          "height": 721
        }
      },
      "source": [
        "pdbs"
      ],
      "execution_count": 0,
      "outputs": [
        {
          "output_type": "execute_result",
          "data": {
            "text/plain": [
              "[tensor([1, 0, 1, 1, 0, 1, 0, 0, 1, 0, 0, 1, 1, 0, 1, 0, 1, 1, 0],\n",
              "        dtype=torch.uint8),\n",
              " tensor([0, 0, 1, 1, 0, 1, 0, 0, 1, 0, 0, 1, 1, 0, 1, 0, 1, 1, 0],\n",
              "        dtype=torch.uint8),\n",
              " tensor([0, 1, 1, 1, 0, 1, 0, 0, 1, 0, 0, 1, 1, 0, 1, 0, 1, 1, 0],\n",
              "        dtype=torch.uint8),\n",
              " tensor([0, 1, 0, 1, 0, 1, 0, 0, 1, 0, 0, 1, 1, 0, 1, 0, 1, 1, 0],\n",
              "        dtype=torch.uint8),\n",
              " tensor([0, 1, 0, 1, 0, 1, 0, 0, 1, 0, 0, 1, 1, 0, 1, 0, 1, 1, 0],\n",
              "        dtype=torch.uint8),\n",
              " tensor([0, 1, 0, 1, 1, 1, 0, 0, 1, 0, 0, 1, 1, 0, 1, 0, 1, 1, 0],\n",
              "        dtype=torch.uint8),\n",
              " tensor([0, 1, 0, 1, 1, 0, 0, 0, 1, 0, 0, 1, 1, 0, 1, 0, 1, 1, 0],\n",
              "        dtype=torch.uint8),\n",
              " tensor([0, 1, 0, 1, 1, 0, 1, 0, 1, 0, 0, 1, 1, 0, 1, 0, 1, 1, 0],\n",
              "        dtype=torch.uint8),\n",
              " tensor([0, 1, 0, 1, 1, 0, 1, 0, 1, 0, 0, 1, 1, 0, 1, 0, 1, 1, 0],\n",
              "        dtype=torch.uint8),\n",
              " tensor([0, 1, 0, 1, 1, 0, 1, 0, 0, 0, 0, 1, 1, 0, 1, 0, 1, 1, 0],\n",
              "        dtype=torch.uint8),\n",
              " tensor([0, 1, 0, 1, 1, 0, 1, 0, 0, 1, 0, 1, 1, 0, 1, 0, 1, 1, 0],\n",
              "        dtype=torch.uint8),\n",
              " tensor([0, 1, 0, 1, 1, 0, 1, 0, 0, 1, 0, 1, 1, 0, 1, 0, 1, 1, 0],\n",
              "        dtype=torch.uint8),\n",
              " tensor([0, 1, 0, 1, 1, 0, 1, 0, 0, 1, 0, 0, 1, 0, 1, 0, 1, 1, 0],\n",
              "        dtype=torch.uint8),\n",
              " tensor([0, 1, 0, 1, 1, 0, 1, 0, 0, 1, 0, 0, 1, 0, 1, 0, 1, 1, 0],\n",
              "        dtype=torch.uint8),\n",
              " tensor([0, 1, 0, 1, 1, 0, 1, 0, 0, 1, 0, 0, 1, 1, 1, 0, 1, 1, 0],\n",
              "        dtype=torch.uint8),\n",
              " tensor([0, 1, 0, 1, 1, 0, 1, 0, 0, 1, 0, 0, 1, 1, 0, 0, 1, 1, 0],\n",
              "        dtype=torch.uint8),\n",
              " tensor([0, 1, 0, 1, 1, 0, 1, 0, 0, 1, 0, 0, 1, 1, 0, 1, 1, 1, 0],\n",
              "        dtype=torch.uint8),\n",
              " tensor([0, 1, 0, 1, 1, 0, 1, 0, 0, 1, 0, 0, 1, 1, 0, 1, 0, 1, 0],\n",
              "        dtype=torch.uint8),\n",
              " tensor([0, 1, 0, 1, 1, 0, 1, 0, 0, 1, 0, 0, 1, 1, 0, 1, 0, 1, 0],\n",
              "        dtype=torch.uint8),\n",
              " tensor([0, 1, 0, 1, 1, 0, 1, 0, 0, 1, 0, 0, 1, 1, 0, 1, 0, 1, 1],\n",
              "        dtype=torch.uint8)]"
            ]
          },
          "metadata": {
            "tags": []
          },
          "execution_count": 133
        }
      ]
    },
    {
      "cell_type": "code",
      "metadata": {
        "id": "nzh9hPFhuQil",
        "colab_type": "code",
        "colab": {}
      },
      "source": [
        ""
      ],
      "execution_count": 0,
      "outputs": []
    }
  ]
}
