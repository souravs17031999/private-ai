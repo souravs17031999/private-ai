{
  "nbformat": 4,
  "nbformat_minor": 0,
  "metadata": {
    "colab": {
      "name": "federated_learning_project.ipynb",
      "version": "0.3.2",
      "provenance": [],
      "include_colab_link": true
    },
    "kernelspec": {
      "name": "python3",
      "display_name": "Python 3"
    }
  },
  "cells": [
    {
      "cell_type": "markdown",
      "metadata": {
        "id": "view-in-github",
        "colab_type": "text"
      },
      "source": [
        "<a href=\"https://colab.research.google.com/github/souravs17031999/private-ai/blob/master/federated_learning_project_remote_arithmetic.ipynb\" target=\"_parent\"><img src=\"https://colab.research.google.com/assets/colab-badge.svg\" alt=\"Open In Colab\"/></a>"
      ]
    },
    {
      "cell_type": "markdown",
      "metadata": {
        "id": "G_jKleNJuOc4",
        "colab_type": "text"
      },
      "source": [
        "# Project IX\n",
        "## So, it's time to get started with PySyft and Federated Learning"
      ]
    },
    {
      "cell_type": "markdown",
      "metadata": {
        "id": "CiAffNkVLGJO",
        "colab_type": "text"
      },
      "source": [
        "The idea of federated learning is that in order for machines to learn about data , the data now need not move from data to some kind of central server but now a model made at server can now go to local devices (remote machines) and then train the model to their local dataset and then update the model and send it back to the server.\n",
        "This allows us to save the data from leakage , save bandwidth , more improved models as more  training examples as millions of devices (remotly) connect with servers."
      ]
    },
    {
      "cell_type": "markdown",
      "metadata": {
        "id": "FLet8bRfL2FY",
        "colab_type": "text"
      },
      "source": [
        "Let's first install syft."
      ]
    },
    {
      "cell_type": "code",
      "metadata": {
        "id": "YoOeUHtFupt3",
        "colab_type": "code",
        "colab": {}
      },
      "source": [
        "pip install syft"
      ],
      "execution_count": 0,
      "outputs": []
    },
    {
      "cell_type": "code",
      "metadata": {
        "id": "fKQPwtqEKKE0",
        "colab_type": "code",
        "colab": {}
      },
      "source": [
        "import torch as th\n",
        "import syft as sy"
      ],
      "execution_count": 0,
      "outputs": []
    },
    {
      "cell_type": "markdown",
      "metadata": {
        "id": "t_lPtt_wM-9f",
        "colab_type": "text"
      },
      "source": [
        "Let's now create hook which modifies pysyft for pytorch and gives all its functionality to be used with pytorch."
      ]
    },
    {
      "cell_type": "code",
      "metadata": {
        "id": "7dK-76myueXz",
        "colab_type": "code",
        "colab": {
          "base_uri": "https://localhost:8080/",
          "height": 34
        },
        "outputId": "dfe92541-de34-4c73-81f8-07f42fa8d670"
      },
      "source": [
        "hook = sy.TorchHook(th)"
      ],
      "execution_count": 53,
      "outputs": [
        {
          "output_type": "stream",
          "text": [
            "W0706 08:25:38.096700 140272010098560 hook.py:98] Torch was already hooked... skipping hooking process\n"
          ],
          "name": "stderr"
        }
      ]
    },
    {
      "cell_type": "markdown",
      "metadata": {
        "id": "qRmixSNlNMoM",
        "colab_type": "text"
      },
      "source": [
        "so, to connect and to be able to do operations on remote tensors located on remoted machines, to get and set them , we need some kind of interface to connect our server with the local remote device/machine.\n",
        "There comes , concept of worker , which facilitates this interface and allows us to perform all the operations on remote tensors.\n",
        "Let's create them and play around with them.\n",
        "whatever we will get and send all will work with and through pointers."
      ]
    },
    {
      "cell_type": "code",
      "metadata": {
        "id": "4WXXL28Ezcve",
        "colab_type": "code",
        "colab": {}
      },
      "source": [
        "bob = sy.VirtualWorker(hook, id = \"bob\")  # this creates our first worker named id as bob\n",
        "\n"
      ],
      "execution_count": 0,
      "outputs": []
    },
    {
      "cell_type": "code",
      "metadata": {
        "id": "JO3CD-oQN1NZ",
        "colab_type": "code",
        "colab": {
          "base_uri": "https://localhost:8080/",
          "height": 34
        },
        "outputId": "4eecd3dd-0b7d-49d8-b512-8d6a77a00d03"
      },
      "source": [
        "bob._objects"
      ],
      "execution_count": 55,
      "outputs": [
        {
          "output_type": "execute_result",
          "data": {
            "text/plain": [
              "{}"
            ]
          },
          "metadata": {
            "tags": []
          },
          "execution_count": 55
        }
      ]
    },
    {
      "cell_type": "code",
      "metadata": {
        "id": "rJ-8hycdN4qu",
        "colab_type": "code",
        "colab": {}
      },
      "source": [
        "x = th.tensor([1, 2, 3, 4, 5]) # let's create the tensor required to be sent to our worker - \"bob\"\n",
        "x = x.send(bob) # sending to bob"
      ],
      "execution_count": 0,
      "outputs": []
    },
    {
      "cell_type": "code",
      "metadata": {
        "id": "sNzTDc72P6Vr",
        "colab_type": "code",
        "colab": {
          "base_uri": "https://localhost:8080/",
          "height": 34
        },
        "outputId": "b7473d93-f5b1-47cf-f47f-7e50f635e52a"
      },
      "source": [
        "x # pointer from my machine to bob "
      ],
      "execution_count": 57,
      "outputs": [
        {
          "output_type": "execute_result",
          "data": {
            "text/plain": [
              "(Wrapper)>[PointerTensor | me:51685196821 -> bob:97523591780]"
            ]
          },
          "metadata": {
            "tags": []
          },
          "execution_count": 57
        }
      ]
    },
    {
      "cell_type": "code",
      "metadata": {
        "id": "9OTUsMVLOGNz",
        "colab_type": "code",
        "colab": {
          "base_uri": "https://localhost:8080/",
          "height": 34
        },
        "outputId": "568ef3d2-bf24-4d86-d5f0-6df3365e11d8"
      },
      "source": [
        "bob._objects # now bob has those tensors"
      ],
      "execution_count": 58,
      "outputs": [
        {
          "output_type": "execute_result",
          "data": {
            "text/plain": [
              "{97523591780: tensor([1, 2, 3, 4, 5])}"
            ]
          },
          "metadata": {
            "tags": []
          },
          "execution_count": 58
        }
      ]
    },
    {
      "cell_type": "markdown",
      "metadata": {
        "id": "Zxbn9Mo9O42X",
        "colab_type": "text"
      },
      "source": [
        "Now , x has two meta data - its location and id at location which identifies the worker"
      ]
    },
    {
      "cell_type": "code",
      "metadata": {
        "id": "zXnwNp8JO2wD",
        "colab_type": "code",
        "colab": {
          "base_uri": "https://localhost:8080/",
          "height": 34
        },
        "outputId": "b9655ce2-3bc1-4100-e669-ad92a8490750"
      },
      "source": [
        "x.location"
      ],
      "execution_count": 59,
      "outputs": [
        {
          "output_type": "execute_result",
          "data": {
            "text/plain": [
              "<VirtualWorker id:bob #objects:1>"
            ]
          },
          "metadata": {
            "tags": []
          },
          "execution_count": 59
        }
      ]
    },
    {
      "cell_type": "code",
      "metadata": {
        "id": "jbDRyq0AOWgj",
        "colab_type": "code",
        "colab": {
          "base_uri": "https://localhost:8080/",
          "height": 34
        },
        "outputId": "de526772-d316-444d-8f7d-4f1244623f8a"
      },
      "source": [
        "x.id_at_location\n"
      ],
      "execution_count": 60,
      "outputs": [
        {
          "output_type": "execute_result",
          "data": {
            "text/plain": [
              "97523591780"
            ]
          },
          "metadata": {
            "tags": []
          },
          "execution_count": 60
        }
      ]
    },
    {
      "cell_type": "code",
      "metadata": {
        "id": "mNmNW6_sOo32",
        "colab_type": "code",
        "colab": {
          "base_uri": "https://localhost:8080/",
          "height": 34
        },
        "outputId": "ce28a0be-a62d-4c58-eae7-e015e4e5907e"
      },
      "source": [
        "x.id"
      ],
      "execution_count": 61,
      "outputs": [
        {
          "output_type": "execute_result",
          "data": {
            "text/plain": [
              "51685196821"
            ]
          },
          "metadata": {
            "tags": []
          },
          "execution_count": 61
        }
      ]
    },
    {
      "cell_type": "code",
      "metadata": {
        "id": "shU-KXzcO__0",
        "colab_type": "code",
        "colab": {
          "base_uri": "https://localhost:8080/",
          "height": 34
        },
        "outputId": "17d622a0-e7c0-4b1a-c319-d93748e2a450"
      },
      "source": [
        "x.owner # by default we are the owner of this tensor x , it means everytime we hook torch to pysyft , there is already a virtual worker created at that time\n"
      ],
      "execution_count": 62,
      "outputs": [
        {
          "output_type": "execute_result",
          "data": {
            "text/plain": [
              "<VirtualWorker id:me #objects:0>"
            ]
          },
          "metadata": {
            "tags": []
          },
          "execution_count": 62
        }
      ]
    },
    {
      "cell_type": "code",
      "metadata": {
        "id": "nBw5O37YPnXC",
        "colab_type": "code",
        "colab": {
          "base_uri": "https://localhost:8080/",
          "height": 34
        },
        "outputId": "1e62155a-b278-4074-9718-bee896b16f0c"
      },
      "source": [
        "hook.local_worker\n"
      ],
      "execution_count": 63,
      "outputs": [
        {
          "output_type": "execute_result",
          "data": {
            "text/plain": [
              "<VirtualWorker id:me #objects:0>"
            ]
          },
          "metadata": {
            "tags": []
          },
          "execution_count": 63
        }
      ]
    },
    {
      "cell_type": "code",
      "metadata": {
        "id": "60zr2jDjPFnU",
        "colab_type": "code",
        "colab": {
          "base_uri": "https://localhost:8080/",
          "height": 34
        },
        "outputId": "b50f6b1a-3bae-49a2-b933-479658d3a248"
      },
      "source": [
        "x.get() # now we are taking back the tensor from bob"
      ],
      "execution_count": 64,
      "outputs": [
        {
          "output_type": "execute_result",
          "data": {
            "text/plain": [
              "tensor([1, 2, 3, 4, 5])"
            ]
          },
          "metadata": {
            "tags": []
          },
          "execution_count": 64
        }
      ]
    },
    {
      "cell_type": "code",
      "metadata": {
        "id": "NujmZGr1Pv14",
        "colab_type": "code",
        "colab": {
          "base_uri": "https://localhost:8080/",
          "height": 34
        },
        "outputId": "c4c78d4c-7b54-4795-b852-c440440ece70"
      },
      "source": [
        "bob._objects # now bob has nothing !"
      ],
      "execution_count": 65,
      "outputs": [
        {
          "output_type": "execute_result",
          "data": {
            "text/plain": [
              "{}"
            ]
          },
          "metadata": {
            "tags": []
          },
          "execution_count": 65
        }
      ]
    },
    {
      "cell_type": "markdown",
      "metadata": {
        "id": "A1lrvHDNY1MU",
        "colab_type": "text"
      },
      "source": [
        "Let's create two virtual workers ! bob and alice - "
      ]
    },
    {
      "cell_type": "code",
      "metadata": {
        "id": "bh4WbYtqY6Qz",
        "colab_type": "code",
        "colab": {}
      },
      "source": [
        "bob = sy.VirtualWorker(hook, id = \"bob\") # first worker\n",
        "alice = sy.VirtualWorker(hook, id = \"alice\") # second worker\n",
        "x = th.tensor([1, 2, 3, 4, 5])"
      ],
      "execution_count": 0,
      "outputs": []
    },
    {
      "cell_type": "code",
      "metadata": {
        "id": "9HRFE_U4aI0w",
        "colab_type": "code",
        "colab": {}
      },
      "source": [
        "x = x.send(bob, alice) # sending multiple workers at a time "
      ],
      "execution_count": 0,
      "outputs": []
    },
    {
      "cell_type": "code",
      "metadata": {
        "id": "xeiIv3a-aQbb",
        "colab_type": "code",
        "colab": {
          "base_uri": "https://localhost:8080/",
          "height": 70
        },
        "outputId": "40d1e76d-aa08-46a0-c162-1a7e7022cbf4"
      },
      "source": [
        "x # multipoint tensor which points to different machines"
      ],
      "execution_count": 76,
      "outputs": [
        {
          "output_type": "execute_result",
          "data": {
            "text/plain": [
              "(Wrapper)>[MultiPointerTensor]\n",
              "\t-> (Wrapper)>[PointerTensor | me:53459958730 -> bob:56727341380]\n",
              "\t-> (Wrapper)>[PointerTensor | me:64200850796 -> alice:80927549445]"
            ]
          },
          "metadata": {
            "tags": []
          },
          "execution_count": 76
        }
      ]
    },
    {
      "cell_type": "code",
      "metadata": {
        "id": "Kh8RRjd4aTY3",
        "colab_type": "code",
        "colab": {
          "base_uri": "https://localhost:8080/",
          "height": 34
        },
        "outputId": "dcc207a1-1486-4f3c-b7b2-4a16aa5b1242"
      },
      "source": [
        "bob._objects # checking bob objects"
      ],
      "execution_count": 77,
      "outputs": [
        {
          "output_type": "execute_result",
          "data": {
            "text/plain": [
              "{11232225584: tensor([]), 56727341380: tensor([1, 2, 3, 4, 5])}"
            ]
          },
          "metadata": {
            "tags": []
          },
          "execution_count": 77
        }
      ]
    },
    {
      "cell_type": "code",
      "metadata": {
        "id": "XF9kTuRAao7N",
        "colab_type": "code",
        "colab": {
          "base_uri": "https://localhost:8080/",
          "height": 34
        },
        "outputId": "46c91edc-7fb0-44ba-ebe8-daf17281701a"
      },
      "source": [
        "alice._objects # checking alice objects"
      ],
      "execution_count": 78,
      "outputs": [
        {
          "output_type": "execute_result",
          "data": {
            "text/plain": [
              "{72669233561: tensor([]), 80927549445: tensor([1, 2, 3, 4, 5])}"
            ]
          },
          "metadata": {
            "tags": []
          },
          "execution_count": 78
        }
      ]
    },
    {
      "cell_type": "code",
      "metadata": {
        "id": "wylN8QlZaush",
        "colab_type": "code",
        "colab": {
          "base_uri": "https://localhost:8080/",
          "height": 34
        },
        "outputId": "0f813809-e38f-4e3e-8893-2a0e5851964d"
      },
      "source": [
        "x.get() # getting both tensors at a time"
      ],
      "execution_count": 79,
      "outputs": [
        {
          "output_type": "execute_result",
          "data": {
            "text/plain": [
              "[tensor([1, 2, 3, 4, 5]), tensor([1, 2, 3, 4, 5])]"
            ]
          },
          "metadata": {
            "tags": []
          },
          "execution_count": 79
        }
      ]
    },
    {
      "cell_type": "code",
      "metadata": {
        "id": "JAWAHC92axT_",
        "colab_type": "code",
        "colab": {
          "base_uri": "https://localhost:8080/",
          "height": 34
        },
        "outputId": "f44a96f7-1b52-4fb1-8c75-a233cd8fbe1e"
      },
      "source": [
        "bob._objects # now objects should not contain tensors"
      ],
      "execution_count": 80,
      "outputs": [
        {
          "output_type": "execute_result",
          "data": {
            "text/plain": [
              "{11232225584: tensor([])}"
            ]
          },
          "metadata": {
            "tags": []
          },
          "execution_count": 80
        }
      ]
    },
    {
      "cell_type": "code",
      "metadata": {
        "id": "pgW7LPxMaz0P",
        "colab_type": "code",
        "colab": {
          "base_uri": "https://localhost:8080/",
          "height": 34
        },
        "outputId": "f9b331b0-36ab-4303-908f-a102206a2871"
      },
      "source": [
        "alice._objects # similar for this "
      ],
      "execution_count": 82,
      "outputs": [
        {
          "output_type": "execute_result",
          "data": {
            "text/plain": [
              "{72669233561: tensor([])}"
            ]
          },
          "metadata": {
            "tags": []
          },
          "execution_count": 82
        }
      ]
    },
    {
      "cell_type": "code",
      "metadata": {
        "id": "4hvedKsZrJ2y",
        "colab_type": "code",
        "colab": {}
      },
      "source": [
        "x = th.tensor([1, 2, 3, 4, 5]).send(bob, alice) "
      ],
      "execution_count": 0,
      "outputs": []
    },
    {
      "cell_type": "code",
      "metadata": {
        "id": "aABpnDM1rT6p",
        "colab_type": "code",
        "colab": {}
      },
      "source": [
        "z = x.get(sum_results = True)"
      ],
      "execution_count": 0,
      "outputs": []
    },
    {
      "cell_type": "code",
      "metadata": {
        "id": "GdLTBFq3tsIU",
        "colab_type": "code",
        "colab": {
          "base_uri": "https://localhost:8080/",
          "height": 34
        },
        "outputId": "34fae481-ee9e-40f2-af41-4c5ef52e4e2e"
      },
      "source": [
        "z"
      ],
      "execution_count": 91,
      "outputs": [
        {
          "output_type": "execute_result",
          "data": {
            "text/plain": [
              "tensor([ 2,  4,  6,  8, 10])"
            ]
          },
          "metadata": {
            "tags": []
          },
          "execution_count": 91
        }
      ]
    },
    {
      "cell_type": "markdown",
      "metadata": {
        "id": "S1QyiAHkwn2_",
        "colab_type": "text"
      },
      "source": [
        "Let's do some remote aritmetic on tensors"
      ]
    },
    {
      "cell_type": "code",
      "metadata": {
        "id": "3euQ-dNGuhAs",
        "colab_type": "code",
        "colab": {}
      },
      "source": [
        "# Two different tensors send to bob as if we will send two tensors to different workers , we can't do operations on both of them \n",
        "x = th.tensor([1,2,3,4,5]).send(bob) \n",
        "y = th.tensor([1,1,1,1,1]).send(bob)"
      ],
      "execution_count": 0,
      "outputs": []
    },
    {
      "cell_type": "code",
      "metadata": {
        "id": "wmsFcOBGwnQG",
        "colab_type": "code",
        "colab": {
          "base_uri": "https://localhost:8080/",
          "height": 34
        },
        "outputId": "bbc048eb-be0f-440e-bb1c-4e4f65ec2848"
      },
      "source": [
        "x"
      ],
      "execution_count": 94,
      "outputs": [
        {
          "output_type": "execute_result",
          "data": {
            "text/plain": [
              "(Wrapper)>[PointerTensor | me:51583300043 -> bob:22761749523]"
            ]
          },
          "metadata": {
            "tags": []
          },
          "execution_count": 94
        }
      ]
    },
    {
      "cell_type": "code",
      "metadata": {
        "id": "BqSVqgj5xTD8",
        "colab_type": "code",
        "colab": {
          "base_uri": "https://localhost:8080/",
          "height": 34
        },
        "outputId": "f9db4f46-04eb-4eb4-ac6f-16a30a0e8f45"
      },
      "source": [
        "y"
      ],
      "execution_count": 95,
      "outputs": [
        {
          "output_type": "execute_result",
          "data": {
            "text/plain": [
              "(Wrapper)>[PointerTensor | me:35015651872 -> bob:64525715631]"
            ]
          },
          "metadata": {
            "tags": []
          },
          "execution_count": 95
        }
      ]
    },
    {
      "cell_type": "code",
      "metadata": {
        "id": "DM2ylDDuxUJs",
        "colab_type": "code",
        "colab": {}
      },
      "source": [
        "z = x + y"
      ],
      "execution_count": 0,
      "outputs": []
    },
    {
      "cell_type": "code",
      "metadata": {
        "id": "NaLcW8XSxZik",
        "colab_type": "code",
        "colab": {
          "base_uri": "https://localhost:8080/",
          "height": 34
        },
        "outputId": "1a9ec532-d208-4eff-c8d4-c3267876d415"
      },
      "source": [
        "z"
      ],
      "execution_count": 97,
      "outputs": [
        {
          "output_type": "execute_result",
          "data": {
            "text/plain": [
              "(Wrapper)>[PointerTensor | me:12617089070 -> bob:66469428747]"
            ]
          },
          "metadata": {
            "tags": []
          },
          "execution_count": 97
        }
      ]
    },
    {
      "cell_type": "code",
      "metadata": {
        "id": "j-oJYv4gxdPC",
        "colab_type": "code",
        "colab": {
          "base_uri": "https://localhost:8080/",
          "height": 34
        },
        "outputId": "32824d5b-4325-4b32-e519-0d08b329d332"
      },
      "source": [
        "z = z.get()\n",
        "z"
      ],
      "execution_count": 98,
      "outputs": [
        {
          "output_type": "execute_result",
          "data": {
            "text/plain": [
              "tensor([2, 3, 4, 5, 6])"
            ]
          },
          "metadata": {
            "tags": []
          },
          "execution_count": 98
        }
      ]
    },
    {
      "cell_type": "markdown",
      "metadata": {
        "id": "e2Z0xz0axlUO",
        "colab_type": "text"
      },
      "source": [
        "Simple backpropogation steps in pysyft"
      ]
    },
    {
      "cell_type": "code",
      "metadata": {
        "id": "3rVwS3wzxgqg",
        "colab_type": "code",
        "colab": {}
      },
      "source": [
        "x = th.tensor([1.,2,3,4,5], requires_grad=True).send(bob)\n",
        "y = th.tensor([1.,1,1,1,1], requires_grad=True).send(bob)"
      ],
      "execution_count": 0,
      "outputs": []
    },
    {
      "cell_type": "code",
      "metadata": {
        "id": "RU84GmzBxtqN",
        "colab_type": "code",
        "colab": {
          "base_uri": "https://localhost:8080/",
          "height": 34
        },
        "outputId": "2f8f0fee-a7b7-4cbc-f6a0-460e0ef82d38"
      },
      "source": [
        "z = (x + y).sum()\n",
        "z.backward()\n"
      ],
      "execution_count": 105,
      "outputs": [
        {
          "output_type": "execute_result",
          "data": {
            "text/plain": [
              "(Wrapper)>[PointerTensor | me:51984582036 -> bob:33746314282]"
            ]
          },
          "metadata": {
            "tags": []
          },
          "execution_count": 105
        }
      ]
    },
    {
      "cell_type": "code",
      "metadata": {
        "id": "6YGOGeCax0I1",
        "colab_type": "code",
        "colab": {
          "base_uri": "https://localhost:8080/",
          "height": 34
        },
        "outputId": "27d3332b-2d33-48c6-c8a5-23a2dc70cd52"
      },
      "source": [
        "x = x.get()\n",
        "x"
      ],
      "execution_count": 106,
      "outputs": [
        {
          "output_type": "execute_result",
          "data": {
            "text/plain": [
              "tensor([1., 2., 3., 4., 5.], requires_grad=True)"
            ]
          },
          "metadata": {
            "tags": []
          },
          "execution_count": 106
        }
      ]
    },
    {
      "cell_type": "code",
      "metadata": {
        "id": "5xacetEZx6iv",
        "colab_type": "code",
        "colab": {
          "base_uri": "https://localhost:8080/",
          "height": 34
        },
        "outputId": "97774bd8-4723-4225-a89b-b41d3adfba55"
      },
      "source": [
        "x.grad\n"
      ],
      "execution_count": 107,
      "outputs": [
        {
          "output_type": "execute_result",
          "data": {
            "text/plain": [
              "tensor([1., 1., 1., 1., 1.])"
            ]
          },
          "metadata": {
            "tags": []
          },
          "execution_count": 107
        }
      ]
    },
    {
      "cell_type": "code",
      "metadata": {
        "id": "o1lqnExMyVyj",
        "colab_type": "code",
        "colab": {}
      },
      "source": [
        "y = y.get()"
      ],
      "execution_count": 0,
      "outputs": []
    },
    {
      "cell_type": "code",
      "metadata": {
        "id": "bJ3pRh0fyYKw",
        "colab_type": "code",
        "colab": {
          "base_uri": "https://localhost:8080/",
          "height": 34
        },
        "outputId": "ed605f74-469f-4076-c83e-93eb15500731"
      },
      "source": [
        "y"
      ],
      "execution_count": 109,
      "outputs": [
        {
          "output_type": "execute_result",
          "data": {
            "text/plain": [
              "tensor([1., 1., 1., 1., 1.], requires_grad=True)"
            ]
          },
          "metadata": {
            "tags": []
          },
          "execution_count": 109
        }
      ]
    },
    {
      "cell_type": "code",
      "metadata": {
        "id": "VJYzIgMpyZD5",
        "colab_type": "code",
        "colab": {
          "base_uri": "https://localhost:8080/",
          "height": 34
        },
        "outputId": "35609bae-2ddd-4a74-8fa0-f2473062984e"
      },
      "source": [
        "y.grad"
      ],
      "execution_count": 110,
      "outputs": [
        {
          "output_type": "execute_result",
          "data": {
            "text/plain": [
              "tensor([1., 1., 1., 1., 1.])"
            ]
          },
          "metadata": {
            "tags": []
          },
          "execution_count": 110
        }
      ]
    },
    {
      "cell_type": "code",
      "metadata": {
        "id": "jaU8HPSdycYF",
        "colab_type": "code",
        "colab": {
          "base_uri": "https://localhost:8080/",
          "height": 34
        },
        "outputId": "c9e68c15-5b3a-4abe-ccbf-77b79c52a3ca"
      },
      "source": [
        "z"
      ],
      "execution_count": 113,
      "outputs": [
        {
          "output_type": "execute_result",
          "data": {
            "text/plain": [
              "(Wrapper)>[PointerTensor | me:99126214757 -> bob:1206692804]"
            ]
          },
          "metadata": {
            "tags": []
          },
          "execution_count": 113
        }
      ]
    }
  ]
}