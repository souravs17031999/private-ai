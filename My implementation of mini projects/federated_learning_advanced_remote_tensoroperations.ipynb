{
  "nbformat": 4,
  "nbformat_minor": 0,
  "metadata": {
    "colab": {
      "name": "federated_learning_advanced_remote_tensoroperations.ipynb",
      "version": "0.3.2",
      "provenance": [],
      "collapsed_sections": [],
      "include_colab_link": true
    },
    "kernelspec": {
      "name": "python3",
      "display_name": "Python 3"
    },
    "accelerator": "GPU"
  },
  "cells": [
    {
      "cell_type": "markdown",
      "metadata": {
        "id": "view-in-github",
        "colab_type": "text"
      },
      "source": [
        "<a href=\"https://colab.research.google.com/github/souravs17031999/private-ai/blob/master/federated_learning_advanced_remote_tensoroperations.ipynb\" target=\"_parent\"><img src=\"https://colab.research.google.com/assets/colab-badge.svg\" alt=\"Open In Colab\"/></a>"
      ]
    },
    {
      "cell_type": "markdown",
      "metadata": {
        "id": "FdI9a5N6rp7D",
        "colab_type": "text"
      },
      "source": [
        "# PROJECT - XI\n",
        "## TO IMPLEMENT FEDERATED LEARNING ON TOY DATABASE \n",
        "\n",
        "### First we are going to train our model simply using toy dataset and then we will apply federated learning , thus using virtual workers to train our model on remote machines and simulate the training.\n",
        "\n",
        "### Secondly , we will then try to move data from one remote worker to another without touching the data itself."
      ]
    },
    {
      "cell_type": "code",
      "metadata": {
        "id": "TbnGQxgviorc",
        "colab_type": "code",
        "colab": {}
      },
      "source": [
        "#Let's first install pysyft and import our packages\n",
        "pip install syft"
      ],
      "execution_count": 0,
      "outputs": []
    },
    {
      "cell_type": "code",
      "metadata": {
        "id": "_7tltPNpk4op",
        "colab_type": "code",
        "outputId": "204714c0-1a7d-4d3a-f572-2e20fe01d45e",
        "colab": {
          "base_uri": "https://localhost:8080/",
          "height": 107
        }
      },
      "source": [
        "import torch as th\n",
        "import numpy as np\n",
        "import syft as sy\n",
        "from torch import nn, optim"
      ],
      "execution_count": 3,
      "outputs": [
        {
          "output_type": "stream",
          "text": [
            "WARNING: Logging before flag parsing goes to stderr.\n",
            "W0709 11:54:47.674025 139751490951040 secure_random.py:26] Falling back to insecure randomness since the required custom op could not be found for the installed version of TensorFlow. Fix this by compiling custom ops. Missing file was '/usr/local/lib/python3.6/dist-packages/tf_encrypted/operations/secure_random/secure_random_module_tf_1.14.0.so'\n",
            "W0709 11:54:47.694105 139751490951040 deprecation_wrapper.py:119] From /usr/local/lib/python3.6/dist-packages/tf_encrypted/session.py:26: The name tf.Session is deprecated. Please use tf.compat.v1.Session instead.\n",
            "\n"
          ],
          "name": "stderr"
        }
      ]
    },
    {
      "cell_type": "code",
      "metadata": {
        "id": "jabM5-50lC-2",
        "colab_type": "code",
        "colab": {}
      },
      "source": [
        "hook = sy.TorchHook(th)\n"
      ],
      "execution_count": 0,
      "outputs": []
    },
    {
      "cell_type": "markdown",
      "metadata": {
        "id": "Q2BBqwPAsF9v",
        "colab_type": "text"
      },
      "source": [
        "So, firstly , we will train the simple linear model on our local machine but his time \"using optimizers\""
      ]
    },
    {
      "cell_type": "markdown",
      "metadata": {
        "id": "3JjxLART8VCp",
        "colab_type": "text"
      },
      "source": [
        "Let's create simple toy dataset including the data as well their labels."
      ]
    },
    {
      "cell_type": "code",
      "metadata": {
        "id": "zUPUAf9VlHLc",
        "colab_type": "code",
        "colab": {}
      },
      "source": [
        "data = th.tensor([[1.,1],[0,1],[1,0],[0,0]], requires_grad=True)\n",
        "target = th.tensor([[1.],[1], [0], [0]], requires_grad=True)"
      ],
      "execution_count": 0,
      "outputs": []
    },
    {
      "cell_type": "markdown",
      "metadata": {
        "id": "lzk1QOIe8k2g",
        "colab_type": "text"
      },
      "source": [
        "Do you see we have written inside tensor like this - [1., 1] , [0, 1] and so the 'dot' represented in the first one will convert the whole tensor into float tensor implicitly."
      ]
    },
    {
      "cell_type": "code",
      "metadata": {
        "id": "vt2M8xtQ8cis",
        "colab_type": "code",
        "outputId": "6f052c98-f19b-42d6-9fe6-47cb5b346e2a",
        "colab": {
          "base_uri": "https://localhost:8080/",
          "height": 52
        }
      },
      "source": [
        "print(data.dtype)\n",
        "print(target.dtype)"
      ],
      "execution_count": 6,
      "outputs": [
        {
          "output_type": "stream",
          "text": [
            "torch.float32\n",
            "torch.float32\n"
          ],
          "name": "stdout"
        }
      ]
    },
    {
      "cell_type": "code",
      "metadata": {
        "id": "ev3ODoiw854-",
        "colab_type": "code",
        "colab": {}
      },
      "source": [
        "# define the model as it contains only two inputs and one output so we need only one linear layer \n",
        "model = nn.Linear(2, 1)"
      ],
      "execution_count": 0,
      "outputs": []
    },
    {
      "cell_type": "code",
      "metadata": {
        "id": "2bUhN3W09PeS",
        "colab_type": "code",
        "colab": {}
      },
      "source": [
        "# let's use here SGD optimizer\n",
        "optimizer = optim.SGD(params=model.parameters(), lr=0.1)"
      ],
      "execution_count": 0,
      "outputs": []
    },
    {
      "cell_type": "code",
      "metadata": {
        "id": "YlE3hYEj9fdO",
        "colab_type": "code",
        "colab": {}
      },
      "source": [
        "# let's define a function for training loop\n",
        "def train(epochs):\n",
        "  avg_loss = []\n",
        "  for e in range(epochs): # iterating over the entire data \n",
        "    optimizer.zero_grad()   # clearing the gradients\n",
        "    pred = model(data)   # calcualting output of model \n",
        "    loss = ((pred - target)**2).sum()  # calculating loss (mistakes)\n",
        "    loss.backward()  # calculating gradients of error / loss function \n",
        "    optimizer.step()  # taking step in negative of gradient , gradient descent step\n",
        "    print(loss.data)  # printing training loss / mistakes \n",
        "    avg_loss.append(loss.data)\n",
        "  print(f\"avg loss : {sum(avg_loss)/len(avg_loss)}\")"
      ],
      "execution_count": 0,
      "outputs": []
    },
    {
      "cell_type": "code",
      "metadata": {
        "id": "i4XSU_gy97CZ",
        "colab_type": "code",
        "outputId": "9c5e0b4a-780a-4af2-d6b4-4acfe198b7cf",
        "colab": {
          "base_uri": "https://localhost:8080/",
          "height": 386
        }
      },
      "source": [
        "train(20)"
      ],
      "execution_count": 10,
      "outputs": [
        {
          "output_type": "stream",
          "text": [
            "tensor(0.4579)\n",
            "tensor(0.2848)\n",
            "tensor(0.2001)\n",
            "tensor(0.1435)\n",
            "tensor(0.1038)\n",
            "tensor(0.0756)\n",
            "tensor(0.0554)\n",
            "tensor(0.0408)\n",
            "tensor(0.0302)\n",
            "tensor(0.0225)\n",
            "tensor(0.0168)\n",
            "tensor(0.0126)\n",
            "tensor(0.0094)\n",
            "tensor(0.0071)\n",
            "tensor(0.0054)\n",
            "tensor(0.0041)\n",
            "tensor(0.0031)\n",
            "tensor(0.0023)\n",
            "tensor(0.0018)\n",
            "tensor(0.0014)\n",
            "avg loss : 0.0739278495311737\n"
          ],
          "name": "stdout"
        }
      ]
    },
    {
      "cell_type": "markdown",
      "metadata": {
        "id": "TTlhaS2vNhEp",
        "colab_type": "text"
      },
      "source": [
        "Now, it's time for federated learning of this model "
      ]
    },
    {
      "cell_type": "code",
      "metadata": {
        "id": "1gFhh-XXWgkU",
        "colab_type": "code",
        "colab": {}
      },
      "source": [
        "data = th.tensor([[1.,1],[0,1],[1,0],[0,0]], requires_grad=True)\n",
        "target = th.tensor([[1.],[1], [0], [0]], requires_grad=True)"
      ],
      "execution_count": 0,
      "outputs": []
    },
    {
      "cell_type": "code",
      "metadata": {
        "id": "4ebH6AjkAn7I",
        "colab_type": "code",
        "colab": {}
      },
      "source": [
        "# let's start by creating and sending the datasets to the virtual workers we are going to create.\n",
        "bob = sy.VirtualWorker(hook, id = \"bob\")\n",
        "alice = sy.VirtualWorker(hook, id = \"alice\")\n",
        "\n",
        "data_bob = data[0:2].send(bob)\n",
        "target_bob = target[0:2].send(bob)\n",
        "data_alice = data[2:4].send(alice)\n",
        "target_alice = target[2:4].send(alice)\n",
        "datasets = [(data_bob, target_bob), (data_alice, target_alice)]\n"
      ],
      "execution_count": 0,
      "outputs": []
    },
    {
      "cell_type": "code",
      "metadata": {
        "id": "H73GirFvOgVH",
        "colab_type": "code",
        "colab": {}
      },
      "source": [
        "def train_fed(epochs):\n",
        "  model = nn.Linear(2,1)\n",
        "  optimizer = optim.SGD(params=model.parameters(), lr=0.1)\n",
        "  for e in range(epochs):\n",
        "    for inputs, labels in datasets:\n",
        "      model = model.send(inputs.location) # sending model to the location where tensors are located \n",
        "      optimizer.zero_grad()\n",
        "      pred = model(inputs)    \n",
        "      loss = ((pred - labels)**2).sum()  \n",
        "      loss.backward()   \n",
        "      optimizer.step()  \n",
        "      model =  model.get() # taking the model back with updates\n",
        "      \n",
        "      print(loss.get())   "
      ],
      "execution_count": 0,
      "outputs": []
    },
    {
      "cell_type": "code",
      "metadata": {
        "id": "2VQOvaLdQNMI",
        "colab_type": "code",
        "outputId": "f216eb23-f156-4578-8405-66fd8a69f26a",
        "colab": {
          "base_uri": "https://localhost:8080/",
          "height": 721
        }
      },
      "source": [
        "train_fed(20)"
      ],
      "execution_count": 14,
      "outputs": [
        {
          "output_type": "stream",
          "text": [
            "tensor(1.2826, requires_grad=True)\n",
            "tensor(0.0406, requires_grad=True)\n",
            "tensor(0.0363, requires_grad=True)\n",
            "tensor(0.0299, requires_grad=True)\n",
            "tensor(0.0223, requires_grad=True)\n",
            "tensor(0.0226, requires_grad=True)\n",
            "tensor(0.0162, requires_grad=True)\n",
            "tensor(0.0171, requires_grad=True)\n",
            "tensor(0.0119, requires_grad=True)\n",
            "tensor(0.0129, requires_grad=True)\n",
            "tensor(0.0088, requires_grad=True)\n",
            "tensor(0.0097, requires_grad=True)\n",
            "tensor(0.0065, requires_grad=True)\n",
            "tensor(0.0073, requires_grad=True)\n",
            "tensor(0.0048, requires_grad=True)\n",
            "tensor(0.0055, requires_grad=True)\n",
            "tensor(0.0036, requires_grad=True)\n",
            "tensor(0.0042, requires_grad=True)\n",
            "tensor(0.0027, requires_grad=True)\n",
            "tensor(0.0031, requires_grad=True)\n",
            "tensor(0.0020, requires_grad=True)\n",
            "tensor(0.0024, requires_grad=True)\n",
            "tensor(0.0015, requires_grad=True)\n",
            "tensor(0.0018, requires_grad=True)\n",
            "tensor(0.0011, requires_grad=True)\n",
            "tensor(0.0013, requires_grad=True)\n",
            "tensor(0.0008, requires_grad=True)\n",
            "tensor(0.0010, requires_grad=True)\n",
            "tensor(0.0006, requires_grad=True)\n",
            "tensor(0.0008, requires_grad=True)\n",
            "tensor(0.0005, requires_grad=True)\n",
            "tensor(0.0006, requires_grad=True)\n",
            "tensor(0.0003, requires_grad=True)\n",
            "tensor(0.0004, requires_grad=True)\n",
            "tensor(0.0003, requires_grad=True)\n",
            "tensor(0.0003, requires_grad=True)\n",
            "tensor(0.0002, requires_grad=True)\n",
            "tensor(0.0002, requires_grad=True)\n",
            "tensor(0.0001, requires_grad=True)\n",
            "tensor(0.0002, requires_grad=True)\n"
          ],
          "name": "stdout"
        }
      ]
    },
    {
      "cell_type": "markdown",
      "metadata": {
        "id": "5mgYJ2zaefp9",
        "colab_type": "text"
      },
      "source": [
        "THIS FUNCTION HAS QUITE ISSUES IN CONTEXT TO DIFFERENTIAL PRIVACY MEASURES.\n",
        "Now, let's understand this , let's say we are in every iteration , we are sending model to one worker at a time and then getting back the model and then doing this for next worker and so on.\n",
        "Then this can be actually reversed engineer , so that we can find out who made the changes to the inputs we are feeding like in word embeddings etc..."
      ]
    },
    {
      "cell_type": "markdown",
      "metadata": {
        "id": "qL_pjkY0gIFy",
        "colab_type": "text"
      },
      "source": [
        "Therefore , we have to find ways to mitigate this problem and apply measures of privacy to prevent the above issue , one way to do this is to train the model with different workers at same time and then finally getting model back with averaged updates to the server.\n",
        "This will be quite difficult to find out who changed and influenced which weights because we have send the model to every worker at same time and then we are getting the model at the end of training with averaged updates from each of the workers."
      ]
    },
    {
      "cell_type": "markdown",
      "metadata": {
        "id": "Wyudm7hwie60",
        "colab_type": "text"
      },
      "source": [
        "Let's first understand Advanced pointer operations"
      ]
    },
    {
      "cell_type": "code",
      "metadata": {
        "id": "zt9L9_GHSHE_",
        "colab_type": "code",
        "colab": {
          "base_uri": "https://localhost:8080/",
          "height": 34
        },
        "outputId": "9c6030d2-2d4f-4f97-e772-e4cf8302a1d2"
      },
      "source": [
        "# let's clear first all the objects lying around from previous work\n",
        "bob.clear_objects()\n",
        "alice.clear_objects()  "
      ],
      "execution_count": 22,
      "outputs": [
        {
          "output_type": "execute_result",
          "data": {
            "text/plain": [
              "<VirtualWorker id:alice #objects:0>"
            ]
          },
          "metadata": {
            "tags": []
          },
          "execution_count": 22
        }
      ]
    },
    {
      "cell_type": "code",
      "metadata": {
        "id": "pyqMhnXImyKX",
        "colab_type": "code",
        "colab": {
          "base_uri": "https://localhost:8080/",
          "height": 34
        },
        "outputId": "af3e739d-3f29-4a17-e8f9-8518a4636b09"
      },
      "source": [
        "# creating a torch tensor and sending it to bob\n",
        "x =  th.tensor([1, 2, 3, 4, 5]).send(bob)\n",
        "x"
      ],
      "execution_count": 23,
      "outputs": [
        {
          "output_type": "execute_result",
          "data": {
            "text/plain": [
              "(Wrapper)>[PointerTensor | me:75611204440 -> bob:29669718982]"
            ]
          },
          "metadata": {
            "tags": []
          },
          "execution_count": 23
        }
      ]
    },
    {
      "cell_type": "code",
      "metadata": {
        "id": "9hcdrTf4m5g0",
        "colab_type": "code",
        "colab": {
          "base_uri": "https://localhost:8080/",
          "height": 34
        },
        "outputId": "55343903-2283-4d67-e4fd-26be5ecc7cb7"
      },
      "source": [
        "# now the bob has the actual data on the machine \n",
        "bob._objects"
      ],
      "execution_count": 24,
      "outputs": [
        {
          "output_type": "execute_result",
          "data": {
            "text/plain": [
              "{29669718982: tensor([1, 2, 3, 4, 5])}"
            ]
          },
          "metadata": {
            "tags": []
          },
          "execution_count": 24
        }
      ]
    },
    {
      "cell_type": "code",
      "metadata": {
        "id": "TSIC4JbRm7tr",
        "colab_type": "code",
        "colab": {
          "base_uri": "https://localhost:8080/",
          "height": 34
        },
        "outputId": "65d5c68e-4595-4d55-8fd9-02b57aee81ea"
      },
      "source": [
        "# then we are sending reference of data to alice\n",
        "x = x.send(alice)\n",
        "x"
      ],
      "execution_count": 25,
      "outputs": [
        {
          "output_type": "execute_result",
          "data": {
            "text/plain": [
              "(Wrapper)>[PointerTensor | me:71633100047 -> alice:75611204440]"
            ]
          },
          "metadata": {
            "tags": []
          },
          "execution_count": 25
        }
      ]
    },
    {
      "cell_type": "code",
      "metadata": {
        "id": "Mc86UbiXm_q0",
        "colab_type": "code",
        "colab": {
          "base_uri": "https://localhost:8080/",
          "height": 34
        },
        "outputId": "ad0a4508-1f3b-4c32-efed-3bbf7d6725eb"
      },
      "source": [
        "# now alice contains pointer to bob\n",
        "alice._objects"
      ],
      "execution_count": 26,
      "outputs": [
        {
          "output_type": "execute_result",
          "data": {
            "text/plain": [
              "{75611204440: (Wrapper)>[PointerTensor | alice:75611204440 -> bob:29669718982]}"
            ]
          },
          "metadata": {
            "tags": []
          },
          "execution_count": 26
        }
      ]
    },
    {
      "cell_type": "code",
      "metadata": {
        "id": "Yca9eQb-nDQ6",
        "colab_type": "code",
        "colab": {
          "base_uri": "https://localhost:8080/",
          "height": 34
        },
        "outputId": "4f058d4e-cac4-4a8b-a679-f9ae575b80d5"
      },
      "source": [
        "# any operations performed will be executed on bob's machine as it has the actual data and we can't directly contact the tensor on the bob's machine\n",
        "y = x + x\n",
        "y"
      ],
      "execution_count": 27,
      "outputs": [
        {
          "output_type": "execute_result",
          "data": {
            "text/plain": [
              "(Wrapper)>[PointerTensor | me:59695022577 -> alice:36481808871]"
            ]
          },
          "metadata": {
            "tags": []
          },
          "execution_count": 27
        }
      ]
    },
    {
      "cell_type": "code",
      "metadata": {
        "id": "qcmAxWfMnM5Z",
        "colab_type": "code",
        "colab": {
          "base_uri": "https://localhost:8080/",
          "height": 52
        },
        "outputId": "d8c0c4e2-18ed-42bd-c488-bb112c708f3b"
      },
      "source": [
        "# bob contains now two tensors , one x, and other y\n",
        "bob._objects"
      ],
      "execution_count": 28,
      "outputs": [
        {
          "output_type": "execute_result",
          "data": {
            "text/plain": [
              "{29669718982: tensor([1, 2, 3, 4, 5]),\n",
              " 63591892555: tensor([ 2,  4,  6,  8, 10])}"
            ]
          },
          "metadata": {
            "tags": []
          },
          "execution_count": 28
        }
      ]
    },
    {
      "cell_type": "code",
      "metadata": {
        "id": "JNJPhCLQnUyJ",
        "colab_type": "code",
        "colab": {
          "base_uri": "https://localhost:8080/",
          "height": 52
        },
        "outputId": "cbcdea63-1710-4eac-c7ec-0a18cc149724"
      },
      "source": [
        "# alice now contains two pointers , one previous one , and then the newly one \n",
        "alice._objects"
      ],
      "execution_count": 29,
      "outputs": [
        {
          "output_type": "execute_result",
          "data": {
            "text/plain": [
              "{36481808871: (Wrapper)>[PointerTensor | alice:36481808871 -> bob:63591892555],\n",
              " 75611204440: (Wrapper)>[PointerTensor | alice:75611204440 -> bob:29669718982]}"
            ]
          },
          "metadata": {
            "tags": []
          },
          "execution_count": 29
        }
      ]
    },
    {
      "cell_type": "code",
      "metadata": {
        "id": "w8PUWIXZoD1A",
        "colab_type": "code",
        "colab": {}
      },
      "source": [
        "jon = sy.VirtualWorker(hook, id=\"jon\")\n",
        "bob.clear_objects()\n",
        "alice.clear_objects()\n",
        "\n",
        "x = th.tensor([1,2,3,4,5]).send(bob).send(alice)\n"
      ],
      "execution_count": 0,
      "outputs": []
    },
    {
      "cell_type": "code",
      "metadata": {
        "id": "49VfUbqRovGk",
        "colab_type": "code",
        "colab": {
          "base_uri": "https://localhost:8080/",
          "height": 34
        },
        "outputId": "43e4fd57-daee-4c73-9006-904c7299b357"
      },
      "source": [
        "bob._objects\n"
      ],
      "execution_count": 31,
      "outputs": [
        {
          "output_type": "execute_result",
          "data": {
            "text/plain": [
              "{88186776019: tensor([1, 2, 3, 4, 5])}"
            ]
          },
          "metadata": {
            "tags": []
          },
          "execution_count": 31
        }
      ]
    },
    {
      "cell_type": "code",
      "metadata": {
        "id": "l_FSGwsaowa8",
        "colab_type": "code",
        "colab": {
          "base_uri": "https://localhost:8080/",
          "height": 34
        },
        "outputId": "83b0ad32-bcf3-4781-aadb-96163a3ad99a"
      },
      "source": [
        "alice._objects\n"
      ],
      "execution_count": 32,
      "outputs": [
        {
          "output_type": "execute_result",
          "data": {
            "text/plain": [
              "{68703199108: (Wrapper)>[PointerTensor | alice:68703199108 -> bob:88186776019]}"
            ]
          },
          "metadata": {
            "tags": []
          },
          "execution_count": 32
        }
      ]
    },
    {
      "cell_type": "code",
      "metadata": {
        "id": "Ngt0uFb7oyrv",
        "colab_type": "code",
        "colab": {}
      },
      "source": [
        "y = th.tensor([1, 2, 3, 4, 5]).send(bob).send(jon)"
      ],
      "execution_count": 0,
      "outputs": []
    },
    {
      "cell_type": "code",
      "metadata": {
        "id": "e5IAjsZ_pCpI",
        "colab_type": "code",
        "colab": {
          "base_uri": "https://localhost:8080/",
          "height": 34
        },
        "outputId": "622a90f3-9e58-4f99-f6c8-409cfcd47db7"
      },
      "source": [
        "y"
      ],
      "execution_count": 34,
      "outputs": [
        {
          "output_type": "execute_result",
          "data": {
            "text/plain": [
              "(Wrapper)>[PointerTensor | me:57456789044 -> jon:10109325801]"
            ]
          },
          "metadata": {
            "tags": []
          },
          "execution_count": 34
        }
      ]
    },
    {
      "cell_type": "code",
      "metadata": {
        "id": "ZNY2VOsApFd2",
        "colab_type": "code",
        "colab": {
          "base_uri": "https://localhost:8080/",
          "height": 34
        },
        "outputId": "721d060c-5d22-4e69-d980-f43f29aa0dd9"
      },
      "source": [
        "bob._objects"
      ],
      "execution_count": 35,
      "outputs": [
        {
          "output_type": "execute_result",
          "data": {
            "text/plain": [
              "{13178327946: tensor([1, 2, 3, 4, 5]), 88186776019: tensor([1, 2, 3, 4, 5])}"
            ]
          },
          "metadata": {
            "tags": []
          },
          "execution_count": 35
        }
      ]
    },
    {
      "cell_type": "code",
      "metadata": {
        "id": "xV-f0TpXpJFW",
        "colab_type": "code",
        "colab": {
          "base_uri": "https://localhost:8080/",
          "height": 34
        },
        "outputId": "c120352b-bbca-4d5e-99b7-991eb98e1f37"
      },
      "source": [
        "jon._objects"
      ],
      "execution_count": 36,
      "outputs": [
        {
          "output_type": "execute_result",
          "data": {
            "text/plain": [
              "{10109325801: (Wrapper)>[PointerTensor | jon:10109325801 -> bob:13178327946]}"
            ]
          },
          "metadata": {
            "tags": []
          },
          "execution_count": 36
        }
      ]
    },
    {
      "cell_type": "code",
      "metadata": {
        "id": "DbIVmNnfpMV-",
        "colab_type": "code",
        "colab": {
          "base_uri": "https://localhost:8080/",
          "height": 334
        },
        "outputId": "c25fd234-89c2-40b0-c32e-f35ce7cebc6d"
      },
      "source": [
        "z = x + y # this error is important as it lets us know that chain structure is different for both tensors 'x' and 'y' and that's why they can't be operated."
      ],
      "execution_count": 37,
      "outputs": [
        {
          "output_type": "error",
          "ename": "TensorsNotCollocatedException",
          "evalue": "ignored",
          "traceback": [
            "\u001b[0;31m---------------------------------------------------------------------------\u001b[0m",
            "\u001b[0;31mTensorsNotCollocatedException\u001b[0m             Traceback (most recent call last)",
            "\u001b[0;32m<ipython-input-37-8c8f78e0676d>\u001b[0m in \u001b[0;36m<module>\u001b[0;34m()\u001b[0m\n\u001b[0;32m----> 1\u001b[0;31m \u001b[0mz\u001b[0m \u001b[0;34m=\u001b[0m \u001b[0mx\u001b[0m \u001b[0;34m+\u001b[0m \u001b[0my\u001b[0m\u001b[0;34m\u001b[0m\u001b[0;34m\u001b[0m\u001b[0m\n\u001b[0m",
            "\u001b[0;32m/usr/local/lib/python3.6/dist-packages/syft/frameworks/torch/hook/hook.py\u001b[0m in \u001b[0;36moverloaded_native_method\u001b[0;34m(self, *args, **kwargs)\u001b[0m\n\u001b[1;32m    672\u001b[0m                 \u001b[0;31m# Send the new command to the appropriate class and get the response\u001b[0m\u001b[0;34m\u001b[0m\u001b[0;34m\u001b[0m\u001b[0;34m\u001b[0m\u001b[0m\n\u001b[1;32m    673\u001b[0m                 \u001b[0mmethod\u001b[0m \u001b[0;34m=\u001b[0m \u001b[0mgetattr\u001b[0m\u001b[0;34m(\u001b[0m\u001b[0mnew_self\u001b[0m\u001b[0;34m,\u001b[0m \u001b[0mmethod_name\u001b[0m\u001b[0;34m)\u001b[0m\u001b[0;34m\u001b[0m\u001b[0;34m\u001b[0m\u001b[0m\n\u001b[0;32m--> 674\u001b[0;31m                 \u001b[0mresponse\u001b[0m \u001b[0;34m=\u001b[0m \u001b[0mmethod\u001b[0m\u001b[0;34m(\u001b[0m\u001b[0;34m*\u001b[0m\u001b[0mnew_args\u001b[0m\u001b[0;34m,\u001b[0m \u001b[0;34m**\u001b[0m\u001b[0mnew_kwargs\u001b[0m\u001b[0;34m)\u001b[0m\u001b[0;34m\u001b[0m\u001b[0;34m\u001b[0m\u001b[0m\n\u001b[0m\u001b[1;32m    675\u001b[0m \u001b[0;34m\u001b[0m\u001b[0m\n\u001b[1;32m    676\u001b[0m                 \u001b[0;31m# For inplace methods, just directly return self\u001b[0m\u001b[0;34m\u001b[0m\u001b[0;34m\u001b[0m\u001b[0;34m\u001b[0m\u001b[0m\n",
            "\u001b[0;32m/usr/local/lib/python3.6/dist-packages/syft/frameworks/torch/hook/hook.py\u001b[0m in \u001b[0;36moverloaded_pointer_method\u001b[0;34m(self, *args, **kwargs)\u001b[0m\n\u001b[1;32m    503\u001b[0m                 \u001b[0;32mif\u001b[0m \u001b[0misinstance\u001b[0m\u001b[0;34m(\u001b[0m\u001b[0margs\u001b[0m\u001b[0;34m[\u001b[0m\u001b[0;36m0\u001b[0m\u001b[0;34m]\u001b[0m\u001b[0;34m,\u001b[0m \u001b[0mPointerTensor\u001b[0m\u001b[0;34m)\u001b[0m\u001b[0;34m:\u001b[0m\u001b[0;34m\u001b[0m\u001b[0;34m\u001b[0m\u001b[0m\n\u001b[1;32m    504\u001b[0m                     \u001b[0;32mif\u001b[0m \u001b[0margs\u001b[0m\u001b[0;34m[\u001b[0m\u001b[0;36m0\u001b[0m\u001b[0;34m]\u001b[0m\u001b[0;34m.\u001b[0m\u001b[0mlocation\u001b[0m\u001b[0;34m.\u001b[0m\u001b[0mid\u001b[0m \u001b[0;34m!=\u001b[0m \u001b[0mlocation\u001b[0m\u001b[0;34m.\u001b[0m\u001b[0mid\u001b[0m\u001b[0;34m:\u001b[0m\u001b[0;34m\u001b[0m\u001b[0;34m\u001b[0m\u001b[0m\n\u001b[0;32m--> 505\u001b[0;31m                         \u001b[0;32mraise\u001b[0m \u001b[0mTensorsNotCollocatedException\u001b[0m\u001b[0;34m(\u001b[0m\u001b[0mpointer\u001b[0m\u001b[0;34m,\u001b[0m \u001b[0margs\u001b[0m\u001b[0;34m[\u001b[0m\u001b[0;36m0\u001b[0m\u001b[0;34m]\u001b[0m\u001b[0;34m,\u001b[0m \u001b[0mattr\u001b[0m\u001b[0;34m)\u001b[0m\u001b[0;34m\u001b[0m\u001b[0;34m\u001b[0m\u001b[0m\n\u001b[0m\u001b[1;32m    506\u001b[0m \u001b[0;34m\u001b[0m\u001b[0m\n\u001b[1;32m    507\u001b[0m             \u001b[0;31m# Send the command\u001b[0m\u001b[0;34m\u001b[0m\u001b[0;34m\u001b[0m\u001b[0;34m\u001b[0m\u001b[0m\n",
            "\u001b[0;31mTensorsNotCollocatedException\u001b[0m: You tried to call __add__ involving two tensors which are not on the same machine! One tensor is on <VirtualWorker id:alice #objects:1> while the other is on <VirtualWorker id:jon #objects:1>. Use a combination of .move(), .get(), and/or .send() to co-locate them to the same machine."
          ]
        }
      ]
    },
    {
      "cell_type": "code",
      "metadata": {
        "id": "NXAyhby3rPTV",
        "colab_type": "code",
        "colab": {}
      },
      "source": [
        "bob.clear_objects()\n",
        "alice.clear_objects()\n",
        "\n",
        "x = th.tensor([1,2,3,4,5]).send(bob).send(alice)"
      ],
      "execution_count": 0,
      "outputs": []
    },
    {
      "cell_type": "code",
      "metadata": {
        "id": "36s27ShwrbOT",
        "colab_type": "code",
        "colab": {
          "base_uri": "https://localhost:8080/",
          "height": 34
        },
        "outputId": "49e78ab8-72a7-4721-dfde-ce227faef127"
      },
      "source": [
        "bob._objects\n"
      ],
      "execution_count": 49,
      "outputs": [
        {
          "output_type": "execute_result",
          "data": {
            "text/plain": [
              "{53746363533: tensor([1, 2, 3, 4, 5])}"
            ]
          },
          "metadata": {
            "tags": []
          },
          "execution_count": 49
        }
      ]
    },
    {
      "cell_type": "code",
      "metadata": {
        "id": "E6-5TJHlrdd5",
        "colab_type": "code",
        "colab": {
          "base_uri": "https://localhost:8080/",
          "height": 34
        },
        "outputId": "e8b9200b-5b60-4cfa-8cff-3f628edec74b"
      },
      "source": [
        "alice._objects"
      ],
      "execution_count": 50,
      "outputs": [
        {
          "output_type": "execute_result",
          "data": {
            "text/plain": [
              "{55763046450: (Wrapper)>[PointerTensor | alice:55763046450 -> bob:53746363533]}"
            ]
          },
          "metadata": {
            "tags": []
          },
          "execution_count": 50
        }
      ]
    },
    {
      "cell_type": "code",
      "metadata": {
        "id": "R_OOp9Yhrg7C",
        "colab_type": "code",
        "colab": {}
      },
      "source": [
        "# now we have taken the pointer reference from alice\n",
        "x = x.get()\n"
      ],
      "execution_count": 0,
      "outputs": []
    },
    {
      "cell_type": "code",
      "metadata": {
        "id": "8f83OH_xrk3q",
        "colab_type": "code",
        "colab": {
          "base_uri": "https://localhost:8080/",
          "height": 34
        },
        "outputId": "187bae3f-6ea6-49d0-ab0e-b74fc2a60675"
      },
      "source": [
        "# now we are directly pointing to bob\n",
        "x"
      ],
      "execution_count": 52,
      "outputs": [
        {
          "output_type": "execute_result",
          "data": {
            "text/plain": [
              "(Wrapper)>[PointerTensor | me:55763046450 -> bob:53746363533]"
            ]
          },
          "metadata": {
            "tags": []
          },
          "execution_count": 52
        }
      ]
    },
    {
      "cell_type": "code",
      "metadata": {
        "id": "NoxZ2TyJzTaf",
        "colab_type": "code",
        "colab": {
          "base_uri": "https://localhost:8080/",
          "height": 34
        },
        "outputId": "6cb0b598-720a-4eac-9a32-26dc4e0c3bcb"
      },
      "source": [
        "alice._objects"
      ],
      "execution_count": 53,
      "outputs": [
        {
          "output_type": "execute_result",
          "data": {
            "text/plain": [
              "{}"
            ]
          },
          "metadata": {
            "tags": []
          },
          "execution_count": 53
        }
      ]
    },
    {
      "cell_type": "code",
      "metadata": {
        "id": "ORmlIztQzWG7",
        "colab_type": "code",
        "colab": {
          "base_uri": "https://localhost:8080/",
          "height": 34
        },
        "outputId": "e1208564-c7ca-47c6-e30d-1bde579652d6"
      },
      "source": [
        "bob._objects"
      ],
      "execution_count": 54,
      "outputs": [
        {
          "output_type": "execute_result",
          "data": {
            "text/plain": [
              "{53746363533: tensor([1, 2, 3, 4, 5])}"
            ]
          },
          "metadata": {
            "tags": []
          },
          "execution_count": 54
        }
      ]
    },
    {
      "cell_type": "code",
      "metadata": {
        "id": "KdmyawFMzZVG",
        "colab_type": "code",
        "colab": {
          "base_uri": "https://localhost:8080/",
          "height": 34
        },
        "outputId": "df257eb1-d121-4e92-ba45-483c87f28a0a"
      },
      "source": [
        "# now we are taking back our data\n",
        "x = x.get()\n",
        "x"
      ],
      "execution_count": 55,
      "outputs": [
        {
          "output_type": "execute_result",
          "data": {
            "text/plain": [
              "tensor([1, 2, 3, 4, 5])"
            ]
          },
          "metadata": {
            "tags": []
          },
          "execution_count": 55
        }
      ]
    },
    {
      "cell_type": "code",
      "metadata": {
        "id": "i52ybSI1znUi",
        "colab_type": "code",
        "colab": {
          "base_uri": "https://localhost:8080/",
          "height": 34
        },
        "outputId": "92ce911d-506b-4a6d-9769-3795595d2785"
      },
      "source": [
        "# now bob has nothing !\n",
        "bob._objects"
      ],
      "execution_count": 56,
      "outputs": [
        {
          "output_type": "execute_result",
          "data": {
            "text/plain": [
              "{}"
            ]
          },
          "metadata": {
            "tags": []
          },
          "execution_count": 56
        }
      ]
    },
    {
      "cell_type": "markdown",
      "metadata": {
        "id": "AWpq_j_U0NMJ",
        "colab_type": "text"
      },
      "source": [
        "We will dive more into pointer chain operations"
      ]
    },
    {
      "cell_type": "code",
      "metadata": {
        "id": "S2W1HozZzwzj",
        "colab_type": "code",
        "colab": {
          "base_uri": "https://localhost:8080/",
          "height": 34
        },
        "outputId": "be45300d-2c37-4740-e6e9-a37584729a38"
      },
      "source": [
        "bob.clear_objects()\n",
        "alice.clear_objects()"
      ],
      "execution_count": 58,
      "outputs": [
        {
          "output_type": "execute_result",
          "data": {
            "text/plain": [
              "<VirtualWorker id:alice #objects:0>"
            ]
          },
          "metadata": {
            "tags": []
          },
          "execution_count": 58
        }
      ]
    },
    {
      "cell_type": "markdown",
      "metadata": {
        "id": "xD9iepbL4BxR",
        "colab_type": "text"
      },
      "source": [
        "-> now we will move the data from one remote worker to another without touching the data itself"
      ]
    },
    {
      "cell_type": "code",
      "metadata": {
        "id": "C8XTxOII1i-R",
        "colab_type": "code",
        "colab": {}
      },
      "source": [
        "x = th.tensor([1, 2, 3, 4, 5]).send(bob).send(alice)"
      ],
      "execution_count": 0,
      "outputs": []
    },
    {
      "cell_type": "code",
      "metadata": {
        "id": "gc-TiPpO4IyO",
        "colab_type": "code",
        "colab": {
          "base_uri": "https://localhost:8080/",
          "height": 34
        },
        "outputId": "d9b77fb2-3eb9-4586-fa0a-b224c52151f1"
      },
      "source": [
        "bob._objects"
      ],
      "execution_count": 61,
      "outputs": [
        {
          "output_type": "execute_result",
          "data": {
            "text/plain": [
              "{92235049968: tensor([1, 2, 3, 4, 5])}"
            ]
          },
          "metadata": {
            "tags": []
          },
          "execution_count": 61
        }
      ]
    },
    {
      "cell_type": "code",
      "metadata": {
        "id": "Jg-GQdMr4LM2",
        "colab_type": "code",
        "colab": {
          "base_uri": "https://localhost:8080/",
          "height": 34
        },
        "outputId": "e15c0ca6-6974-4120-9e48-9bbb46eedf4a"
      },
      "source": [
        "alice._objects"
      ],
      "execution_count": 62,
      "outputs": [
        {
          "output_type": "execute_result",
          "data": {
            "text/plain": [
              "{3085309352: (Wrapper)>[PointerTensor | alice:3085309352 -> bob:92235049968]}"
            ]
          },
          "metadata": {
            "tags": []
          },
          "execution_count": 62
        }
      ]
    },
    {
      "cell_type": "code",
      "metadata": {
        "id": "nwsjHey_4Ny1",
        "colab_type": "code",
        "colab": {
          "base_uri": "https://localhost:8080/",
          "height": 34
        },
        "outputId": "27be51c3-aa03-4579-cd7c-be8ce5ac25d6"
      },
      "source": [
        "x"
      ],
      "execution_count": 63,
      "outputs": [
        {
          "output_type": "execute_result",
          "data": {
            "text/plain": [
              "(Wrapper)>[PointerTensor | me:81796927989 -> alice:3085309352]"
            ]
          },
          "metadata": {
            "tags": []
          },
          "execution_count": 63
        }
      ]
    },
    {
      "cell_type": "code",
      "metadata": {
        "id": "9qAXnPZo4P86",
        "colab_type": "code",
        "colab": {
          "base_uri": "https://localhost:8080/",
          "height": 34
        },
        "outputId": "9459139e-6fc5-4b7e-f5e6-f349ec2d933c"
      },
      "source": [
        "x.remote_get()"
      ],
      "execution_count": 64,
      "outputs": [
        {
          "output_type": "execute_result",
          "data": {
            "text/plain": [
              "(Wrapper)>[PointerTensor | me:81796927989 -> alice:3085309352]"
            ]
          },
          "metadata": {
            "tags": []
          },
          "execution_count": 64
        }
      ]
    },
    {
      "cell_type": "code",
      "metadata": {
        "id": "eGy2XkoH4VxC",
        "colab_type": "code",
        "colab": {
          "base_uri": "https://localhost:8080/",
          "height": 34
        },
        "outputId": "a4047e04-ff7a-44c9-9e48-ab4775865264"
      },
      "source": [
        "bob._objects"
      ],
      "execution_count": 65,
      "outputs": [
        {
          "output_type": "execute_result",
          "data": {
            "text/plain": [
              "{}"
            ]
          },
          "metadata": {
            "tags": []
          },
          "execution_count": 65
        }
      ]
    },
    {
      "cell_type": "code",
      "metadata": {
        "id": "S5s3Hh6a4YEH",
        "colab_type": "code",
        "colab": {
          "base_uri": "https://localhost:8080/",
          "height": 34
        },
        "outputId": "0da29341-c19a-4519-8866-98a80f807b7e"
      },
      "source": [
        "alice._objects"
      ],
      "execution_count": 66,
      "outputs": [
        {
          "output_type": "execute_result",
          "data": {
            "text/plain": [
              "{3085309352: tensor([1, 2, 3, 4, 5])}"
            ]
          },
          "metadata": {
            "tags": []
          },
          "execution_count": 66
        }
      ]
    },
    {
      "cell_type": "markdown",
      "metadata": {
        "id": "NIPL486L4adR",
        "colab_type": "text"
      },
      "source": [
        "so we see that data has been moved from bob's machine to alice's machine without the data being touched by us !\n",
        "It is same as saying to alice , hey call get() on bob machine and fetch the data , clearing the bob of anything !"
      ]
    },
    {
      "cell_type": "code",
      "metadata": {
        "id": "3ZhVRTj94qKy",
        "colab_type": "code",
        "colab": {
          "base_uri": "https://localhost:8080/",
          "height": 34
        },
        "outputId": "5965be0c-fd94-48a0-9430-071eb5be871b"
      },
      "source": [
        "x.move(bob) # another method to get our work done !"
      ],
      "execution_count": 67,
      "outputs": [
        {
          "output_type": "execute_result",
          "data": {
            "text/plain": [
              "(Wrapper)>[PointerTensor | me:81796927989 -> bob:81796927989]"
            ]
          },
          "metadata": {
            "tags": []
          },
          "execution_count": 67
        }
      ]
    },
    {
      "cell_type": "code",
      "metadata": {
        "id": "IPbEIyf541vJ",
        "colab_type": "code",
        "colab": {
          "base_uri": "https://localhost:8080/",
          "height": 34
        },
        "outputId": "f4451c5f-a307-4eca-c727-5b1075ae51cf"
      },
      "source": [
        "bob._objects"
      ],
      "execution_count": 68,
      "outputs": [
        {
          "output_type": "execute_result",
          "data": {
            "text/plain": [
              "{81796927989: tensor([1, 2, 3, 4, 5])}"
            ]
          },
          "metadata": {
            "tags": []
          },
          "execution_count": 68
        }
      ]
    },
    {
      "cell_type": "code",
      "metadata": {
        "id": "gI9Wka1X45Tm",
        "colab_type": "code",
        "colab": {
          "base_uri": "https://localhost:8080/",
          "height": 34
        },
        "outputId": "7829047e-f586-4a31-985d-b2385e36d5c5"
      },
      "source": [
        "alice._objects"
      ],
      "execution_count": 69,
      "outputs": [
        {
          "output_type": "execute_result",
          "data": {
            "text/plain": [
              "{}"
            ]
          },
          "metadata": {
            "tags": []
          },
          "execution_count": 69
        }
      ]
    },
    {
      "cell_type": "code",
      "metadata": {
        "id": "ZLYfst1Y47zx",
        "colab_type": "code",
        "colab": {
          "base_uri": "https://localhost:8080/",
          "height": 34
        },
        "outputId": "88ece86d-05b8-43fc-eccd-08ae42157feb"
      },
      "source": [
        "x.move(alice)"
      ],
      "execution_count": 70,
      "outputs": [
        {
          "output_type": "execute_result",
          "data": {
            "text/plain": [
              "(Wrapper)>[PointerTensor | me:81796927989 -> alice:81796927989]"
            ]
          },
          "metadata": {
            "tags": []
          },
          "execution_count": 70
        }
      ]
    },
    {
      "cell_type": "markdown",
      "metadata": {
        "id": "fHZomVk-5ege",
        "colab_type": "text"
      },
      "source": [
        "playing around by moving tensors sometimes to bob and alice , note here that move also applies same protocol and under the hood , it is also calling remote_get()"
      ]
    },
    {
      "cell_type": "code",
      "metadata": {
        "id": "A6eYmXCb5YCU",
        "colab_type": "code",
        "colab": {
          "base_uri": "https://localhost:8080/",
          "height": 34
        },
        "outputId": "b0bdfbcd-36f5-4e0d-cbb3-304c357b623b"
      },
      "source": [
        "bob._objects"
      ],
      "execution_count": 71,
      "outputs": [
        {
          "output_type": "execute_result",
          "data": {
            "text/plain": [
              "{}"
            ]
          },
          "metadata": {
            "tags": []
          },
          "execution_count": 71
        }
      ]
    },
    {
      "cell_type": "code",
      "metadata": {
        "id": "GuY1cwnD5aMT",
        "colab_type": "code",
        "colab": {
          "base_uri": "https://localhost:8080/",
          "height": 34
        },
        "outputId": "565ade75-67cc-4bce-ced7-3780fbe8abf4"
      },
      "source": [
        "alice._objects"
      ],
      "execution_count": 72,
      "outputs": [
        {
          "output_type": "execute_result",
          "data": {
            "text/plain": [
              "{81796927989: tensor([1, 2, 3, 4, 5])}"
            ]
          },
          "metadata": {
            "tags": []
          },
          "execution_count": 72
        }
      ]
    }
  ]
}