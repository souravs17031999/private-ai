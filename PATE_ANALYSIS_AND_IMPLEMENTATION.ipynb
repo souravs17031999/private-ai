{
  "nbformat": 4,
  "nbformat_minor": 0,
  "metadata": {
    "colab": {
      "name": "PATE_ANALYSIS_AND_IMPLEMENTATION.ipynb",
      "version": "0.3.2",
      "provenance": [],
      "include_colab_link": true
    },
    "kernelspec": {
      "name": "python3",
      "display_name": "Python 3"
    }
  },
  "cells": [
    {
      "cell_type": "markdown",
      "metadata": {
        "id": "view-in-github",
        "colab_type": "text"
      },
      "source": [
        "<a href=\"https://colab.research.google.com/github/souravs17031999/private-ai/blob/master/PATE_ANALYSIS_AND_IMPLEMENTATION.ipynb\" target=\"_parent\"><img src=\"https://colab.research.google.com/assets/colab-badge.svg\" alt=\"Open In Colab\"/></a>"
      ]
    },
    {
      "cell_type": "markdown",
      "metadata": {
        "id": "hQ6TlDQw7jxF",
        "colab_type": "text"
      },
      "source": [
        "# Project VIII\n",
        "## PATE ANALYSIS + MODEL TRAINING USING DP"
      ]
    },
    {
      "cell_type": "markdown",
      "metadata": {
        "id": "75Uhc8sq73P9",
        "colab_type": "text"
      },
      "source": [
        "### PART - I (PATE ANALYSIS)"
      ]
    },
    {
      "cell_type": "code",
      "metadata": {
        "id": "x85u2alUqofZ",
        "colab_type": "code",
        "colab": {}
      },
      "source": [
        "# importing torch and numpy modules\n",
        "import torch\n",
        "import numpy as np"
      ],
      "execution_count": 0,
      "outputs": []
    },
    {
      "cell_type": "code",
      "metadata": {
        "id": "wG3V8g4mqvT2",
        "colab_type": "code",
        "colab": {}
      },
      "source": [
        "# installing pysyft\n",
        "!pip install syft"
      ],
      "execution_count": 0,
      "outputs": []
    },
    {
      "cell_type": "code",
      "metadata": {
        "id": "fYZIetYytBJK",
        "colab_type": "code",
        "colab": {
          "base_uri": "https://localhost:8080/",
          "height": 107
        },
        "outputId": "4425b76a-069b-40ac-d893-8a8de68d73d6"
      },
      "source": [
        "# importing pate so that we can apply pate algorithm\n",
        "from syft.frameworks.torch.differential_privacy import pate\n"
      ],
      "execution_count": 3,
      "outputs": [
        {
          "output_type": "stream",
          "text": [
            "WARNING: Logging before flag parsing goes to stderr.\n",
            "W0814 12:29:29.957314 140186412267392 secure_random.py:26] Falling back to insecure randomness since the required custom op could not be found for the installed version of TensorFlow. Fix this by compiling custom ops. Missing file was '/usr/local/lib/python3.6/dist-packages/tf_encrypted/operations/secure_random/secure_random_module_tf_1.14.0.so'\n",
            "W0814 12:29:29.975831 140186412267392 deprecation_wrapper.py:119] From /usr/local/lib/python3.6/dist-packages/tf_encrypted/session.py:26: The name tf.Session is deprecated. Please use tf.compat.v1.Session instead.\n",
            "\n"
          ],
          "name": "stderr"
        }
      ]
    },
    {
      "cell_type": "code",
      "metadata": {
        "id": "aTGkD1SvtaDp",
        "colab_type": "code",
        "colab": {}
      },
      "source": [
        "# taking random teachers , examples, labels\n",
        "teachers = 100\n",
        "examples = 100\n",
        "labels = 10\n",
        "# generating random pred and actual labels\n",
        "pred = (np.random.rand(teachers, examples) * labels).astype(int) # fake predctions\n",
        "true_labels = (np.random.rand(examples) * labels).astype(int)  # actual labels"
      ],
      "execution_count": 0,
      "outputs": []
    },
    {
      "cell_type": "code",
      "metadata": {
        "id": "mEO529coz6t3",
        "colab_type": "code",
        "outputId": "b0527dae-ac7f-442b-f3fe-d5fc6e4aeb2b",
        "colab": {
          "base_uri": "https://localhost:8080/",
          "height": 140
        }
      },
      "source": [
        "pred"
      ],
      "execution_count": 5,
      "outputs": [
        {
          "output_type": "execute_result",
          "data": {
            "text/plain": [
              "array([[6, 9, 8, ..., 9, 3, 5],\n",
              "       [5, 4, 7, ..., 4, 5, 6],\n",
              "       [5, 5, 6, ..., 3, 9, 2],\n",
              "       ...,\n",
              "       [4, 2, 0, ..., 2, 8, 7],\n",
              "       [9, 2, 9, ..., 3, 6, 5],\n",
              "       [7, 6, 0, ..., 4, 0, 9]])"
            ]
          },
          "metadata": {
            "tags": []
          },
          "execution_count": 5
        }
      ]
    },
    {
      "cell_type": "code",
      "metadata": {
        "id": "YJMTaY9P1QB9",
        "colab_type": "code",
        "outputId": "3a5a13e4-af5d-4dd0-c416-2d31538d6ce4",
        "colab": {
          "base_uri": "https://localhost:8080/",
          "height": 105
        }
      },
      "source": [
        "true_labels"
      ],
      "execution_count": 6,
      "outputs": [
        {
          "output_type": "execute_result",
          "data": {
            "text/plain": [
              "array([2, 0, 1, 8, 2, 1, 5, 1, 8, 9, 5, 4, 7, 2, 1, 2, 4, 0, 6, 6, 3, 1,\n",
              "       5, 2, 5, 6, 4, 5, 2, 3, 4, 1, 3, 8, 5, 0, 0, 5, 9, 3, 5, 0, 2, 6,\n",
              "       2, 0, 2, 2, 1, 0, 2, 0, 6, 1, 9, 5, 8, 2, 5, 9, 0, 1, 7, 7, 5, 0,\n",
              "       5, 9, 8, 7, 1, 6, 3, 1, 1, 3, 3, 1, 8, 3, 9, 8, 6, 6, 2, 6, 9, 9,\n",
              "       9, 4, 3, 3, 5, 6, 2, 5, 1, 3, 2, 6])"
            ]
          },
          "metadata": {
            "tags": []
          },
          "execution_count": 6
        }
      ]
    },
    {
      "cell_type": "markdown",
      "metadata": {
        "id": "XW_XP2B45ZJ9",
        "colab_type": "text"
      },
      "source": [
        "Data dependent epsilon is where PATE analysis does its job as it is an epsilon that looks at how much agreement there is between the teachers before throwing the epsilon, and the data independent epsilon does not do this, so when the two of them are really close to each other it means that PATE only found a really tiny amount of agreement between the teachers when throwing the data dependent epsilon"
      ]
    },
    {
      "cell_type": "code",
      "metadata": {
        "id": "OD6WtJ9v1WFK",
        "colab_type": "code",
        "outputId": "1d529ead-68fa-42f3-808d-910f032d2485",
        "colab": {
          "base_uri": "https://localhost:8080/",
          "height": 52
        }
      },
      "source": [
        "# performing the pate analysis\n",
        "data_dep_eps, data_ind_eps = pate.perform_analysis(teacher_preds=pred, indices=true_labels, noise_eps=0.1, delta=1e-5)\n",
        "print(\"Data Independent Epsilon:\", data_ind_eps)\n",
        "print(\"Data Dependent Epsilon:\", data_dep_eps)"
      ],
      "execution_count": 7,
      "outputs": [
        {
          "output_type": "stream",
          "text": [
            "Data Independent Epsilon: 11.756462732485115\n",
            "Data Dependent Epsilon: 11.756462732485105\n"
          ],
          "name": "stdout"
        }
      ]
    },
    {
      "cell_type": "code",
      "metadata": {
        "id": "a6JDhXNC1mLy",
        "colab_type": "code",
        "colab": {}
      },
      "source": [
        "pred[:,0:10] *= 0\n"
      ],
      "execution_count": 0,
      "outputs": []
    },
    {
      "cell_type": "code",
      "metadata": {
        "id": "lcJKvqFd1q_G",
        "colab_type": "code",
        "outputId": "0727b566-d66b-40a6-adc8-b558cfd4c7ef",
        "colab": {
          "base_uri": "https://localhost:8080/",
          "height": 70
        }
      },
      "source": [
        "data_dep_eps, data_ind_eps = pate.perform_analysis(teacher_preds=pred, indices=true_labels, noise_eps=0.1, delta=1e-5)\n",
        "print(\"Data Independent Epsilon:\", data_ind_eps)\n",
        "print(\"Data Dependent Epsilon:\", data_dep_eps)"
      ],
      "execution_count": 9,
      "outputs": [
        {
          "output_type": "stream",
          "text": [
            "Warning: May not have used enough values of l. Increase 'moments' variable and run again.\n",
            "Data Independent Epsilon: 11.756462732485115\n",
            "Data Dependent Epsilon: 1.52655213289881\n"
          ],
          "name": "stdout"
        }
      ]
    },
    {
      "cell_type": "code",
      "metadata": {
        "id": "nFR8idBW10Ul",
        "colab_type": "code",
        "colab": {}
      },
      "source": [
        "pred[:,0:50] *= 0\n"
      ],
      "execution_count": 0,
      "outputs": []
    },
    {
      "cell_type": "code",
      "metadata": {
        "id": "K2El_a2Z13g_",
        "colab_type": "code",
        "outputId": "392fc574-2357-489f-f515-065e96cc0e20",
        "colab": {
          "base_uri": "https://localhost:8080/",
          "height": 52
        }
      },
      "source": [
        "data_dep_eps, data_ind_eps = pate.perform_analysis(teacher_preds=pred, indices=true_labels, noise_eps=0.1, delta=1e-5, moments=20)\n",
        "print(\"Data Independent Epsilon:\", data_ind_eps)\n",
        "print(\"Data Dependent Epsilon:\", data_dep_eps)"
      ],
      "execution_count": 11,
      "outputs": [
        {
          "output_type": "stream",
          "text": [
            "Data Independent Epsilon: 11.756462732485115\n",
            "Data Dependent Epsilon: 0.9029013677789843\n"
          ],
          "name": "stdout"
        }
      ]
    },
    {
      "cell_type": "markdown",
      "metadata": {
        "id": "MNKVldJi4OuY",
        "colab_type": "text"
      },
      "source": [
        "Better is when  data dependent epsilon gets smaller as it means query not doesn't depends on the inputs of database , that is not depending on the individuals thus getting us more tighter bounds for epsilon."
      ]
    }
  ]
}