{
  "nbformat": 4,
  "nbformat_minor": 0,
  "metadata": {
    "colab": {
      "name": "differential_privacy_attack",
      "version": "0.3.2",
      "provenance": []
    },
    "kernelspec": {
      "name": "python3",
      "display_name": "Python 3"
    }
  },
  "cells": [
    {
      "cell_type": "markdown",
      "metadata": {
        "id": "NYYQRKE_Ae0E",
        "colab_type": "text"
      },
      "source": [
        "# we are continuing from sensitivity of functions and analysing them\n"
      ]
    },
    {
      "cell_type": "code",
      "metadata": {
        "id": "U2Sb6C-nFZ05",
        "colab_type": "code",
        "colab": {}
      },
      "source": [
        "import torch"
      ],
      "execution_count": 0,
      "outputs": []
    },
    {
      "cell_type": "code",
      "metadata": {
        "id": "D6Hm1SCZFfw8",
        "colab_type": "code",
        "colab": {}
      },
      "source": [
        "def get_parallel_db(db, index):\n",
        "  return torch.cat((db[:index], db[index + 1 :]))"
      ],
      "execution_count": 0,
      "outputs": []
    },
    {
      "cell_type": "code",
      "metadata": {
        "id": "I9pzupUvFhq5",
        "colab_type": "code",
        "colab": {}
      },
      "source": [
        "def get_parallel_dbs(db):\n",
        "  parallel_dbs = list()\n",
        "  for i in range(len(db)):\n",
        "    pdb = get_parallel_db(db, i)\n",
        "    parallel_dbs.append(pdb)\n",
        "  return parallel_dbs  "
      ],
      "execution_count": 0,
      "outputs": []
    },
    {
      "cell_type": "code",
      "metadata": {
        "id": "apD4TAU4Fkkd",
        "colab_type": "code",
        "colab": {}
      },
      "source": [
        "def create_db_and_paralleldbs(entries):\n",
        "  db = torch.rand(entries) > 0.5\n",
        "  pdbs = get_parallel_dbs(db)\n",
        "  return db, pdbs"
      ],
      "execution_count": 0,
      "outputs": []
    },
    {
      "cell_type": "code",
      "metadata": {
        "id": "9DGA7ARXFn54",
        "colab_type": "code",
        "colab": {}
      },
      "source": [
        "def query(db, threshold = 5):\n",
        "  return (db.sum() > threshold).float()"
      ],
      "execution_count": 0,
      "outputs": []
    },
    {
      "cell_type": "code",
      "metadata": {
        "id": "da8PAAYZYYlo",
        "colab_type": "code",
        "outputId": "73e9a796-5939-47d1-8de7-88f4c15df291",
        "colab": {
          "base_uri": "https://localhost:8080/",
          "height": 34
        }
      },
      "source": [
        "db, pdbs = create_db_and_paralleldbs(10)\n",
        "db\n",
        "db.sum()\n",
        "query(db)"
      ],
      "execution_count": 0,
      "outputs": [
        {
          "output_type": "execute_result",
          "data": {
            "text/plain": [
              "tensor(1.)"
            ]
          },
          "metadata": {
            "tags": []
          },
          "execution_count": 24
        }
      ]
    },
    {
      "cell_type": "code",
      "metadata": {
        "id": "45trkRMjFrpP",
        "colab_type": "code",
        "colab": {}
      },
      "source": [
        "def L1_senstivity(query, n_entries):\n",
        "  db, pdbs = create_db_and_paralleldbs(n_entries)\n",
        "  maximum_distance = 0\n",
        "  total_result = query(db)\n",
        "  for pdb in pdbs:\n",
        "    current_result = query(pdb)\n",
        "    current_distance = torch.abs(current_result - total_result)\n",
        "    if(current_distance > maximum_distance):\n",
        "      maximum_distance = current_distance\n",
        "  return maximum_distance "
      ],
      "execution_count": 0,
      "outputs": []
    },
    {
      "cell_type": "code",
      "metadata": {
        "id": "FtNx4hCHH_TZ",
        "colab_type": "code",
        "outputId": "a9f6da46-3d08-4cf8-88cf-0b8621a77020",
        "colab": {
          "base_uri": "https://localhost:8080/",
          "height": 34
        }
      },
      "source": [
        "L1_senstivity(query)"
      ],
      "execution_count": 0,
      "outputs": [
        {
          "output_type": "execute_result",
          "data": {
            "text/plain": [
              "0"
            ]
          },
          "metadata": {
            "tags": []
          },
          "execution_count": 26
        }
      ]
    },
    {
      "cell_type": "code",
      "metadata": {
        "id": "GgSDTBZeVxoB",
        "colab_type": "code",
        "outputId": "08339cbe-9d55-446e-8adc-e0d1ab9416d0",
        "colab": {
          "base_uri": "https://localhost:8080/",
          "height": 193
        }
      },
      "source": [
        "for i in range(10):\n",
        "  print(L1_senstivity(query, 10))"
      ],
      "execution_count": 0,
      "outputs": [
        {
          "output_type": "stream",
          "text": [
            "0\n",
            "0\n",
            "0\n",
            "0\n",
            "0\n",
            "0\n",
            "0\n",
            "tensor(1.)\n",
            "0\n",
            "0\n"
          ],
          "name": "stdout"
        }
      ]
    },
    {
      "cell_type": "markdown",
      "metadata": {
        "id": "AQUHSjJxAdJ3",
        "colab_type": "text"
      },
      "source": [
        "## Let's now attack differentially on the database which is called differential attack by various queries\n"
      ]
    },
    {
      "cell_type": "code",
      "metadata": {
        "id": "A3y12_GZ8jAB",
        "colab_type": "code",
        "colab": {}
      },
      "source": [
        "db, pdbs = create_db_and_paralleldbs(20)"
      ],
      "execution_count": 0,
      "outputs": []
    },
    {
      "cell_type": "code",
      "metadata": {
        "id": "pozbGuHI881h",
        "colab_type": "code",
        "outputId": "e384af3d-b727-4706-8e1d-149f57f34f61",
        "colab": {
          "base_uri": "https://localhost:8080/",
          "height": 52
        }
      },
      "source": [
        "db"
      ],
      "execution_count": 0,
      "outputs": [
        {
          "output_type": "execute_result",
          "data": {
            "text/plain": [
              "tensor([1, 0, 0, 1, 0, 1, 0, 1, 0, 0, 0, 0, 0, 1, 0, 1, 0, 0, 0, 1],\n",
              "       dtype=torch.uint8)"
            ]
          },
          "metadata": {
            "tags": []
          },
          "execution_count": 39
        }
      ]
    },
    {
      "cell_type": "code",
      "metadata": {
        "id": "41HNlLKE8-0z",
        "colab_type": "code",
        "outputId": "4a4cbcbc-a5ca-4d1f-c136-4e2ec24601b2",
        "colab": {
          "base_uri": "https://localhost:8080/",
          "height": 52
        }
      },
      "source": [
        "pdbs[10]"
      ],
      "execution_count": 0,
      "outputs": [
        {
          "output_type": "execute_result",
          "data": {
            "text/plain": [
              "tensor([1, 0, 0, 1, 0, 1, 0, 1, 0, 0, 0, 0, 1, 0, 1, 0, 0, 0, 1],\n",
              "       dtype=torch.uint8)"
            ]
          },
          "metadata": {
            "tags": []
          },
          "execution_count": 59
        }
      ]
    },
    {
      "cell_type": "markdown",
      "metadata": {
        "id": "23KkHu3BA40l",
        "colab_type": "text"
      },
      "source": [
        "We are going to find the exact value of row 10 in the database by doing two simple queries.\n",
        "One will be sum over the entire database.\n",
        "another will be sum over the parallel database not contaning that value of row 10 (here maybe 10 th pbds)\n",
        "taking subtraction between them will fetch the exact value of the row 10 from the database."
      ]
    },
    {
      "cell_type": "code",
      "metadata": {
        "id": "RimwVKk59W1O",
        "colab_type": "code",
        "colab": {}
      },
      "source": [
        "def query(db):\n",
        "  return db.sum()"
      ],
      "execution_count": 0,
      "outputs": []
    },
    {
      "cell_type": "code",
      "metadata": {
        "id": "WIdJMHVw9Anx",
        "colab_type": "code",
        "outputId": "cf6b2961-2849-4529-fc3f-38ffeaae11ba",
        "colab": {
          "base_uri": "https://localhost:8080/",
          "height": 52
        }
      },
      "source": [
        "first_query = query(db)\n",
        "second_query = query(pdbs[10])\n",
        "print(first_query)\n",
        "print(second_query)"
      ],
      "execution_count": 0,
      "outputs": [
        {
          "output_type": "stream",
          "text": [
            "tensor(7)\n",
            "tensor(7)\n"
          ],
          "name": "stdout"
        }
      ]
    },
    {
      "cell_type": "code",
      "metadata": {
        "id": "6Hw8VWqq9sI-",
        "colab_type": "code",
        "outputId": "68f0146d-bf89-4153-84d2-25a46e156200",
        "colab": {
          "base_uri": "https://localhost:8080/",
          "height": 34
        }
      },
      "source": [
        "first_query - second_query"
      ],
      "execution_count": 0,
      "outputs": [
        {
          "output_type": "execute_result",
          "data": {
            "text/plain": [
              "tensor(0)"
            ]
          },
          "metadata": {
            "tags": []
          },
          "execution_count": 48
        }
      ]
    },
    {
      "cell_type": "code",
      "metadata": {
        "id": "-ETly_Gl-Ebp",
        "colab_type": "code",
        "outputId": "4cbc94da-2ab2-4f3a-9922-d8515bb7071e",
        "colab": {
          "base_uri": "https://localhost:8080/",
          "height": 34
        }
      },
      "source": [
        "#differential attack using addition\n",
        "\n",
        "sum(db) - sum(pdbs[10])"
      ],
      "execution_count": 0,
      "outputs": [
        {
          "output_type": "execute_result",
          "data": {
            "text/plain": [
              "tensor(0, dtype=torch.uint8)"
            ]
          },
          "metadata": {
            "tags": []
          },
          "execution_count": 50
        }
      ]
    },
    {
      "cell_type": "code",
      "metadata": {
        "id": "hb8dnYhp--4I",
        "colab_type": "code",
        "outputId": "56dcc1aa-1960-4c96-b76c-73961112c7cf",
        "colab": {
          "base_uri": "https://localhost:8080/",
          "height": 34
        }
      },
      "source": [
        "#differential attack using addition\n",
        "\n",
        "(sum(db).float() / len(db)) - (sum(pdbs[10]).float() / len(db))"
      ],
      "execution_count": 0,
      "outputs": [
        {
          "output_type": "execute_result",
          "data": {
            "text/plain": [
              "tensor(0.)"
            ]
          },
          "metadata": {
            "tags": []
          },
          "execution_count": 51
        }
      ]
    },
    {
      "cell_type": "code",
      "metadata": {
        "id": "aHIF0odI_VPL",
        "colab_type": "code",
        "outputId": "8c6a3608-d866-4f20-eeba-fed15aff71b9",
        "colab": {
          "base_uri": "https://localhost:8080/",
          "height": 34
        }
      },
      "source": [
        "#differential attack using threshold\n",
        "#since we know that threhold here can be sum that is 7 for original database so we apply condition as in greater than 6 will hold true boht and result in the false (0)\n",
        "(sum(db).float() > 6) - (sum(pdbs[10]).float() > 6)"
      ],
      "execution_count": 0,
      "outputs": [
        {
          "output_type": "execute_result",
          "data": {
            "text/plain": [
              "tensor(0, dtype=torch.uint8)"
            ]
          },
          "metadata": {
            "tags": []
          },
          "execution_count": 61
        }
      ]
    },
    {
      "cell_type": "markdown",
      "metadata": {
        "id": "4BhQ_gtk1PRN",
        "colab_type": "text"
      },
      "source": [
        "EXPLORING MORE "
      ]
    },
    {
      "cell_type": "code",
      "metadata": {
        "id": "ZVUB1jqv1R9K",
        "colab_type": "code",
        "colab": {}
      },
      "source": [
        "def query(db):\n",
        "  return db.median()"
      ],
      "execution_count": 0,
      "outputs": []
    },
    {
      "cell_type": "code",
      "metadata": {
        "id": "EmEr1lRv108Y",
        "colab_type": "code",
        "colab": {}
      },
      "source": [
        "db, pdbs = create_db_and_paralleldbs(15)"
      ],
      "execution_count": 0,
      "outputs": []
    },
    {
      "cell_type": "code",
      "metadata": {
        "id": "Nx6JirH72BLN",
        "colab_type": "code",
        "colab": {
          "base_uri": "https://localhost:8080/",
          "height": 34
        },
        "outputId": "cd1b4b01-a726-4fdd-fa46-6c18d7cd866c"
      },
      "source": [
        "db"
      ],
      "execution_count": 21,
      "outputs": [
        {
          "output_type": "execute_result",
          "data": {
            "text/plain": [
              "tensor([1, 0, 1, 1, 0, 0, 0, 1, 0, 0, 0, 0, 1, 1, 1], dtype=torch.uint8)"
            ]
          },
          "metadata": {
            "tags": []
          },
          "execution_count": 21
        }
      ]
    },
    {
      "cell_type": "code",
      "metadata": {
        "id": "RxJzlnBR2GR4",
        "colab_type": "code",
        "colab": {
          "base_uri": "https://localhost:8080/",
          "height": 34
        },
        "outputId": "70146f10-293c-46f7-fca7-165691f1983c"
      },
      "source": [
        "query(db)"
      ],
      "execution_count": 22,
      "outputs": [
        {
          "output_type": "execute_result",
          "data": {
            "text/plain": [
              "tensor(0, dtype=torch.uint8)"
            ]
          },
          "metadata": {
            "tags": []
          },
          "execution_count": 22
        }
      ]
    },
    {
      "cell_type": "code",
      "metadata": {
        "id": "ISmnDCoo2tqO",
        "colab_type": "code",
        "colab": {
          "base_uri": "https://localhost:8080/",
          "height": 193
        },
        "outputId": "f648f3a6-1d90-46e9-d3a1-6572593a5b61"
      },
      "source": [
        "for i in range(10):\n",
        "  print(L1_senstivity(query, 10))"
      ],
      "execution_count": 26,
      "outputs": [
        {
          "output_type": "stream",
          "text": [
            "0\n",
            "0\n",
            "tensor(1, dtype=torch.uint8)\n",
            "0\n",
            "0\n",
            "tensor(1, dtype=torch.uint8)\n",
            "0\n",
            "0\n",
            "0\n",
            "tensor(1, dtype=torch.uint8)\n"
          ],
          "name": "stdout"
        }
      ]
    }
  ]
}