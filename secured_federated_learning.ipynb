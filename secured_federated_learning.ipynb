{
  "nbformat": 4,
  "nbformat_minor": 0,
  "metadata": {
    "colab": {
      "name": "secured_federated_learning.ipynb",
      "version": "0.3.2",
      "provenance": [],
      "include_colab_link": true
    },
    "kernelspec": {
      "name": "python3",
      "display_name": "Python 3"
    }
  },
  "cells": [
    {
      "cell_type": "markdown",
      "metadata": {
        "id": "view-in-github",
        "colab_type": "text"
      },
      "source": [
        "<a href=\"https://colab.research.google.com/github/souravs17031999/private-ai/blob/master/secured_federated_learning.ipynb\" target=\"_parent\"><img src=\"https://colab.research.google.com/assets/colab-badge.svg\" alt=\"Open In Colab\"/></a>"
      ]
    },
    {
      "cell_type": "markdown",
      "metadata": {
        "id": "x3ZtY3AASXdq",
        "colab_type": "text"
      },
      "source": [
        "# Project - XIII\n",
        "## Part -I \n",
        "### Objective : To implement federated learning on Toy dataset using secure worker to aggregate gradients and so the gradients will not be directly sent to server.\n",
        "\n",
        "## Part - II\n",
        "### Objective : To understand additive secret sharing + Fixed Precision \n"
      ]
    },
    {
      "cell_type": "code",
      "metadata": {
        "id": "LuRcLfb1GTPi",
        "colab_type": "code",
        "colab": {}
      },
      "source": [
        "# Let's get started by installing syft in our workspace\n",
        "pip install syft"
      ],
      "execution_count": 0,
      "outputs": []
    },
    {
      "cell_type": "code",
      "metadata": {
        "id": "8v7jERL1-t38",
        "colab_type": "code",
        "outputId": "da43af3a-3cc9-497b-b094-cb56837270d9",
        "colab": {
          "base_uri": "https://localhost:8080/",
          "height": 34
        }
      },
      "source": [
        "# so let's import all packages \n",
        "import torch as th\n",
        "import syft as sy\n",
        "hook = sy.TorchHook(th)\n",
        "from torch import nn, optim"
      ],
      "execution_count": 0,
      "outputs": [
        {
          "output_type": "stream",
          "text": [
            "W0716 10:59:50.566120 139905839454080 hook.py:98] Torch was already hooked... skipping hooking process\n"
          ],
          "name": "stderr"
        }
      ]
    },
    {
      "cell_type": "code",
      "metadata": {
        "id": "sSFPWn0lHC8Z",
        "colab_type": "code",
        "colab": {}
      },
      "source": [
        "# Create two virtual workers for model training and a secure neutral worker which is supposed to aggregate the gradients\n",
        "bob = sy.VirtualWorker(hook, id = \"bob\")\n",
        "alice = sy.VirtualWorker(hook, id = \"alice\")\n",
        "secure_worker = sy.VirtualWorker(hook, id = \"secure_worker\")"
      ],
      "execution_count": 0,
      "outputs": []
    },
    {
      "cell_type": "markdown",
      "metadata": {
        "id": "YhnYF5hGi2-N",
        "colab_type": "text"
      },
      "source": [
        "The first step is to create a sort of connection between all the workers so that every worker knows who they are connected to."
      ]
    },
    {
      "cell_type": "code",
      "metadata": {
        "id": "1J-Gqh4kRdtm",
        "colab_type": "code",
        "outputId": "a6d74c0d-3a05-4ca4-97b7-541e6ddd58d6",
        "colab": {
          "base_uri": "https://localhost:8080/",
          "height": 70
        }
      },
      "source": [
        "bob.add_workers([alice, secure_worker])"
      ],
      "execution_count": 0,
      "outputs": [
        {
          "output_type": "stream",
          "text": [
            "W0716 11:11:13.116624 139905839454080 base.py:628] Worker alice already exists. Replacing old worker which could cause                     unexpected behavior\n",
            "W0716 11:11:13.118459 139905839454080 base.py:628] Worker secure_worker already exists. Replacing old worker which could cause                     unexpected behavior\n"
          ],
          "name": "stderr"
        },
        {
          "output_type": "execute_result",
          "data": {
            "text/plain": [
              "<VirtualWorker id:bob #objects:0>"
            ]
          },
          "metadata": {
            "tags": []
          },
          "execution_count": 12
        }
      ]
    },
    {
      "cell_type": "code",
      "metadata": {
        "id": "78NPsjzWf4tc",
        "colab_type": "code",
        "outputId": "15a1e95e-d0fa-4f49-8b5d-6a40301556a4",
        "colab": {
          "base_uri": "https://localhost:8080/",
          "height": 70
        }
      },
      "source": [
        "alice.add_workers([bob, secure_worker])"
      ],
      "execution_count": 0,
      "outputs": [
        {
          "output_type": "stream",
          "text": [
            "W0716 11:11:39.305429 139905839454080 base.py:628] Worker bob already exists. Replacing old worker which could cause                     unexpected behavior\n",
            "W0716 11:11:39.307645 139905839454080 base.py:628] Worker secure_worker already exists. Replacing old worker which could cause                     unexpected behavior\n"
          ],
          "name": "stderr"
        },
        {
          "output_type": "execute_result",
          "data": {
            "text/plain": [
              "<VirtualWorker id:alice #objects:0>"
            ]
          },
          "metadata": {
            "tags": []
          },
          "execution_count": 13
        }
      ]
    },
    {
      "cell_type": "code",
      "metadata": {
        "id": "oN2ZNZGBgBiG",
        "colab_type": "code",
        "outputId": "609e11b2-8064-4d18-d122-e39f4e301431",
        "colab": {
          "base_uri": "https://localhost:8080/",
          "height": 70
        }
      },
      "source": [
        "secure_worker.add_workers([bob, alice])"
      ],
      "execution_count": 0,
      "outputs": [
        {
          "output_type": "stream",
          "text": [
            "W0716 11:12:02.731305 139905839454080 base.py:628] Worker bob already exists. Replacing old worker which could cause                     unexpected behavior\n",
            "W0716 11:12:02.733030 139905839454080 base.py:628] Worker alice already exists. Replacing old worker which could cause                     unexpected behavior\n"
          ],
          "name": "stderr"
        },
        {
          "output_type": "execute_result",
          "data": {
            "text/plain": [
              "<VirtualWorker id:secure_worker #objects:0>"
            ]
          },
          "metadata": {
            "tags": []
          },
          "execution_count": 14
        }
      ]
    },
    {
      "cell_type": "code",
      "metadata": {
        "id": "GDaH2L2qgFwj",
        "colab_type": "code",
        "colab": {}
      },
      "source": [
        "# A Toy Dataset on which we will be working to train the model \n",
        "data = th.tensor([[0,0],[0,1],[1,0],[1,1.]], requires_grad=True) #inputs\n",
        "target = th.tensor([[0],[0],[1],[1.]], requires_grad=True) #labels\n",
        "\n",
        "# get pointers to training data on each worker by sending some training data to bob and alice\n",
        "bobs_data = data[0:2].send(bob)\n",
        "bobs_target = target[0:2].send(bob)\n",
        "\n",
        "alices_data = data[2:].send(alice)\n",
        "alices_target = target[2:].send(alice) "
      ],
      "execution_count": 0,
      "outputs": []
    },
    {
      "cell_type": "code",
      "metadata": {
        "id": "Zghu0qbklSHq",
        "colab_type": "code",
        "colab": {
          "base_uri": "https://localhost:8080/",
          "height": 87
        },
        "outputId": "ad92e99f-c122-432c-9e2b-04f595f8bc08"
      },
      "source": [
        "print(bobs_data)\n",
        "print(bobs_target)\n",
        "print(alices_data)\n",
        "print(alices_target)"
      ],
      "execution_count": 19,
      "outputs": [
        {
          "output_type": "stream",
          "text": [
            "(Wrapper)>[PointerTensor | me:57393396510 -> bob:97417512900]\n",
            "(Wrapper)>[PointerTensor | me:16522087887 -> bob:96974106580]\n",
            "(Wrapper)>[PointerTensor | me:49400027662 -> alice:25300910114]\n",
            "(Wrapper)>[PointerTensor | me:45898617989 -> alice:87841361650]\n"
          ],
          "name": "stdout"
        }
      ]
    },
    {
      "cell_type": "code",
      "metadata": {
        "id": "Ts7xCsUajj8i",
        "colab_type": "code",
        "colab": {
          "base_uri": "https://localhost:8080/",
          "height": 34
        },
        "outputId": "584b7523-886b-45b9-9a4e-9df379be60fb"
      },
      "source": [
        "# let's create our linear model \n",
        "# since, both bob and alice both have two inputs and they have to predict one target \n",
        "model = nn.Linear(2, 1)\n",
        "print(model)"
      ],
      "execution_count": 20,
      "outputs": [
        {
          "output_type": "stream",
          "text": [
            "Linear(in_features=2, out_features=1, bias=True)\n"
          ],
          "name": "stdout"
        }
      ]
    },
    {
      "cell_type": "markdown",
      "metadata": {
        "id": "rt_Uoepckb2M",
        "colab_type": "text"
      },
      "source": [
        "Next step is to send the copy to both bob and alice unlike before , so that we can training on both worker in parallel"
      ]
    },
    {
      "cell_type": "code",
      "metadata": {
        "id": "BifnbaBzkYWE",
        "colab_type": "code",
        "colab": {}
      },
      "source": [
        "# copying model to both workers\n",
        "bobs_model = model.copy().send(bob)\n",
        "alices_model = model.copy().send(alice)\n"
      ],
      "execution_count": 0,
      "outputs": []
    },
    {
      "cell_type": "code",
      "metadata": {
        "id": "7fxHaD8hle74",
        "colab_type": "code",
        "colab": {
          "base_uri": "https://localhost:8080/",
          "height": 52
        },
        "outputId": "39a74dfe-c43a-4ddc-ebca-6f64f0c26f50"
      },
      "source": [
        "print(bobs_model)\n",
        "print(alices_model)"
      ],
      "execution_count": 21,
      "outputs": [
        {
          "output_type": "stream",
          "text": [
            "Linear(in_features=2, out_features=1, bias=True)\n",
            "Linear(in_features=2, out_features=1, bias=True)\n"
          ],
          "name": "stdout"
        }
      ]
    },
    {
      "cell_type": "code",
      "metadata": {
        "id": "DRGS4Oz7k3QG",
        "colab_type": "code",
        "colab": {}
      },
      "source": [
        "# defining two optimizers for both\n",
        "bobs_optimizer = optim.SGD(bobs_model.parameters(), lr = 0.1)\n",
        "alices_optimizer = optim.SGD(alices_model.parameters(), lr = 0.1)"
      ],
      "execution_count": 0,
      "outputs": []
    },
    {
      "cell_type": "code",
      "metadata": {
        "id": "ie6pDR7VlkIp",
        "colab_type": "code",
        "colab": {
          "base_uri": "https://localhost:8080/",
          "height": 298
        },
        "outputId": "4e85cbcf-cb6b-42c5-fd9a-3adefef7b287"
      },
      "source": [
        "print(bobs_optimizer)\n",
        "print(alices_optimizer)"
      ],
      "execution_count": 24,
      "outputs": [
        {
          "output_type": "stream",
          "text": [
            "SGD (\n",
            "Parameter Group 0\n",
            "    dampening: 0\n",
            "    lr: 0.1\n",
            "    momentum: 0\n",
            "    nesterov: False\n",
            "    weight_decay: 0\n",
            ")\n",
            "SGD (\n",
            "Parameter Group 0\n",
            "    dampening: 0\n",
            "    lr: 0.1\n",
            "    momentum: 0\n",
            "    nesterov: False\n",
            "    weight_decay: 0\n",
            ")\n"
          ],
          "name": "stdout"
        }
      ]
    },
    {
      "cell_type": "markdown",
      "metadata": {
        "id": "_hgEXJPyoL5I",
        "colab_type": "text"
      },
      "source": [
        "The idea is to train both bob and alice model in parallel , and then move their gradients to secure worker and then set new parameters by sending the aggregates to the server model.\n",
        "Let's jump in."
      ]
    },
    {
      "cell_type": "code",
      "metadata": {
        "id": "sJh79MWqlr2O",
        "colab_type": "code",
        "colab": {
          "base_uri": "https://localhost:8080/",
          "height": 369
        },
        "outputId": "a139d499-ed4d-4140-e80f-e475f5ac1fcc"
      },
      "source": [
        "epochs = 10\n",
        "iterations = 5\n",
        "\n",
        "for e in range(1, epochs + 1):\n",
        "\n",
        "    bobs_model = model.copy().send(bob)\n",
        "    alices_model = model.copy().send(alice)\n",
        "\n",
        "    bobs_optimizer = optim.SGD(params=bobs_model.parameters(), lr=0.1)\n",
        "    alices_optimizer = optim.SGD(params=alices_model.parameters(), lr=0.1)\n",
        "\n",
        "    for _ in range(iterations):\n",
        "        # Train Bob's Model\n",
        "        bobs_optimizer.zero_grad()\n",
        "        bobs_pred = bobs_model(bobs_data)\n",
        "        bobs_loss = ((bobs_pred - bobs_target) ** 2).sum()\n",
        "        bobs_loss.backward()\n",
        "\n",
        "        bobs_optimizer.step()\n",
        "        bobs_loss = bobs_loss.get().data\n",
        "\n",
        "        # Train Alice's Model\n",
        "        alices_optimizer.zero_grad()\n",
        "        alices_pred = alices_model(alices_data)\n",
        "        alices_loss = ((alices_pred - alices_target) ** 2).sum()\n",
        "        alices_loss.backward()\n",
        "\n",
        "        alices_optimizer.step()\n",
        "        alices_loss = alices_loss.get().data\n",
        "\n",
        "    alices_model.move(secure_worker)\n",
        "    bobs_model.move(secure_worker)\n",
        "\n",
        "    with th.no_grad():\n",
        "        # get our model back and update our model with new aggregated gradients\n",
        "        model.weight.set_(((alices_model.weight.data + bobs_model.weight.data) / 2).get())\n",
        "        model.bias.set_(((alices_model.bias.data + bobs_model.bias.data) / 2).get())\n",
        "    print(f\"{e}/epochs completed\")\n",
        "    print(\"Bob:\" + str(bobs_loss) + \" Alice:\" + str(alices_loss))"
      ],
      "execution_count": 38,
      "outputs": [
        {
          "output_type": "stream",
          "text": [
            "1/epochs completed\n",
            "Bob:tensor(3.5627e-10) Alice:tensor(7.1374e-12)\n",
            "2/epochs completed\n",
            "Bob:tensor(2.7422e-10) Alice:tensor(5.4605e-12)\n",
            "3/epochs completed\n",
            "Bob:tensor(2.1105e-10) Alice:tensor(4.3094e-12)\n",
            "4/epochs completed\n",
            "Bob:tensor(1.6244e-10) Alice:tensor(3.1974e-12)\n",
            "5/epochs completed\n",
            "Bob:tensor(1.2502e-10) Alice:tensor(2.4762e-12)\n",
            "6/epochs completed\n",
            "Bob:tensor(9.6158e-11) Alice:tensor(1.8474e-12)\n",
            "7/epochs completed\n",
            "Bob:tensor(7.3972e-11) Alice:tensor(1.4957e-12)\n",
            "8/epochs completed\n",
            "Bob:tensor(5.6928e-11) Alice:tensor(1.2079e-12)\n",
            "9/epochs completed\n",
            "Bob:tensor(4.3789e-11) Alice:tensor(9.5568e-13)\n",
            "10/epochs completed\n",
            "Bob:tensor(3.3727e-11) Alice:tensor(6.5725e-13)\n"
          ],
          "name": "stdout"
        }
      ]
    },
    {
      "cell_type": "code",
      "metadata": {
        "id": "apuZzlNhtCfN",
        "colab_type": "code",
        "colab": {}
      },
      "source": [
        "preds = model(data)\n",
        "loss = ((preds - target) ** 2).sum()"
      ],
      "execution_count": 0,
      "outputs": []
    },
    {
      "cell_type": "code",
      "metadata": {
        "id": "W_oIJ7OLs0t_",
        "colab_type": "code",
        "colab": {
          "base_uri": "https://localhost:8080/",
          "height": 175
        },
        "outputId": "fdf34d40-1a68-432d-e183-f33d15f50ee1"
      },
      "source": [
        "print(preds)\n",
        "print(target)\n",
        "print(loss.data)"
      ],
      "execution_count": 40,
      "outputs": [
        {
          "output_type": "stream",
          "text": [
            "tensor([[1.6250e-05],\n",
            "        [1.3247e-05],\n",
            "        [9.9998e-01],\n",
            "        [9.9998e-01]], grad_fn=<AddmmBackward>)\n",
            "tensor([[0.],\n",
            "        [0.],\n",
            "        [1.],\n",
            "        [1.]], requires_grad=True)\n",
            "tensor(1.1006e-09)\n"
          ],
          "name": "stdout"
        }
      ]
    },
    {
      "cell_type": "markdown",
      "metadata": {
        "id": "Y31kU9XOvwM7",
        "colab_type": "text"
      },
      "source": [
        "INTRO TO Additive Secret Sharing"
      ]
    },
    {
      "cell_type": "markdown",
      "metadata": {
        "id": "vaR-EimU6cgo",
        "colab_type": "text"
      },
      "source": [
        "The idea is that we can't always have natural neutral worker and so , we need to implement secure multi party computations , which allows different individuals to add numbers together without allowing the individuals to know other's inputs."
      ]
    },
    {
      "cell_type": "code",
      "metadata": {
        "id": "xxQR1S01tNlo",
        "colab_type": "code",
        "colab": {
          "base_uri": "https://localhost:8080/",
          "height": 34
        },
        "outputId": "e6026da1-2ea6-44c4-afdb-15bf303ac70a"
      },
      "source": [
        "bob_x_share = 2\n",
        "alice_x_share = 3\n",
        "\n",
        "decrypted_x = bob_x_share + alice_x_share\n",
        "decrypted_x"
      ],
      "execution_count": 41,
      "outputs": [
        {
          "output_type": "execute_result",
          "data": {
            "text/plain": [
              "5"
            ]
          },
          "metadata": {
            "tags": []
          },
          "execution_count": 41
        }
      ]
    },
    {
      "cell_type": "markdown",
      "metadata": {
        "id": "9fizLyGL767B",
        "colab_type": "text"
      },
      "source": [
        "Neither bob nor alice , knows about value of x .\n",
        "We can perform arithmetic over the hidden encryped numbers ."
      ]
    },
    {
      "cell_type": "code",
      "metadata": {
        "id": "I_A3tlN5738q",
        "colab_type": "code",
        "colab": {
          "base_uri": "https://localhost:8080/",
          "height": 34
        },
        "outputId": "2a3f3961-907d-4c2e-d4e7-76494c83e9d7"
      },
      "source": [
        "bob_x_share = 2 * 2\n",
        "alice_x_share = 3 * 2\n",
        "\n",
        "decrypted_x = bob_x_share + alice_x_share\n",
        "decrypted_x"
      ],
      "execution_count": 42,
      "outputs": [
        {
          "output_type": "execute_result",
          "data": {
            "text/plain": [
              "10"
            ]
          },
          "metadata": {
            "tags": []
          },
          "execution_count": 42
        }
      ]
    },
    {
      "cell_type": "code",
      "metadata": {
        "id": "sxn1niJH8N_t",
        "colab_type": "code",
        "colab": {
          "base_uri": "https://localhost:8080/",
          "height": 34
        },
        "outputId": "840b96d6-1da5-41b2-d7bb-e9de39f89e14"
      },
      "source": [
        "# encrypted \"5\"\n",
        "bob_x_share = 2\n",
        "alice_x_share = 3\n",
        "\n",
        "# encrypted \"7\"\n",
        "bob_y_share = 5\n",
        "alice_y_share = 2\n",
        "\n",
        "# encrypted 5 + 7\n",
        "bob_z_share = bob_x_share + bob_y_share\n",
        "alice_z_share = alice_x_share + alice_y_share\n",
        "\n",
        "decrypted_z = bob_z_share + alice_z_share\n",
        "decrypted_z"
      ],
      "execution_count": 43,
      "outputs": [
        {
          "output_type": "execute_result",
          "data": {
            "text/plain": [
              "12"
            ]
          },
          "metadata": {
            "tags": []
          },
          "execution_count": 43
        }
      ]
    },
    {
      "cell_type": "markdown",
      "metadata": {
        "id": "cUtBoF-98U2o",
        "colab_type": "text"
      },
      "source": [
        "One small tweak - notice that since all our numbers are positive, it's possible for each share to reveal a little bit of information about the hidden value, namely, it's always greater than the share. Thus, if Bob has a share \"3\" then he knows that the encrypted value is at least 3.\n",
        "\n",
        "This would be quite bad, but can be solved through a simple fix. Decryption happens by summing all the shares together MODULUS some constant. I.e."
      ]
    },
    {
      "cell_type": "code",
      "metadata": {
        "id": "IFXOPjNA8RdM",
        "colab_type": "code",
        "colab": {
          "base_uri": "https://localhost:8080/",
          "height": 34
        },
        "outputId": "c4294590-ca5b-4599-f469-8df9ca3e11d3"
      },
      "source": [
        "x = 5\n",
        "\n",
        "Q = 23740629843760239486723\n",
        "\n",
        "bob_x_share = 23552870267 # <- a random number\n",
        "alice_x_share = Q - bob_x_share + x\n",
        "alice_x_share"
      ],
      "execution_count": 48,
      "outputs": [
        {
          "output_type": "execute_result",
          "data": {
            "text/plain": [
              "23740629843736686616461"
            ]
          },
          "metadata": {
            "tags": []
          },
          "execution_count": 48
        }
      ]
    },
    {
      "cell_type": "code",
      "metadata": {
        "id": "HYWxTO7l8ZDs",
        "colab_type": "code",
        "colab": {
          "base_uri": "https://localhost:8080/",
          "height": 34
        },
        "outputId": "66767e6d-3eb2-4b92-cdda-5a24e65b4c20"
      },
      "source": [
        "(bob_x_share + alice_x_share) % Q"
      ],
      "execution_count": 49,
      "outputs": [
        {
          "output_type": "execute_result",
          "data": {
            "text/plain": [
              "5"
            ]
          },
          "metadata": {
            "tags": []
          },
          "execution_count": 49
        }
      ]
    },
    {
      "cell_type": "markdown",
      "metadata": {
        "id": "xozP6Rhd8_Tz",
        "colab_type": "text"
      },
      "source": [
        "So now, as you can see, both shares are wildly larger than the number being shared, meaning that individual shares no longer leak this inforation. However, all the properties we discussed earlier still hold! (addition, encryption, decryption, etc.)"
      ]
    },
    {
      "cell_type": "markdown",
      "metadata": {
        "id": "iDzGh9z-9BQ-",
        "colab_type": "text"
      },
      "source": [
        "### PART - 2 PROJECT"
      ]
    },
    {
      "cell_type": "code",
      "metadata": {
        "id": "NsDbv5h48sNe",
        "colab_type": "code",
        "colab": {}
      },
      "source": [
        "# first two shares can be anything random but the third share should be calculated by formula so that all three add up to same.\n",
        "import random\n",
        "\n",
        "Q = 23740629843760239486723\n",
        "\n",
        "def encrypt(x, n_share=3):\n",
        "    \n",
        "    shares = list()\n",
        "    # generate two numbers randomly as we just have to have something , to be encrypted in place of that value x\n",
        "    for i in range(n_share-1):\n",
        "        shares.append(random.randint(0,Q))\n",
        "    # generate third number again by same logic by calculating Q - 'y' + x where y is the third number which is sum(shares) % Q so that it lies in the range of Q    \n",
        "    shares.append(Q - (sum(shares) % Q) + x)\n",
        "    # so now we have 3 random encrypted numbers lying in the range within Q \n",
        "    return tuple(shares)"
      ],
      "execution_count": 0,
      "outputs": []
    },
    {
      "cell_type": "code",
      "metadata": {
        "id": "2LH5rec-_U8-",
        "colab_type": "code",
        "colab": {}
      },
      "source": [
        "def decrypt(shares):\n",
        "    return sum(shares) % Q"
      ],
      "execution_count": 0,
      "outputs": []
    },
    {
      "cell_type": "code",
      "metadata": {
        "id": "hzOOAsgg_VrR",
        "colab_type": "code",
        "colab": {}
      },
      "source": [
        "def add(a, b):\n",
        "    c = list()\n",
        "    for i in range(len(a)):\n",
        "        c.append((a[i] + b[i]) % Q)\n",
        "    return tuple(c)"
      ],
      "execution_count": 0,
      "outputs": []
    },
    {
      "cell_type": "code",
      "metadata": {
        "id": "pDd6GITX_bFz",
        "colab_type": "code",
        "colab": {
          "base_uri": "https://localhost:8080/",
          "height": 87
        },
        "outputId": "01abc9eb-deba-4b2c-a12b-f9e120c30924"
      },
      "source": [
        "x = encrypt(10)\n",
        "print(x)\n",
        "y = encrypt(20)\n",
        "print(y)\n",
        "z = add(x, y)\n",
        "print(z)\n",
        "decrypt(z)"
      ],
      "execution_count": 67,
      "outputs": [
        {
          "output_type": "stream",
          "text": [
            "(8949346463086090011164, 18466236651422178515556, 20065676573012210446736)\n",
            "(17304956079230308102349, 15703538324920064070980, 14472765283370106800137)\n",
            "(2513672698556158626790, 10429145132582003099813, 10797812012622077760150)\n"
          ],
          "name": "stdout"
        },
        {
          "output_type": "execute_result",
          "data": {
            "text/plain": [
              "30"
            ]
          },
          "metadata": {
            "tags": []
          },
          "execution_count": 67
        }
      ]
    },
    {
      "cell_type": "markdown",
      "metadata": {
        "id": "R-DYxnYgEEoO",
        "colab_type": "text"
      },
      "source": [
        "### Intro to Fixed Precision Encoding\n",
        "As you may remember, our goal is to aggregate gradients using this new Secret Sharing technique. However, the protocol we've just explored in the last section uses positive integers. However, our neural network weights are NOT integers. Instead, our weights are decimals (floating point numbers).\n",
        "\n",
        "Not a huge deal! We just need to use a fixed precision encoding, which lets us do computation over decimal numbers using integers!"
      ]
    },
    {
      "cell_type": "code",
      "metadata": {
        "id": "3LTWo5v-AyQ2",
        "colab_type": "code",
        "colab": {}
      },
      "source": [
        "BASE=10\n",
        "PRECISION=4"
      ],
      "execution_count": 0,
      "outputs": []
    },
    {
      "cell_type": "code",
      "metadata": {
        "id": "TN9SjNMxEL0n",
        "colab_type": "code",
        "colab": {}
      },
      "source": [
        "def encode(x):\n",
        "    return int((x * (BASE ** PRECISION)) % Q)\n",
        "\n",
        "def decode(x):\n",
        "    return (x if x <= Q/2 else x - Q) / BASE**PRECISION"
      ],
      "execution_count": 0,
      "outputs": []
    },
    {
      "cell_type": "code",
      "metadata": {
        "id": "ixpZwU-dEUWs",
        "colab_type": "code",
        "colab": {
          "base_uri": "https://localhost:8080/",
          "height": 34
        },
        "outputId": "a9dad5b5-4e9e-4eea-880b-67d7e6f896c0"
      },
      "source": [
        "encode(4.578)"
      ],
      "execution_count": 70,
      "outputs": [
        {
          "output_type": "execute_result",
          "data": {
            "text/plain": [
              "45780"
            ]
          },
          "metadata": {
            "tags": []
          },
          "execution_count": 70
        }
      ]
    },
    {
      "cell_type": "code",
      "metadata": {
        "id": "Okcu2dz6EiZS",
        "colab_type": "code",
        "colab": {
          "base_uri": "https://localhost:8080/",
          "height": 34
        },
        "outputId": "31d07a77-c063-4e57-8535-7a3def8165b9"
      },
      "source": [
        "encode(5.7)"
      ],
      "execution_count": 71,
      "outputs": [
        {
          "output_type": "execute_result",
          "data": {
            "text/plain": [
              "57000"
            ]
          },
          "metadata": {
            "tags": []
          },
          "execution_count": 71
        }
      ]
    },
    {
      "cell_type": "code",
      "metadata": {
        "id": "IYMS7Hk5EnDO",
        "colab_type": "code",
        "colab": {
          "base_uri": "https://localhost:8080/",
          "height": 34
        },
        "outputId": "575c660f-1d99-47c3-e587-16528bb5805e"
      },
      "source": [
        "x = encrypt(encode(5.5))\n",
        "y = encrypt(encode(2.3))\n",
        "z = add(x,y)\n",
        "decode(decrypt(z))"
      ],
      "execution_count": 72,
      "outputs": [
        {
          "output_type": "execute_result",
          "data": {
            "text/plain": [
              "7.8"
            ]
          },
          "metadata": {
            "tags": []
          },
          "execution_count": 72
        }
      ]
    },
    {
      "cell_type": "markdown",
      "metadata": {
        "id": "RFmR-j-7Fl2E",
        "colab_type": "text"
      },
      "source": [
        "### It's time to dive in pysfyt to use secret sharing + fixed precision "
      ]
    },
    {
      "cell_type": "code",
      "metadata": {
        "id": "3GRxLEj-Esp2",
        "colab_type": "code",
        "colab": {}
      },
      "source": [
        "bob = bob.clear_objects()\n",
        "alice = alice.clear_objects()\n",
        "secure_worker = secure_worker.clear_objects()"
      ],
      "execution_count": 0,
      "outputs": []
    },
    {
      "cell_type": "code",
      "metadata": {
        "id": "EFHNyEy3HvZC",
        "colab_type": "code",
        "colab": {}
      },
      "source": [
        "x = th.tensor([1,2,3,4,5])\n"
      ],
      "execution_count": 0,
      "outputs": []
    },
    {
      "cell_type": "code",
      "metadata": {
        "id": "xSm4pIqgHxTH",
        "colab_type": "code",
        "colab": {}
      },
      "source": [
        "# this basically creates the shares for us and sends it to bob , alice and secure_worker\n",
        "x = x.share(bob, alice, secure_worker)\n"
      ],
      "execution_count": 0,
      "outputs": []
    },
    {
      "cell_type": "code",
      "metadata": {
        "id": "fvnwCqJUH5RA",
        "colab_type": "code",
        "colab": {
          "base_uri": "https://localhost:8080/",
          "height": 52
        },
        "outputId": "d57fd7ff-e674-41bf-d21a-a7b49b8960d7"
      },
      "source": [
        "bob._objects\n"
      ],
      "execution_count": 83,
      "outputs": [
        {
          "output_type": "execute_result",
          "data": {
            "text/plain": [
              "{7125142831: tensor([1948828951796636043,   14355213153343415, 2204862991552111015,\n",
              "          182097045240301222, 3937619258838040161])}"
            ]
          },
          "metadata": {
            "tags": []
          },
          "execution_count": 83
        }
      ]
    },
    {
      "cell_type": "code",
      "metadata": {
        "id": "dPrAgNp5H8jK",
        "colab_type": "code",
        "colab": {
          "base_uri": "https://localhost:8080/",
          "height": 52
        },
        "outputId": "17e99abc-13e6-4bbf-eaf9-04983f07962b"
      },
      "source": [
        "alice._objects"
      ],
      "execution_count": 84,
      "outputs": [
        {
          "output_type": "execute_result",
          "data": {
            "text/plain": [
              "{36975593752: tensor([ -574359641804419130,  2038236464012400145,  1602903676857257628,\n",
              "           209749596902368463, -3617867900422373362])}"
            ]
          },
          "metadata": {
            "tags": []
          },
          "execution_count": 84
        }
      ]
    },
    {
      "cell_type": "markdown",
      "metadata": {
        "id": "V9A2YmgxISRK",
        "colab_type": "text"
      },
      "source": [
        " Furthermore, we can still call addition in this state, and PySyft will automatically perform the remote execution for us!"
      ]
    },
    {
      "cell_type": "code",
      "metadata": {
        "id": "5Xaz4wIMH_xe",
        "colab_type": "code",
        "colab": {
          "base_uri": "https://localhost:8080/",
          "height": 105
        },
        "outputId": "e2deb026-85cb-4303-e4e7-7e0850302c58"
      },
      "source": [
        "y = x + x\n",
        "y"
      ],
      "execution_count": 85,
      "outputs": [
        {
          "output_type": "execute_result",
          "data": {
            "text/plain": [
              "(Wrapper)>[AdditiveSharingTensor]\n",
              "\t-> (Wrapper)>[PointerTensor | me:3073123727 -> bob:12318739694]\n",
              "\t-> (Wrapper)>[PointerTensor | me:95896824606 -> alice:19928274298]\n",
              "\t-> (Wrapper)>[PointerTensor | me:49068233714 -> secure_worker:24560263468]\n",
              "\t*crypto provider: me*"
            ]
          },
          "metadata": {
            "tags": []
          },
          "execution_count": 85
        }
      ]
    },
    {
      "cell_type": "code",
      "metadata": {
        "id": "UIln-3BtIIWX",
        "colab_type": "code",
        "colab": {
          "base_uri": "https://localhost:8080/",
          "height": 34
        },
        "outputId": "c1deb794-5335-4477-9da3-8a25108ccf87"
      },
      "source": [
        "y.get()\n"
      ],
      "execution_count": 86,
      "outputs": [
        {
          "output_type": "execute_result",
          "data": {
            "text/plain": [
              "tensor([ 2,  4,  6,  8, 10])"
            ]
          },
          "metadata": {
            "tags": []
          },
          "execution_count": 86
        }
      ]
    },
    {
      "cell_type": "markdown",
      "metadata": {
        "id": "bXRvxr-aIXbj",
        "colab_type": "text"
      },
      "source": [
        "### Fixed Precision using PySyft"
      ]
    },
    {
      "cell_type": "code",
      "metadata": {
        "id": "-6uU6Ot3IbOw",
        "colab_type": "code",
        "colab": {
          "base_uri": "https://localhost:8080/",
          "height": 34
        },
        "outputId": "db3a1dee-95eb-4d9e-b1c4-0f07ed616892"
      },
      "source": [
        "x = th.tensor([0.1,0.2,0.3])\n",
        "x"
      ],
      "execution_count": 87,
      "outputs": [
        {
          "output_type": "execute_result",
          "data": {
            "text/plain": [
              "tensor([0.1000, 0.2000, 0.3000])"
            ]
          },
          "metadata": {
            "tags": []
          },
          "execution_count": 87
        }
      ]
    },
    {
      "cell_type": "code",
      "metadata": {
        "id": "3F1QOnmiIh_P",
        "colab_type": "code",
        "colab": {}
      },
      "source": [
        "x = x.fix_prec()\n"
      ],
      "execution_count": 0,
      "outputs": []
    },
    {
      "cell_type": "code",
      "metadata": {
        "id": "Nug7kci2IkNZ",
        "colab_type": "code",
        "colab": {
          "base_uri": "https://localhost:8080/",
          "height": 34
        },
        "outputId": "c33f82ed-7e02-48aa-9088-ebc2730800bb"
      },
      "source": [
        "x"
      ],
      "execution_count": 89,
      "outputs": [
        {
          "output_type": "execute_result",
          "data": {
            "text/plain": [
              "(Wrapper)>FixedPrecisionTensor>tensor([100, 200, 300])"
            ]
          },
          "metadata": {
            "tags": []
          },
          "execution_count": 89
        }
      ]
    },
    {
      "cell_type": "code",
      "metadata": {
        "id": "PkPs_HNxIoUd",
        "colab_type": "code",
        "colab": {
          "base_uri": "https://localhost:8080/",
          "height": 34
        },
        "outputId": "fb2bcc63-3fa5-4772-8457-8efeb4cce31c"
      },
      "source": [
        "y = x + x\n",
        "y"
      ],
      "execution_count": 90,
      "outputs": [
        {
          "output_type": "execute_result",
          "data": {
            "text/plain": [
              "(Wrapper)>FixedPrecisionTensor>tensor([200, 400, 600])"
            ]
          },
          "metadata": {
            "tags": []
          },
          "execution_count": 90
        }
      ]
    },
    {
      "cell_type": "code",
      "metadata": {
        "id": "5fPZNpqhIqGv",
        "colab_type": "code",
        "colab": {
          "base_uri": "https://localhost:8080/",
          "height": 34
        },
        "outputId": "aa197f5d-6b60-4f8e-91bf-5b60af00a699"
      },
      "source": [
        "y = y.float_prec()\n",
        "y"
      ],
      "execution_count": 91,
      "outputs": [
        {
          "output_type": "execute_result",
          "data": {
            "text/plain": [
              "tensor([0.2000, 0.4000, 0.6000])"
            ]
          },
          "metadata": {
            "tags": []
          },
          "execution_count": 91
        }
      ]
    },
    {
      "cell_type": "markdown",
      "metadata": {
        "id": "E-hbYF6vItMk",
        "colab_type": "text"
      },
      "source": [
        "### Shared Fixed Precision"
      ]
    },
    {
      "cell_type": "code",
      "metadata": {
        "id": "zrS9iwruIxC-",
        "colab_type": "code",
        "colab": {}
      },
      "source": [
        "x = th.tensor([0.1, 0.2, 0.3])\n",
        "x = x.fix_prec().share(bob, alice, secure_worker)\n"
      ],
      "execution_count": 0,
      "outputs": []
    },
    {
      "cell_type": "code",
      "metadata": {
        "id": "62Jlg_VYI1j5",
        "colab_type": "code",
        "colab": {
          "base_uri": "https://localhost:8080/",
          "height": 105
        },
        "outputId": "15baf22d-c06e-49a1-f2f5-8b7ac23f09ed"
      },
      "source": [
        "y = x + x\n",
        "y"
      ],
      "execution_count": 93,
      "outputs": [
        {
          "output_type": "execute_result",
          "data": {
            "text/plain": [
              "(Wrapper)>FixedPrecisionTensor>(Wrapper)>[AdditiveSharingTensor]\n",
              "\t-> (Wrapper)>[PointerTensor | me:64863856999 -> bob:47172534360]\n",
              "\t-> (Wrapper)>[PointerTensor | me:65047449194 -> alice:88545079536]\n",
              "\t-> (Wrapper)>[PointerTensor | me:19177505817 -> secure_worker:91167576613]\n",
              "\t*crypto provider: me*"
            ]
          },
          "metadata": {
            "tags": []
          },
          "execution_count": 93
        }
      ]
    },
    {
      "cell_type": "code",
      "metadata": {
        "id": "-0njR3DnI4VZ",
        "colab_type": "code",
        "colab": {
          "base_uri": "https://localhost:8080/",
          "height": 34
        },
        "outputId": "12bc2346-7a83-4882-a831-180291bee73a"
      },
      "source": [
        "y.get().float_prec()\n"
      ],
      "execution_count": 94,
      "outputs": [
        {
          "output_type": "execute_result",
          "data": {
            "text/plain": [
              "tensor([0.2000, 0.4000, 0.6000])"
            ]
          },
          "metadata": {
            "tags": []
          },
          "execution_count": 94
        }
      ]
    }
  ]
}