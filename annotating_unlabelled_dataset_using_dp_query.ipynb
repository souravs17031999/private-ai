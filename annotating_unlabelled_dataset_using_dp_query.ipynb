{
  "nbformat": 4,
  "nbformat_minor": 0,
  "metadata": {
    "colab": {
      "name": "annotating_unlabelled_dataset_using_dp_query.ipynb",
      "version": "0.3.2",
      "provenance": [],
      "include_colab_link": true
    },
    "kernelspec": {
      "name": "python3",
      "display_name": "Python 3"
    }
  },
  "cells": [
    {
      "cell_type": "markdown",
      "metadata": {
        "id": "view-in-github",
        "colab_type": "text"
      },
      "source": [
        "<a href=\"https://colab.research.google.com/github/souravs17031999/private-ai/blob/master/annotating_unlabelled_dataset_using_dp_query.ipynb\" target=\"_parent\"><img src=\"https://colab.research.google.com/assets/colab-badge.svg\" alt=\"Open In Colab\"/></a>"
      ]
    },
    {
      "cell_type": "markdown",
      "metadata": {
        "id": "jKHzVdUmnQcL",
        "colab_type": "text"
      },
      "source": [
        "#Project - VII\n",
        "## In this project , we will understand how to annotate our unknown labelled datasets."
      ]
    },
    {
      "cell_type": "markdown",
      "metadata": {
        "id": "dLkAeltVngbz",
        "colab_type": "text"
      },
      "source": [
        "Since , now we have learnt  how to create private databases , calculate sensitivity of queries of different functions , adding random noise , laplacian noise, gaussian noise etc.\n",
        "It's time to put our all learning to practice for deep learning models."
      ]
    },
    {
      "cell_type": "markdown",
      "metadata": {
        "id": "L-GnJpEBn1m3",
        "colab_type": "text"
      },
      "source": [
        "so , say we are working on a problem of healthcare and we have thousands of examples of training data and we wanna predict them using our own classifier , but we do not have them labelled so , we go to some 10 parternered hospitals and ask them to run their models on their dataset which have same kind of images that we have and all of them same kind of labels and then use their models to predict on our own dataset and then use a DP query here , argmax to find the most frequent label for each image predicted by all the 10 models and then finally label them as the result obtained by the query and hence , now we have our DP dataset to train the model on."
      ]
    },
    {
      "cell_type": "markdown",
      "metadata": {
        "id": "m6zfWk5morsZ",
        "colab_type": "text"
      },
      "source": [
        "so , let's start."
      ]
    },
    {
      "cell_type": "code",
      "metadata": {
        "id": "CgM-YowDd0Aa",
        "colab_type": "code",
        "colab": {}
      },
      "source": [
        "import numpy as np\n"
      ],
      "execution_count": 0,
      "outputs": []
    },
    {
      "cell_type": "code",
      "metadata": {
        "id": "9d4BTFYXo1xB",
        "colab_type": "code",
        "colab": {}
      },
      "source": [
        "teachers = 10 # these are the 10 models which has been on own private datasets\n",
        "examples = 10000 # these are the training images we wish to have labels for\n",
        "labels = 10 # no of labels "
      ],
      "execution_count": 0,
      "outputs": []
    },
    {
      "cell_type": "code",
      "metadata": {
        "id": "GuY6CzzupOET",
        "colab_type": "code",
        "colab": {}
      },
      "source": [
        "pred = (np.random.rand(teachers, examples) * labels).astype(int).transpose(1, 0) # np.random.rand will take numbers (0,1) from uniform distribution and arrange them in given order , \n",
        "# and then multiplying with lables = 10 and converting to int datatype so that we get pure integers from 1 to 10 and then simply transposing it"
      ],
      "execution_count": 0,
      "outputs": []
    },
    {
      "cell_type": "code",
      "metadata": {
        "id": "CTwW4Lx7pYGB",
        "colab_type": "code",
        "colab": {
          "base_uri": "https://localhost:8080/",
          "height": 34
        },
        "outputId": "a18df6d3-7b52-4946-8d30-9d1e993557d1"
      },
      "source": [
        "pred.shape # shape of the pred is (10, 10000) without transpose and with transpose , it's (10000, 10) "
      ],
      "execution_count": 10,
      "outputs": [
        {
          "output_type": "execute_result",
          "data": {
            "text/plain": [
              "(10000, 10)"
            ]
          },
          "metadata": {
            "tags": []
          },
          "execution_count": 10
        }
      ]
    },
    {
      "cell_type": "code",
      "metadata": {
        "id": "t7kXGkgXploA",
        "colab_type": "code",
        "colab": {
          "base_uri": "https://localhost:8080/",
          "height": 140
        },
        "outputId": "13d75c3b-4b19-4f85-b4a8-728b1b0aa905"
      },
      "source": [
        "pred #showing fake predictions just for our purpose"
      ],
      "execution_count": 11,
      "outputs": [
        {
          "output_type": "execute_result",
          "data": {
            "text/plain": [
              "array([[9, 6, 4, ..., 2, 0, 8],\n",
              "       [1, 2, 6, ..., 6, 6, 1],\n",
              "       [8, 7, 4, ..., 9, 1, 2],\n",
              "       ...,\n",
              "       [3, 5, 6, ..., 0, 5, 4],\n",
              "       [0, 1, 0, ..., 0, 1, 9],\n",
              "       [8, 7, 5, ..., 8, 0, 3]])"
            ]
          },
          "metadata": {
            "tags": []
          },
          "execution_count": 11
        }
      ]
    },
    {
      "cell_type": "code",
      "metadata": {
        "id": "sX7HaDWApmy2",
        "colab_type": "code",
        "colab": {
          "base_uri": "https://localhost:8080/",
          "height": 34
        },
        "outputId": "02e24d62-5acd-4819-ba5c-e96d17bdb16e"
      },
      "source": [
        "pred[0] #preictions of the first image by all the 10 teachers"
      ],
      "execution_count": 14,
      "outputs": [
        {
          "output_type": "execute_result",
          "data": {
            "text/plain": [
              "array([9, 6, 4, 4, 8, 4, 7, 2, 0, 8])"
            ]
          },
          "metadata": {
            "tags": []
          },
          "execution_count": 14
        }
      ]
    },
    {
      "cell_type": "markdown",
      "metadata": {
        "id": "cBTurQ1WuAL6",
        "colab_type": "text"
      },
      "source": [
        "In the above case of example prediction for any one image , the array represents the prediction done by the teacher models from 10 different hospitals and it's not same as by one person data as any one instance of this database represents the whole set of patients from that hospital.\n",
        "Also we assume here , that there are no overlapping patients there."
      ]
    },
    {
      "cell_type": "code",
      "metadata": {
        "id": "ENtTHlc_tfWE",
        "colab_type": "code",
        "colab": {}
      },
      "source": [
        "new_labels = []  # empty list for putting in new labels\n",
        "for image in pred: #looping over all the images vectors in pred\n",
        "  label_counts = np.bincount(image, minlength = labels)  # it simply counts all the occurences of every instance of the array and gives the result for every index\n",
        "  epsilon = 0.1 # defines the constraint to satify differencial privacy equation\n",
        "  beta = 1 / epsilon # paramater for adding laplacian noise\n",
        "   \n",
        "  for i in range(len(label_counts)):  # going over every labels newly created \n",
        "    label_counts[i] += np.random.laplace(0, beta, 1)  # adding laplacian noise to every individual instance of labels\n",
        "  \n",
        "  new_label = np.argmax(label_counts) # fetching the maximum value from the labels created\n",
        "  new_labels.append(new_label) # appending all the images prediction to new_labels list"
      ],
      "execution_count": 0,
      "outputs": []
    },
    {
      "cell_type": "code",
      "metadata": {
        "id": "EqgWVG161fDs",
        "colab_type": "code",
        "colab": {
          "base_uri": "https://localhost:8080/",
          "height": 34
        },
        "outputId": "8e2222ac-6e00-4725-9443-3f55734afb13"
      },
      "source": [
        "len(new_labels)"
      ],
      "execution_count": 27,
      "outputs": [
        {
          "output_type": "execute_result",
          "data": {
            "text/plain": [
              "10000"
            ]
          },
          "metadata": {
            "tags": []
          },
          "execution_count": 27
        }
      ]
    },
    {
      "cell_type": "markdown",
      "metadata": {
        "id": "RKUjIXXv53tc",
        "colab_type": "text"
      },
      "source": [
        "Hurray , we have created and annotated our dataset and labelled them using teacher's private datasets !"
      ]
    }
  ]
}