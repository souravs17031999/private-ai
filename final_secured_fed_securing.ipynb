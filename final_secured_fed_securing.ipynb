{
  "nbformat": 4,
  "nbformat_minor": 0,
  "metadata": {
    "colab": {
      "name": "final_secured_fed_securing.ipynb",
      "version": "0.3.2",
      "provenance": [],
      "include_colab_link": true
    },
    "kernelspec": {
      "name": "python3",
      "display_name": "Python 3"
    }
  },
  "cells": [
    {
      "cell_type": "markdown",
      "metadata": {
        "id": "view-in-github",
        "colab_type": "text"
      },
      "source": [
        "<a href=\"https://colab.research.google.com/github/souravs17031999/private-ai/blob/master/final_secured_fed_securing.ipynb\" target=\"_parent\"><img src=\"https://colab.research.google.com/assets/colab-badge.svg\" alt=\"Open In Colab\"/></a>"
      ]
    },
    {
      "cell_type": "markdown",
      "metadata": {
        "id": "B2zQWaJZCI5z",
        "colab_type": "text"
      },
      "source": [
        "# Project Objective : Perform Federated Learning with Encrypted Gradient Aggregation"
      ]
    },
    {
      "cell_type": "code",
      "metadata": {
        "id": "ebZRkse10wvv",
        "colab_type": "code",
        "outputId": "99273b36-ef53-4d05-ee83-37311c322d61",
        "colab": {
          "base_uri": "https://localhost:8080/",
          "height": 301
        }
      },
      "source": [
        "!pip install syft"
      ],
      "execution_count": 0,
      "outputs": [
        {
          "output_type": "stream",
          "text": [
            "  Building wheel for zstd (setup.py) ... \u001b[?25l\u001b[?25hdone\n",
            "  Created wheel for zstd: filename=zstd-1.4.1.0-cp36-cp36m-linux_x86_64.whl size=1067079 sha256=23fa89ab0fc87772716cac4936aff07524a8dfae012928d16d1c864d6ccff34d\n",
            "  Stored in directory: /root/.cache/pip/wheels/66/3f/ee/ac08c81af7c1b24a80c746df669ea3cb37542d27877d66ccf4\n",
            "  Building wheel for pyyaml (setup.py) ... \u001b[?25l\u001b[?25hdone\n",
            "  Created wheel for pyyaml: filename=PyYAML-5.1.2-cp36-cp36m-linux_x86_64.whl size=44105 sha256=3c8f21922c450af91b915afe606b635f8c3f7655b20b5c769af4666a7bf9e12a\n",
            "  Stored in directory: /root/.cache/pip/wheels/d9/45/dd/65f0b38450c47cf7e5312883deb97d065e030c5cca0a365030\n",
            "Successfully built zstd pyyaml\n",
            "Installing collected packages: pyyaml, tf-encrypted, websocket-client, websockets, lz4, python-engineio, python-socketio, flask-socketio, zstd, msgpack, syft\n",
            "  Found existing installation: PyYAML 3.13\n",
            "    Uninstalling PyYAML-3.13:\n",
            "      Successfully uninstalled PyYAML-3.13\n",
            "  Found existing installation: msgpack 0.5.6\n",
            "    Uninstalling msgpack-0.5.6:\n",
            "      Successfully uninstalled msgpack-0.5.6\n",
            "Successfully installed flask-socketio-4.2.0 lz4-2.1.10 msgpack-0.6.1 python-engineio-3.9.2 python-socketio-4.3.0 pyyaml-5.1.2 syft-0.1.21a1 tf-encrypted-0.5.7 websocket-client-0.56.0 websockets-8.0.2 zstd-1.4.1.0\n"
          ],
          "name": "stdout"
        }
      ]
    },
    {
      "cell_type": "code",
      "metadata": {
        "id": "0iWF4F9kByRL",
        "colab_type": "code",
        "colab": {}
      },
      "source": [
        "import torch as th\n",
        "import syft as sy\n",
        "from torch import nn, optim\n",
        "hook = sy.TorchHook(th)"
      ],
      "execution_count": 0,
      "outputs": []
    },
    {
      "cell_type": "code",
      "metadata": {
        "id": "kt8-4NSYCFdQ",
        "colab_type": "code",
        "outputId": "11261068-88c6-4cdb-e6fc-1d3a28e0df60",
        "colab": {
          "base_uri": "https://localhost:8080/",
          "height": 122
        }
      },
      "source": [
        "bob = sy.VirtualWorker(hook, id=\"bob\")\n",
        "alice = sy.VirtualWorker(hook, id=\"alice\")\n",
        "secure_worker = sy.VirtualWorker(hook, id=\"secure_worker\")\n",
        "\n",
        "bob.add_workers([alice, secure_worker])\n",
        "alice.add_workers([bob, secure_worker])\n",
        "secure_worker.add_workers([alice, bob])\n",
        "\n",
        "# A Toy Dataset\n",
        "data = th.tensor([[0,0],[0,1],[1,0],[1,1.]], requires_grad=True)\n",
        "target = th.tensor([[0],[0],[1],[1.]], requires_grad=True)\n",
        "\n",
        "# get pointers to training data on each worker by\n",
        "# sending some training data to bob and alice\n",
        "bobs_data = data[0:2].send(bob)\n",
        "bobs_target = target[0:2].send(bob)\n",
        "\n",
        "alices_data = data[2:].send(alice)\n",
        "alices_target = target[2:].send(alice)"
      ],
      "execution_count": 0,
      "outputs": [
        {
          "output_type": "stream",
          "text": [
            "W0805 14:20:32.794059 139685491410816 base.py:628] Worker alice already exists. Replacing old worker which could cause                     unexpected behavior\n",
            "W0805 14:20:32.800300 139685491410816 base.py:628] Worker secure_worker already exists. Replacing old worker which could cause                     unexpected behavior\n",
            "W0805 14:20:32.805066 139685491410816 base.py:628] Worker bob already exists. Replacing old worker which could cause                     unexpected behavior\n",
            "W0805 14:20:32.807551 139685491410816 base.py:628] Worker secure_worker already exists. Replacing old worker which could cause                     unexpected behavior\n",
            "W0805 14:20:32.810148 139685491410816 base.py:628] Worker alice already exists. Replacing old worker which could cause                     unexpected behavior\n",
            "W0805 14:20:32.812270 139685491410816 base.py:628] Worker bob already exists. Replacing old worker which could cause                     unexpected behavior\n"
          ],
          "name": "stderr"
        }
      ]
    },
    {
      "cell_type": "code",
      "metadata": {
        "id": "idflyMYwLAp1",
        "colab_type": "code",
        "outputId": "dec5fbf3-b322-4899-c3b3-7200b837a397",
        "colab": {
          "base_uri": "https://localhost:8080/",
          "height": 34
        }
      },
      "source": [
        "model = nn.Linear(2,1)\n",
        "print(model)\n"
      ],
      "execution_count": 0,
      "outputs": [
        {
          "output_type": "stream",
          "text": [
            "Linear(in_features=2, out_features=1, bias=True)\n"
          ],
          "name": "stdout"
        }
      ]
    },
    {
      "cell_type": "code",
      "metadata": {
        "id": "-WVeTDhtLFkl",
        "colab_type": "code",
        "outputId": "5c0d5fb2-5130-4284-c7f0-05f8259eee19",
        "colab": {
          "base_uri": "https://localhost:8080/",
          "height": 369
        }
      },
      "source": [
        "epochs = 10\n",
        "iterations = 5\n",
        "\n",
        "for e in range(1, epochs + 1):\n",
        "\n",
        "    bobs_model = model.copy().send(bob)\n",
        "    alices_model = model.copy().send(alice)\n",
        "\n",
        "    bobs_optimizer = optim.SGD(params=bobs_model.parameters(), lr=0.1)\n",
        "    alices_optimizer = optim.SGD(params=alices_model.parameters(), lr=0.1)\n",
        "\n",
        "    for _ in range(iterations):\n",
        "        # Train Bob's Model\n",
        "        bobs_optimizer.zero_grad()\n",
        "        bobs_pred = bobs_model(bobs_data)\n",
        "        bobs_loss = ((bobs_pred - bobs_target) ** 2).sum()\n",
        "        bobs_loss.backward()\n",
        "\n",
        "        bobs_optimizer.step()\n",
        "        bobs_loss = bobs_loss.get().data\n",
        "\n",
        "        # Train Alice's Model\n",
        "        alices_optimizer.zero_grad()\n",
        "        alices_pred = alices_model(alices_data)\n",
        "        alices_loss = ((alices_pred - alices_target) ** 2).sum()\n",
        "        alices_loss.backward()\n",
        "\n",
        "        alices_optimizer.step()\n",
        "        alices_loss = alices_loss.get().data\n",
        "\n",
        "    alices_model.get()\n",
        "    bobs_model.get()\n",
        "    with th.no_grad():\n",
        "      model.weight.set_(((alices_model.weight.data.fix_prec().share(bob, alice, secure_worker) + bobs_model.weight.data.fix_prec().share(bob, alice, secure_worker)) / 2).get().float_prec())\n",
        "      model.bias.set_(((alices_model.bias.data.fix_prec().share(bob, alice, secure_worker) + bobs_model.bias.data.fix_prec().share(bob, alice, secure_worker)) / 2).get().float_prec())\n",
        "        \n",
        "    print(f\"{e}/epochs completed\")\n",
        "    print(\"Bob:\" + str(bobs_loss) + \" Alice:\" + str(alices_loss))"
      ],
      "execution_count": 34,
      "outputs": [
        {
          "output_type": "stream",
          "text": [
            "1/epochs completed\n",
            "Bob:tensor(2.4372e-07) Alice:tensor(2.2928e-07)\n",
            "2/epochs completed\n",
            "Bob:tensor(2.4372e-07) Alice:tensor(2.2928e-07)\n",
            "3/epochs completed\n",
            "Bob:tensor(2.4372e-07) Alice:tensor(1.2897e-07)\n",
            "4/epochs completed\n",
            "Bob:tensor(2.4372e-07) Alice:tensor(5.7331e-08)\n",
            "5/epochs completed\n",
            "Bob:tensor(7.4140e-07) Alice:tensor(3.4936e-08)\n",
            "6/epochs completed\n",
            "Bob:tensor(2.4372e-07) Alice:tensor(1.4341e-08)\n",
            "7/epochs completed\n",
            "Bob:tensor(3.4511e-08) Alice:tensor(4.4321e-07)\n",
            "8/epochs completed\n",
            "Bob:tensor(6.0931e-08) Alice:tensor(5.7308e-08)\n",
            "9/epochs completed\n",
            "Bob:tensor(6.0931e-08) Alice:tensor(1.4330e-08)\n",
            "10/epochs completed\n",
            "Bob:tensor(0.) Alice:tensor(5.7331e-08)\n"
          ],
          "name": "stdout"
        }
      ]
    },
    {
      "cell_type": "code",
      "metadata": {
        "id": "OXDOHbXJL39K",
        "colab_type": "code",
        "outputId": "746afd73-3ca6-4916-cd20-88c671650c48",
        "colab": {
          "base_uri": "https://localhost:8080/",
          "height": 175
        }
      },
      "source": [
        "preds = model(data)\n",
        "loss = ((preds - target) ** 2).sum()\n",
        "print(preds)\n",
        "print(target)\n",
        "print(loss.data)"
      ],
      "execution_count": 35,
      "outputs": [
        {
          "output_type": "stream",
          "text": [
            "tensor([[0.0000],\n",
            "        [0.0010],\n",
            "        [0.9980],\n",
            "        [0.9990]], grad_fn=<AddmmBackward>)\n",
            "tensor([[0.],\n",
            "        [0.],\n",
            "        [1.],\n",
            "        [1.]], requires_grad=True)\n",
            "tensor(5.9999e-06)\n"
          ],
          "name": "stdout"
        }
      ]
    }
  ]
}