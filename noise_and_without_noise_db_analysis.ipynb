{
  "nbformat": 4,
  "nbformat_minor": 0,
  "metadata": {
    "colab": {
      "name": "noise_and_without_noise_db_analysis.ipynb",
      "version": "0.3.2",
      "provenance": [],
      "include_colab_link": true
    },
    "kernelspec": {
      "name": "python3",
      "display_name": "Python 3"
    }
  },
  "cells": [
    {
      "cell_type": "markdown",
      "metadata": {
        "id": "view-in-github",
        "colab_type": "text"
      },
      "source": [
        "<a href=\"https://colab.research.google.com/github/souravs17031999/private-ai/blob/master/noise_and_without_noise_db_analysis.ipynb\" target=\"_parent\"><img src=\"https://colab.research.google.com/assets/colab-badge.svg\" alt=\"Open In Colab\"/></a>"
      ]
    },
    {
      "cell_type": "markdown",
      "metadata": {
        "id": "Xsro6tGheS7Q",
        "colab_type": "text"
      },
      "source": [
        "# Okay , now it's time to add noise to the database to implement local differential privacy"
      ]
    },
    {
      "cell_type": "code",
      "metadata": {
        "id": "be-kFTQNJote",
        "colab_type": "code",
        "colab": {}
      },
      "source": [
        "import torch"
      ],
      "execution_count": 0,
      "outputs": []
    },
    {
      "cell_type": "code",
      "metadata": {
        "id": "w-GIUB-o7mTB",
        "colab_type": "code",
        "colab": {}
      },
      "source": [
        "#creating a random database filled with 1'0 and 0's \n",
        "db = torch.rand(100) > 0.5\n"
      ],
      "execution_count": 0,
      "outputs": []
    },
    {
      "cell_type": "code",
      "metadata": {
        "id": "xqfGoYE-Kcfu",
        "colab_type": "code",
        "outputId": "94a3307c-4f3a-41c2-8fa7-a9ec88a28e17",
        "colab": {
          "base_uri": "https://localhost:8080/",
          "height": 105
        }
      },
      "source": [
        "db"
      ],
      "execution_count": 3,
      "outputs": [
        {
          "output_type": "execute_result",
          "data": {
            "text/plain": [
              "tensor([0, 0, 0, 0, 0, 1, 0, 0, 1, 1, 1, 0, 1, 1, 0, 1, 0, 1, 0, 1, 1, 1, 0, 0,\n",
              "        1, 0, 1, 0, 1, 0, 0, 0, 1, 0, 0, 0, 0, 0, 1, 0, 1, 1, 0, 0, 1, 1, 1, 1,\n",
              "        0, 0, 1, 0, 1, 0, 1, 0, 0, 1, 0, 1, 1, 1, 1, 1, 0, 1, 1, 1, 0, 1, 1, 0,\n",
              "        0, 1, 1, 0, 0, 1, 1, 1, 1, 0, 0, 1, 0, 0, 0, 0, 0, 1, 1, 0, 1, 1, 1, 1,\n",
              "        0, 1, 0, 0], dtype=torch.uint8)"
            ]
          },
          "metadata": {
            "tags": []
          },
          "execution_count": 3
        }
      ]
    },
    {
      "cell_type": "code",
      "metadata": {
        "id": "9-TfcmF9qGNs",
        "colab_type": "code",
        "colab": {
          "base_uri": "https://localhost:8080/",
          "height": 34
        },
        "outputId": "9854d3ad-8b94-4341-f2b7-1e94b300116b"
      },
      "source": [
        "torch.mean(db.float())  #chekcing the mean query over original database created just now"
      ],
      "execution_count": 17,
      "outputs": [
        {
          "output_type": "execute_result",
          "data": {
            "text/plain": [
              "tensor(0.5019)"
            ]
          },
          "metadata": {
            "tags": []
          },
          "execution_count": 17
        }
      ]
    },
    {
      "cell_type": "markdown",
      "metadata": {
        "id": "i8ni-K4ayjrG",
        "colab_type": "text"
      },
      "source": [
        "Now to add noise , we use coin - toss algorithm to give plausible deniabllility to the person involved in any kind of survey which we will be doing over some taboo behaviour.\n",
        "\n",
        "The algorithm is like - \n",
        "the respondent has to answer according to following rules - \n",
        "* First they flip a coin , if head comes up , they answer honestly but if tails come up , they answer according to second flip.\n",
        "* so , it means , now second flip will determine so , if now heads come up  , then it's yes and if tails then no , that means dishonest answers.\n",
        "\n",
        "This gives the individual plausible deniability that if they are asked about something that they have said yes for and that was crime then they can say that they just said that due to random coin outcome and not really from heart."
      ]
    },
    {
      "cell_type": "code",
      "metadata": {
        "id": "g_D0n4oMKmAj",
        "colab_type": "code",
        "colab": {}
      },
      "source": [
        "def query(db):\n",
        "  true_stat = torch.mean(db.float())  #query result over original database created\n",
        "  first_flip = torch.rand(len(db)) > 0.5  #creating a new tensor for first flip of a coin 1 -> head , 0-> tail \n",
        "  second_flip = torch.rand(len(db)) > 0.5 #creating a new tensor for second flip of a coin \n",
        "  rdb = [] #empty list\n",
        "  for i in range(len(db)):\n",
        "    if(first_flip[i] == 1): \n",
        "      rdb.append(db[i])\n",
        "    else:\n",
        "      rdb.append(second_flip[i])\n",
        "  noise_db = torch.tensor(rdb) #noised database\n",
        "  #augmented_database = db.float() * first_coin_flip + (1 - first_coin_flip) * second_coin_flip\n",
        "  aug_true_db = torch.mean(noise_db.float())*2 - 0.5 #calulcaintg real statistics removing noise \n",
        "  return true_stat, aug_true_db\n",
        "  "
      ],
      "execution_count": 0,
      "outputs": []
    },
    {
      "cell_type": "code",
      "metadata": {
        "id": "jpcTV6RFM6bJ",
        "colab_type": "code",
        "colab": {}
      },
      "source": [
        "true, random = query(db) "
      ],
      "execution_count": 0,
      "outputs": []
    },
    {
      "cell_type": "code",
      "metadata": {
        "id": "xJsdz5wdi98B",
        "colab_type": "code",
        "outputId": "ea455e47-be7f-4005-a4e0-fb773acc4b0e",
        "colab": {
          "base_uri": "https://localhost:8080/",
          "height": 52
        }
      },
      "source": [
        "print(\"without noise: \" + str(true))\n",
        "print(\"with noise: \" + str(random))"
      ],
      "execution_count": 6,
      "outputs": [
        {
          "output_type": "stream",
          "text": [
            "without noise: tensor(0.5000)\n",
            "with noise: tensor(0.6600)\n"
          ],
          "name": "stdout"
        }
      ]
    },
    {
      "cell_type": "markdown",
      "metadata": {
        "id": "I49x8PwrzjY_",
        "colab_type": "text"
      },
      "source": [
        "As expected , the true mean and mean from noised database , differs vastly thus affecting accuracy , but preserving diifferential privacy.\n",
        "The vast difference that we see , is only true for small datasets, if we have huge datasets with large number of entries , we will see in few moment , this difference is very little."
      ]
    },
    {
      "cell_type": "code",
      "metadata": {
        "id": "kcF8yHnZdrl5",
        "colab_type": "code",
        "colab": {}
      },
      "source": [
        "db = torch.rand(1000) > 0.5\n"
      ],
      "execution_count": 0,
      "outputs": []
    },
    {
      "cell_type": "code",
      "metadata": {
        "id": "UpVaxdphdwUf",
        "colab_type": "code",
        "colab": {}
      },
      "source": [
        "true, random = query(db)"
      ],
      "execution_count": 0,
      "outputs": []
    },
    {
      "cell_type": "code",
      "metadata": {
        "id": "UQ1K_eAzdzYJ",
        "colab_type": "code",
        "colab": {
          "base_uri": "https://localhost:8080/",
          "height": 52
        },
        "outputId": "d30cb457-511e-4d11-fa88-debad8e8a3f6"
      },
      "source": [
        "print(\"without noise: \" + str(true))\n",
        "print(\"with noise: \" + str(random))"
      ],
      "execution_count": 9,
      "outputs": [
        {
          "output_type": "stream",
          "text": [
            "without noise: tensor(0.5050)\n",
            "with noise: tensor(0.5300)\n"
          ],
          "name": "stdout"
        }
      ]
    },
    {
      "cell_type": "code",
      "metadata": {
        "id": "FwS8ZInmd1hu",
        "colab_type": "code",
        "colab": {}
      },
      "source": [
        "db = torch.rand(10000) > 0.5\n"
      ],
      "execution_count": 0,
      "outputs": []
    },
    {
      "cell_type": "code",
      "metadata": {
        "id": "7wEK94NFd6yR",
        "colab_type": "code",
        "colab": {}
      },
      "source": [
        "true, random = query(db)"
      ],
      "execution_count": 0,
      "outputs": []
    },
    {
      "cell_type": "code",
      "metadata": {
        "id": "CO8S8F3Jd8gN",
        "colab_type": "code",
        "colab": {
          "base_uri": "https://localhost:8080/",
          "height": 52
        },
        "outputId": "f61da6d6-9ffb-4810-b451-d3f8bd7cceca"
      },
      "source": [
        "print(\"without noise: \" + str(true))\n",
        "print(\"with noise: \" + str(random))"
      ],
      "execution_count": 12,
      "outputs": [
        {
          "output_type": "stream",
          "text": [
            "without noise: tensor(0.4958)\n",
            "with noise: tensor(0.4968)\n"
          ],
          "name": "stdout"
        }
      ]
    },
    {
      "cell_type": "code",
      "metadata": {
        "id": "hlcoRTB6eHRb",
        "colab_type": "code",
        "colab": {}
      },
      "source": [
        "db = torch.rand(100000) > 0.5\n"
      ],
      "execution_count": 0,
      "outputs": []
    },
    {
      "cell_type": "code",
      "metadata": {
        "id": "teQLOvtgeMba",
        "colab_type": "code",
        "colab": {}
      },
      "source": [
        "true, random = query(db)"
      ],
      "execution_count": 0,
      "outputs": []
    },
    {
      "cell_type": "code",
      "metadata": {
        "id": "HLpT7ALfeORX",
        "colab_type": "code",
        "colab": {
          "base_uri": "https://localhost:8080/",
          "height": 52
        },
        "outputId": "f42d9156-102b-4563-d6b2-57e060b11884"
      },
      "source": [
        "print(\"without noise: \" + str(true))\n",
        "print(\"with noise: \" + str(random))"
      ],
      "execution_count": 15,
      "outputs": [
        {
          "output_type": "stream",
          "text": [
            "without noise: tensor(0.5019)\n",
            "with noise: tensor(0.4973)\n"
          ],
          "name": "stdout"
        }
      ]
    }
  ]
}