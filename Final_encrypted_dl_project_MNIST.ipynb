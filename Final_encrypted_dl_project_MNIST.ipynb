{
  "nbformat": 4,
  "nbformat_minor": 0,
  "metadata": {
    "colab": {
      "name": "Final_encrypted_dl_project_MNIST.ipynb",
      "version": "0.3.2",
      "provenance": [],
      "include_colab_link": true
    },
    "kernelspec": {
      "name": "python3",
      "display_name": "Python 3"
    },
    "accelerator": "GPU"
  },
  "cells": [
    {
      "cell_type": "markdown",
      "metadata": {
        "id": "view-in-github",
        "colab_type": "text"
      },
      "source": [
        "<a href=\"https://colab.research.google.com/github/souravs17031999/private-ai/blob/master/Final_encrypted_dl_project_MNIST.ipynb\" target=\"_parent\"><img src=\"https://colab.research.google.com/assets/colab-badge.svg\" alt=\"Open In Colab\"/></a>"
      ]
    },
    {
      "cell_type": "markdown",
      "metadata": {
        "id": "nMZN4DXj1mBU",
        "colab_type": "text"
      },
      "source": [
        "# Project - XVII\n",
        "## Objective : to implement deep learning techniques using Pysyft on the testing / inference of model so that our data as well as model parameters is encrypted while our model can be used by anyone for their own inference."
      ]
    },
    {
      "cell_type": "code",
      "metadata": {
        "id": "vqTmIFq9abwE",
        "colab_type": "code",
        "colab": {}
      },
      "source": [
        "import torch\n",
        "import torch.nn as nn\n",
        "import torch.nn.functional as F\n",
        "import torch.optim as optim\n",
        "from torchvision import datasets, transforms"
      ],
      "execution_count": 0,
      "outputs": []
    },
    {
      "cell_type": "code",
      "metadata": {
        "id": "4uRZ-WQhaued",
        "colab_type": "code",
        "colab": {}
      },
      "source": [
        "!pip install syft"
      ],
      "execution_count": 0,
      "outputs": []
    },
    {
      "cell_type": "code",
      "metadata": {
        "id": "tAxrnRPLaq0e",
        "colab_type": "code",
        "outputId": "7dc89f44-5752-4562-b505-ab6c2c08aef5",
        "colab": {
          "base_uri": "https://localhost:8080/",
          "height": 107
        }
      },
      "source": [
        "import syft as sy  \n",
        "hook = sy.TorchHook(torch) \n",
        "client = sy.VirtualWorker(hook, id=\"client\") \n",
        "bob = sy.VirtualWorker(hook, id=\"bob\")\n",
        "alice = sy.VirtualWorker(hook, id=\"alice\")\n",
        "crypto_provider = sy.VirtualWorker(hook, id=\"crypto_provider\") "
      ],
      "execution_count": 0,
      "outputs": [
        {
          "output_type": "stream",
          "text": [
            "WARNING: Logging before flag parsing goes to stderr.\n",
            "W0804 06:54:01.520527 140384489969536 secure_random.py:26] Falling back to insecure randomness since the required custom op could not be found for the installed version of TensorFlow. Fix this by compiling custom ops. Missing file was '/usr/local/lib/python3.6/dist-packages/tf_encrypted/operations/secure_random/secure_random_module_tf_1.14.0.so'\n",
            "W0804 06:54:01.545021 140384489969536 deprecation_wrapper.py:119] From /usr/local/lib/python3.6/dist-packages/tf_encrypted/session.py:26: The name tf.Session is deprecated. Please use tf.compat.v1.Session instead.\n",
            "\n"
          ],
          "name": "stderr"
        }
      ]
    },
    {
      "cell_type": "code",
      "metadata": {
        "id": "jBO2d85CawaC",
        "colab_type": "code",
        "colab": {}
      },
      "source": [
        "class Arguments():\n",
        "    def __init__(self):\n",
        "        self.batch_size = 64\n",
        "        self.test_batch_size = 200\n",
        "        self.epochs = 10\n",
        "        self.lr = 0.001 # learning rate\n",
        "        self.log_interval = 100\n",
        "\n",
        "args = Arguments()"
      ],
      "execution_count": 0,
      "outputs": []
    },
    {
      "cell_type": "code",
      "metadata": {
        "id": "fKRRX0GYayvJ",
        "colab_type": "code",
        "outputId": "e5dfc0d7-f131-4128-f977-5cd6c07f3ca4",
        "colab": {
          "base_uri": "https://localhost:8080/",
          "height": 263
        }
      },
      "source": [
        "train_loader = torch.utils.data.DataLoader(\n",
        "    datasets.MNIST('../data', train=True, download=True,\n",
        "                   transform=transforms.Compose([\n",
        "                       transforms.ToTensor(),\n",
        "                       transforms.Normalize((0.1307,), (0.3081,))\n",
        "                   ])),\n",
        "    batch_size=args.batch_size, shuffle=True)"
      ],
      "execution_count": 0,
      "outputs": [
        {
          "output_type": "stream",
          "text": [
            "\r0it [00:00, ?it/s]"
          ],
          "name": "stderr"
        },
        {
          "output_type": "stream",
          "text": [
            "Downloading http://yann.lecun.com/exdb/mnist/train-images-idx3-ubyte.gz to ../data/MNIST/raw/train-images-idx3-ubyte.gz\n"
          ],
          "name": "stdout"
        },
        {
          "output_type": "stream",
          "text": [
            "9920512it [00:01, 8298594.64it/s]                            \n"
          ],
          "name": "stderr"
        },
        {
          "output_type": "stream",
          "text": [
            "Extracting ../data/MNIST/raw/train-images-idx3-ubyte.gz\n"
          ],
          "name": "stdout"
        },
        {
          "output_type": "stream",
          "text": [
            "  0%|          | 0/28881 [00:00<?, ?it/s]"
          ],
          "name": "stderr"
        },
        {
          "output_type": "stream",
          "text": [
            "Downloading http://yann.lecun.com/exdb/mnist/train-labels-idx1-ubyte.gz to ../data/MNIST/raw/train-labels-idx1-ubyte.gz\n"
          ],
          "name": "stdout"
        },
        {
          "output_type": "stream",
          "text": [
            "32768it [00:00, 136345.60it/s]           \n",
            "  0%|          | 0/1648877 [00:00<?, ?it/s]"
          ],
          "name": "stderr"
        },
        {
          "output_type": "stream",
          "text": [
            "Extracting ../data/MNIST/raw/train-labels-idx1-ubyte.gz\n",
            "Downloading http://yann.lecun.com/exdb/mnist/t10k-images-idx3-ubyte.gz to ../data/MNIST/raw/t10k-images-idx3-ubyte.gz\n"
          ],
          "name": "stdout"
        },
        {
          "output_type": "stream",
          "text": [
            "1654784it [00:00, 2202234.24it/s]                            \n",
            "0it [00:00, ?it/s]"
          ],
          "name": "stderr"
        },
        {
          "output_type": "stream",
          "text": [
            "Extracting ../data/MNIST/raw/t10k-images-idx3-ubyte.gz\n",
            "Downloading http://yann.lecun.com/exdb/mnist/t10k-labels-idx1-ubyte.gz to ../data/MNIST/raw/t10k-labels-idx1-ubyte.gz\n"
          ],
          "name": "stdout"
        },
        {
          "output_type": "stream",
          "text": [
            "8192it [00:00, 52082.94it/s]            \n"
          ],
          "name": "stderr"
        },
        {
          "output_type": "stream",
          "text": [
            "Extracting ../data/MNIST/raw/t10k-labels-idx1-ubyte.gz\n",
            "Processing...\n",
            "Done!\n"
          ],
          "name": "stdout"
        }
      ]
    },
    {
      "cell_type": "code",
      "metadata": {
        "id": "KBmtdTwva1DZ",
        "colab_type": "code",
        "colab": {}
      },
      "source": [
        "test_loader = torch.utils.data.DataLoader(\n",
        "    datasets.MNIST('../data', train=False,\n",
        "                   transform=transforms.Compose([\n",
        "                       transforms.ToTensor(),\n",
        "                       transforms.Normalize((0.1307,), (0.3081,))\n",
        "                   ])),\n",
        "    batch_size=args.test_batch_size, shuffle=True)\n",
        "\n",
        "# Convert to integers and privately share the dataset\n",
        "private_test_loader = []\n",
        "for data, target in test_loader:\n",
        "    private_test_loader.append((\n",
        "        data.fix_prec().share(alice, bob, crypto_provider=crypto_provider),\n",
        "        target.fix_prec().share(alice, bob, crypto_provider=crypto_provider)\n",
        "    ))"
      ],
      "execution_count": 0,
      "outputs": []
    },
    {
      "cell_type": "code",
      "metadata": {
        "id": "e7fZ8hPca3A5",
        "colab_type": "code",
        "colab": {}
      },
      "source": [
        "class Net(nn.Module):\n",
        "    def __init__(self):\n",
        "        super(Net, self).__init__()\n",
        "        self.fc1 = nn.Linear(784, 500)\n",
        "        self.fc2 = nn.Linear(500, 10)\n",
        "\n",
        "    def forward(self, x):\n",
        "        x = x.view(-1, 784)\n",
        "        x = self.fc1(x)\n",
        "        x = F.relu(x)\n",
        "        x = self.fc2(x)\n",
        "        return x"
      ],
      "execution_count": 0,
      "outputs": []
    },
    {
      "cell_type": "code",
      "metadata": {
        "id": "MlQ73kvUa5BB",
        "colab_type": "code",
        "colab": {}
      },
      "source": [
        "def train(args, model, train_loader, optimizer, epoch):\n",
        "    model.train()\n",
        "    for batch_idx, (data, target) in enumerate(train_loader):\n",
        "        optimizer.zero_grad()\n",
        "        output = model(data)\n",
        "        output = F.log_softmax(output, dim=1)\n",
        "        loss = F.nll_loss(output, target)\n",
        "        loss.backward()\n",
        "        optimizer.step()\n",
        "        if batch_idx % args.log_interval == 0:\n",
        "            print('Train Epoch: {} [{}/{} ({:.0f}%)]'.format(\n",
        "                epoch, batch_idx * args.batch_size, len(train_loader) * args.batch_size,\n",
        "                100. * batch_idx / len(train_loader)))"
      ],
      "execution_count": 0,
      "outputs": []
    },
    {
      "cell_type": "code",
      "metadata": {
        "id": "qhtqfzraa6-v",
        "colab_type": "code",
        "outputId": "7da913f5-eba6-4ca1-c66f-0f88b15b414c",
        "colab": {
          "base_uri": "https://localhost:8080/",
          "height": 1000
        }
      },
      "source": [
        "model = Net()\n",
        "optimizer = torch.optim.Adam(model.parameters(), lr=args.lr)\n",
        "\n",
        "for epoch in range(1, args.epochs + 1):\n",
        "    train(args, model, train_loader, optimizer, epoch)"
      ],
      "execution_count": 0,
      "outputs": [
        {
          "output_type": "stream",
          "text": [
            "Train Epoch: 1 [0/60032 (0%)]\n",
            "Train Epoch: 1 [6400/60032 (11%)]\n",
            "Train Epoch: 1 [12800/60032 (21%)]\n",
            "Train Epoch: 1 [19200/60032 (32%)]\n",
            "Train Epoch: 1 [25600/60032 (43%)]\n",
            "Train Epoch: 1 [32000/60032 (53%)]\n",
            "Train Epoch: 1 [38400/60032 (64%)]\n",
            "Train Epoch: 1 [44800/60032 (75%)]\n",
            "Train Epoch: 1 [51200/60032 (85%)]\n",
            "Train Epoch: 1 [57600/60032 (96%)]\n",
            "Train Epoch: 2 [0/60032 (0%)]\n",
            "Train Epoch: 2 [6400/60032 (11%)]\n",
            "Train Epoch: 2 [12800/60032 (21%)]\n",
            "Train Epoch: 2 [19200/60032 (32%)]\n",
            "Train Epoch: 2 [25600/60032 (43%)]\n",
            "Train Epoch: 2 [32000/60032 (53%)]\n",
            "Train Epoch: 2 [38400/60032 (64%)]\n",
            "Train Epoch: 2 [44800/60032 (75%)]\n",
            "Train Epoch: 2 [51200/60032 (85%)]\n",
            "Train Epoch: 2 [57600/60032 (96%)]\n",
            "Train Epoch: 3 [0/60032 (0%)]\n",
            "Train Epoch: 3 [6400/60032 (11%)]\n",
            "Train Epoch: 3 [12800/60032 (21%)]\n",
            "Train Epoch: 3 [19200/60032 (32%)]\n",
            "Train Epoch: 3 [25600/60032 (43%)]\n",
            "Train Epoch: 3 [32000/60032 (53%)]\n",
            "Train Epoch: 3 [38400/60032 (64%)]\n",
            "Train Epoch: 3 [44800/60032 (75%)]\n",
            "Train Epoch: 3 [51200/60032 (85%)]\n",
            "Train Epoch: 3 [57600/60032 (96%)]\n",
            "Train Epoch: 4 [0/60032 (0%)]\n",
            "Train Epoch: 4 [6400/60032 (11%)]\n",
            "Train Epoch: 4 [12800/60032 (21%)]\n",
            "Train Epoch: 4 [19200/60032 (32%)]\n",
            "Train Epoch: 4 [25600/60032 (43%)]\n",
            "Train Epoch: 4 [32000/60032 (53%)]\n",
            "Train Epoch: 4 [38400/60032 (64%)]\n",
            "Train Epoch: 4 [44800/60032 (75%)]\n",
            "Train Epoch: 4 [51200/60032 (85%)]\n",
            "Train Epoch: 4 [57600/60032 (96%)]\n",
            "Train Epoch: 5 [0/60032 (0%)]\n",
            "Train Epoch: 5 [6400/60032 (11%)]\n",
            "Train Epoch: 5 [12800/60032 (21%)]\n",
            "Train Epoch: 5 [19200/60032 (32%)]\n",
            "Train Epoch: 5 [25600/60032 (43%)]\n",
            "Train Epoch: 5 [32000/60032 (53%)]\n",
            "Train Epoch: 5 [38400/60032 (64%)]\n",
            "Train Epoch: 5 [44800/60032 (75%)]\n",
            "Train Epoch: 5 [51200/60032 (85%)]\n",
            "Train Epoch: 5 [57600/60032 (96%)]\n",
            "Train Epoch: 6 [0/60032 (0%)]\n",
            "Train Epoch: 6 [6400/60032 (11%)]\n",
            "Train Epoch: 6 [12800/60032 (21%)]\n",
            "Train Epoch: 6 [19200/60032 (32%)]\n",
            "Train Epoch: 6 [25600/60032 (43%)]\n",
            "Train Epoch: 6 [32000/60032 (53%)]\n",
            "Train Epoch: 6 [38400/60032 (64%)]\n",
            "Train Epoch: 6 [44800/60032 (75%)]\n",
            "Train Epoch: 6 [51200/60032 (85%)]\n",
            "Train Epoch: 6 [57600/60032 (96%)]\n",
            "Train Epoch: 7 [0/60032 (0%)]\n",
            "Train Epoch: 7 [6400/60032 (11%)]\n",
            "Train Epoch: 7 [12800/60032 (21%)]\n",
            "Train Epoch: 7 [19200/60032 (32%)]\n",
            "Train Epoch: 7 [25600/60032 (43%)]\n",
            "Train Epoch: 7 [32000/60032 (53%)]\n",
            "Train Epoch: 7 [38400/60032 (64%)]\n",
            "Train Epoch: 7 [44800/60032 (75%)]\n",
            "Train Epoch: 7 [51200/60032 (85%)]\n",
            "Train Epoch: 7 [57600/60032 (96%)]\n",
            "Train Epoch: 8 [0/60032 (0%)]\n",
            "Train Epoch: 8 [6400/60032 (11%)]\n",
            "Train Epoch: 8 [12800/60032 (21%)]\n",
            "Train Epoch: 8 [19200/60032 (32%)]\n",
            "Train Epoch: 8 [25600/60032 (43%)]\n",
            "Train Epoch: 8 [32000/60032 (53%)]\n",
            "Train Epoch: 8 [38400/60032 (64%)]\n",
            "Train Epoch: 8 [44800/60032 (75%)]\n",
            "Train Epoch: 8 [51200/60032 (85%)]\n",
            "Train Epoch: 8 [57600/60032 (96%)]\n",
            "Train Epoch: 9 [0/60032 (0%)]\n",
            "Train Epoch: 9 [6400/60032 (11%)]\n",
            "Train Epoch: 9 [12800/60032 (21%)]\n",
            "Train Epoch: 9 [19200/60032 (32%)]\n",
            "Train Epoch: 9 [25600/60032 (43%)]\n",
            "Train Epoch: 9 [32000/60032 (53%)]\n",
            "Train Epoch: 9 [38400/60032 (64%)]\n",
            "Train Epoch: 9 [44800/60032 (75%)]\n",
            "Train Epoch: 9 [51200/60032 (85%)]\n",
            "Train Epoch: 9 [57600/60032 (96%)]\n",
            "Train Epoch: 10 [0/60032 (0%)]\n",
            "Train Epoch: 10 [6400/60032 (11%)]\n",
            "Train Epoch: 10 [12800/60032 (21%)]\n",
            "Train Epoch: 10 [19200/60032 (32%)]\n",
            "Train Epoch: 10 [25600/60032 (43%)]\n",
            "Train Epoch: 10 [32000/60032 (53%)]\n",
            "Train Epoch: 10 [38400/60032 (64%)]\n",
            "Train Epoch: 10 [44800/60032 (75%)]\n",
            "Train Epoch: 10 [51200/60032 (85%)]\n",
            "Train Epoch: 10 [57600/60032 (96%)]\n"
          ],
          "name": "stdout"
        }
      ]
    },
    {
      "cell_type": "code",
      "metadata": {
        "id": "KgpcpqMbc5DJ",
        "colab_type": "code",
        "outputId": "2c13b7a2-d356-4fe6-98e4-472a88626ed1",
        "colab": {
          "base_uri": "https://localhost:8080/",
          "height": 87
        }
      },
      "source": [
        "model.fix_precision().share(alice, bob, crypto_provider=crypto_provider)\n"
      ],
      "execution_count": 0,
      "outputs": [
        {
          "output_type": "execute_result",
          "data": {
            "text/plain": [
              "Net(\n",
              "  (fc1): Linear(in_features=784, out_features=500, bias=True)\n",
              "  (fc2): Linear(in_features=500, out_features=10, bias=True)\n",
              ")"
            ]
          },
          "metadata": {
            "tags": []
          },
          "execution_count": 13
        }
      ]
    },
    {
      "cell_type": "code",
      "metadata": {
        "id": "DwdSE9lGastQ",
        "colab_type": "code",
        "colab": {}
      },
      "source": [
        "def test(args, model, test_loader):\n",
        "    model.eval()\n",
        "    n_correct_priv = 0\n",
        "    n_total = 0\n",
        "    with torch.no_grad():\n",
        "        for data, target in test_loader:\n",
        "            output = model(data)\n",
        "            pred = output.argmax(dim=1) \n",
        "            n_correct_priv += pred.eq(target.view_as(pred)).sum()\n",
        "            n_total += args.test_batch_size\n",
        "            \n",
        "            n_correct = n_correct_priv.copy().get().float_precision().long().item()\n",
        "    \n",
        "            print('Test set: Accuracy: {}/{} ({:.0f}%)'.format(\n",
        "                n_correct, n_total,\n",
        "                100. * n_correct / n_total))"
      ],
      "execution_count": 0,
      "outputs": []
    },
    {
      "cell_type": "code",
      "metadata": {
        "id": "NJEgrqo4cuz0",
        "colab_type": "code",
        "outputId": "4a7a3f9e-a531-4ee5-cf77-9fcf362f9bf7",
        "colab": {
          "base_uri": "https://localhost:8080/",
          "height": 897
        }
      },
      "source": [
        "test(args, model, private_test_loader)\n"
      ],
      "execution_count": 0,
      "outputs": [
        {
          "output_type": "stream",
          "text": [
            "Test set: Accuracy: 195/200 (98%)\n",
            "Test set: Accuracy: 392/400 (98%)\n",
            "Test set: Accuracy: 590/600 (98%)\n",
            "Test set: Accuracy: 784/800 (98%)\n",
            "Test set: Accuracy: 977/1000 (98%)\n",
            "Test set: Accuracy: 1172/1200 (98%)\n",
            "Test set: Accuracy: 1369/1400 (98%)\n",
            "Test set: Accuracy: 1561/1600 (98%)\n",
            "Test set: Accuracy: 1758/1800 (98%)\n",
            "Test set: Accuracy: 1957/2000 (98%)\n",
            "Test set: Accuracy: 2155/2200 (98%)\n",
            "Test set: Accuracy: 2343/2400 (98%)\n",
            "Test set: Accuracy: 2539/2600 (98%)\n",
            "Test set: Accuracy: 2735/2800 (98%)\n",
            "Test set: Accuracy: 2931/3000 (98%)\n",
            "Test set: Accuracy: 3127/3200 (98%)\n",
            "Test set: Accuracy: 3324/3400 (98%)\n",
            "Test set: Accuracy: 3519/3600 (98%)\n",
            "Test set: Accuracy: 3714/3800 (98%)\n",
            "Test set: Accuracy: 3912/4000 (98%)\n",
            "Test set: Accuracy: 4107/4200 (98%)\n",
            "Test set: Accuracy: 4304/4400 (98%)\n",
            "Test set: Accuracy: 4501/4600 (98%)\n",
            "Test set: Accuracy: 4693/4800 (98%)\n",
            "Test set: Accuracy: 4887/5000 (98%)\n",
            "Test set: Accuracy: 5083/5200 (98%)\n",
            "Test set: Accuracy: 5281/5400 (98%)\n",
            "Test set: Accuracy: 5476/5600 (98%)\n",
            "Test set: Accuracy: 5674/5800 (98%)\n",
            "Test set: Accuracy: 5867/6000 (98%)\n",
            "Test set: Accuracy: 6063/6200 (98%)\n",
            "Test set: Accuracy: 6258/6400 (98%)\n",
            "Test set: Accuracy: 6457/6600 (98%)\n",
            "Test set: Accuracy: 6649/6800 (98%)\n",
            "Test set: Accuracy: 6845/7000 (98%)\n",
            "Test set: Accuracy: 7043/7200 (98%)\n",
            "Test set: Accuracy: 7241/7400 (98%)\n",
            "Test set: Accuracy: 7433/7600 (98%)\n",
            "Test set: Accuracy: 7625/7800 (98%)\n",
            "Test set: Accuracy: 7820/8000 (98%)\n",
            "Test set: Accuracy: 8013/8200 (98%)\n",
            "Test set: Accuracy: 8210/8400 (98%)\n",
            "Test set: Accuracy: 8403/8600 (98%)\n",
            "Test set: Accuracy: 8600/8800 (98%)\n",
            "Test set: Accuracy: 8792/9000 (98%)\n",
            "Test set: Accuracy: 8989/9200 (98%)\n",
            "Test set: Accuracy: 9185/9400 (98%)\n",
            "Test set: Accuracy: 9380/9600 (98%)\n",
            "Test set: Accuracy: 9572/9800 (98%)\n",
            "Test set: Accuracy: 9769/10000 (98%)\n"
          ],
          "name": "stdout"
        }
      ]
    }
  ]
}