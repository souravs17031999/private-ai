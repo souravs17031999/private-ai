{
  "nbformat": 4,
  "nbformat_minor": 0,
  "metadata": {
    "colab": {
      "name": "federated_learning_learning_a_simple_model.ipynb",
      "version": "0.3.2",
      "provenance": [],
      "include_colab_link": true
    },
    "kernelspec": {
      "name": "python3",
      "display_name": "Python 3"
    }
  },
  "cells": [
    {
      "cell_type": "markdown",
      "metadata": {
        "id": "view-in-github",
        "colab_type": "text"
      },
      "source": [
        "<a href=\"https://colab.research.google.com/github/souravs17031999/private-ai/blob/master/federated_learning_learning_a_simple_model.ipynb\" target=\"_parent\"><img src=\"https://colab.research.google.com/assets/colab-badge.svg\" alt=\"Open In Colab\"/></a>"
      ]
    },
    {
      "cell_type": "markdown",
      "metadata": {
        "id": "CjSU3XFbPVxu",
        "colab_type": "text"
      },
      "source": [
        "# Project X\n",
        "## The objective here is to learn from simple linear model using federated learning techniques\n",
        "### Requirement : to make a simple model to learn a random dataset and then train them using federated learning , but without using any nn.Modules or Optimizer functions."
      ]
    },
    {
      "cell_type": "code",
      "metadata": {
        "id": "BnbUpRDGPTnU",
        "colab_type": "code",
        "colab": {}
      },
      "source": [
        "pip install syft"
      ],
      "execution_count": 0,
      "outputs": []
    },
    {
      "cell_type": "code",
      "metadata": {
        "id": "MUys6jstRuGg",
        "colab_type": "code",
        "colab": {
          "base_uri": "https://localhost:8080/",
          "height": 107
        },
        "outputId": "3d1024d8-f218-473a-dfcd-275fccb55d6d"
      },
      "source": [
        "import torch as th\n",
        "import syft as sy\n",
        "hook = sy.TorchHook(th)"
      ],
      "execution_count": 2,
      "outputs": [
        {
          "output_type": "stream",
          "text": [
            "WARNING: Logging before flag parsing goes to stderr.\n",
            "W0706 12:28:52.587068 139726686553984 secure_random.py:26] Falling back to insecure randomness since the required custom op could not be found for the installed version of TensorFlow. Fix this by compiling custom ops. Missing file was '/usr/local/lib/python3.6/dist-packages/tf_encrypted/operations/secure_random/secure_random_module_tf_1.14.0.so'\n",
            "W0706 12:28:52.605916 139726686553984 deprecation_wrapper.py:119] From /usr/local/lib/python3.6/dist-packages/tf_encrypted/session.py:26: The name tf.Session is deprecated. Please use tf.compat.v1.Session instead.\n",
            "\n"
          ],
          "name": "stderr"
        }
      ]
    },
    {
      "cell_type": "code",
      "metadata": {
        "id": "NbnrjCylkq2t",
        "colab_type": "code",
        "colab": {}
      },
      "source": [
        "bob = sy.VirtualWorker(hook, id = \"bob\")"
      ],
      "execution_count": 0,
      "outputs": []
    },
    {
      "cell_type": "markdown",
      "metadata": {
        "id": "fQtKmBDskdC6",
        "colab_type": "text"
      },
      "source": [
        "Let's create some custom dataset"
      ]
    },
    {
      "cell_type": "code",
      "metadata": {
        "id": "jPiOuv-_Rybs",
        "colab_type": "code",
        "colab": {}
      },
      "source": [
        "inputs = th.tensor([[1.,1],[0,1,],[1,0],[0,0]], requires_grad=True).send(bob)\n",
        "targets = th.tensor([[1.],[1],[0],[0]], requires_grad=True).send(bob)"
      ],
      "execution_count": 0,
      "outputs": []
    },
    {
      "cell_type": "markdown",
      "metadata": {
        "id": "tAsx2Je9sqzu",
        "colab_type": "text"
      },
      "source": [
        "Let's initialize the weights"
      ]
    },
    {
      "cell_type": "code",
      "metadata": {
        "id": "JYAm8ohHkvHo",
        "colab_type": "code",
        "colab": {}
      },
      "source": [
        "weights = th.tensor([[0.],[0.]], requires_grad=True).send(bob)"
      ],
      "execution_count": 0,
      "outputs": []
    },
    {
      "cell_type": "markdown",
      "metadata": {
        "id": "z0gRZjP_sxlo",
        "colab_type": "text"
      },
      "source": [
        "Let's start the training loop which uses mean square error function and using gradient descent step algorithm (here we don;t we have to use any modules or optimizer)"
      ]
    },
    {
      "cell_type": "code",
      "metadata": {
        "id": "bIY5Nr84k6ZQ",
        "colab_type": "code",
        "colab": {
          "base_uri": "https://localhost:8080/",
          "height": 193
        },
        "outputId": "fa1fa2c1-00fb-446e-8eed-b6e12eb91c88"
      },
      "source": [
        "for i in range(10):\n",
        "  pred = inputs.mm(weights)  # this is feed forward step\n",
        "  loss = ((pred - targets)**2).sum()  # this is calculating our error\n",
        "  loss.backward()  # this is taking gradients for error function \n",
        "  weights.data.sub_(weights.grad * 0.1) # this is gradient descent step\n",
        "  weights.grad *= 0  # this is initiliazing weights to 0 so that gradients don't get accumulated\n",
        "  print(loss.get().data)   # printing the losses\n",
        "  "
      ],
      "execution_count": 19,
      "outputs": [
        {
          "output_type": "stream",
          "text": [
            "tensor(2.)\n",
            "tensor(0.5600)\n",
            "tensor(0.2432)\n",
            "tensor(0.1372)\n",
            "tensor(0.0849)\n",
            "tensor(0.0538)\n",
            "tensor(0.0344)\n",
            "tensor(0.0220)\n",
            "tensor(0.0141)\n",
            "tensor(0.0090)\n"
          ],
          "name": "stdout"
        }
      ]
    },
    {
      "cell_type": "markdown",
      "metadata": {
        "id": "Et8tyAf7vInO",
        "colab_type": "text"
      },
      "source": [
        ""
      ]
    },
    {
      "cell_type": "code",
      "metadata": {
        "id": "WxDDsAxDscgX",
        "colab_type": "code",
        "colab": {}
      },
      "source": [
        ""
      ],
      "execution_count": 0,
      "outputs": []
    }
  ]
}