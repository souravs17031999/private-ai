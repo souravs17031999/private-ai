{
  "nbformat": 4,
  "nbformat_minor": 0,
  "metadata": {
    "colab": {
      "name": "differential - privacy_private_dbs",
      "version": "0.3.2",
      "provenance": [],
      "collapsed_sections": []
    },
    "kernelspec": {
      "name": "python3",
      "display_name": "Python 3"
    },
    "accelerator": "GPU"
  },
  "cells": [
    {
      "cell_type": "markdown",
      "metadata": {
        "id": "L7W_3jxY42LM",
        "colab_type": "text"
      },
      "source": [
        "# Showcasing functions for implementing privatising of data in a database and creating parallel databases that is iterating over the entire database and creating a new db each one with one entry removed.\n",
        "\n"
      ]
    },
    {
      "cell_type": "code",
      "metadata": {
        "id": "1vA3ww-tDk40",
        "colab_type": "code",
        "colab": {}
      },
      "source": [
        "#importing torch\n",
        "import torch"
      ],
      "execution_count": 0,
      "outputs": []
    },
    {
      "cell_type": "code",
      "metadata": {
        "id": "pToHDMttDx_n",
        "colab_type": "code",
        "colab": {}
      },
      "source": [
        "#creating a random tensor filled with 0's or 1's  \n",
        "db = torch.rand(5000) > 0.5"
      ],
      "execution_count": 0,
      "outputs": []
    },
    {
      "cell_type": "code",
      "metadata": {
        "id": "F5-jZQU2ECPF",
        "colab_type": "code",
        "outputId": "db27920b-2b4c-4804-db71-9d52a0c0475d",
        "colab": {
          "base_uri": "https://localhost:8080/",
          "height": 34
        }
      },
      "source": [
        "db"
      ],
      "execution_count": 111,
      "outputs": [
        {
          "output_type": "execute_result",
          "data": {
            "text/plain": [
              "tensor([1, 1, 0,  ..., 1, 1, 0], dtype=torch.uint8)"
            ]
          },
          "metadata": {
            "tags": []
          },
          "execution_count": 111
        }
      ]
    },
    {
      "cell_type": "code",
      "metadata": {
        "id": "HX9BvLdKEbR6",
        "colab_type": "code",
        "colab": {}
      },
      "source": [
        "def create(x):\n",
        "  return torch.rand(x) > 0.5"
      ],
      "execution_count": 0,
      "outputs": []
    },
    {
      "cell_type": "code",
      "metadata": {
        "id": "6CcJPScwTYUb",
        "colab_type": "code",
        "outputId": "295c9d47-4a4e-4f63-93a1-8b79bfef591d",
        "colab": {
          "base_uri": "https://localhost:8080/",
          "height": 34
        }
      },
      "source": [
        "create(5000)"
      ],
      "execution_count": 113,
      "outputs": [
        {
          "output_type": "execute_result",
          "data": {
            "text/plain": [
              "tensor([1, 0, 1,  ..., 1, 0, 0], dtype=torch.uint8)"
            ]
          },
          "metadata": {
            "tags": []
          },
          "execution_count": 113
        }
      ]
    },
    {
      "cell_type": "code",
      "metadata": {
        "id": "r7uKXdIXTiGK",
        "colab_type": "code",
        "outputId": "bf9bbbc7-15af-4a48-bcb4-dce34feb60dd",
        "colab": {
          "base_uri": "https://localhost:8080/",
          "height": 34
        }
      },
      "source": [
        "db.shape"
      ],
      "execution_count": 114,
      "outputs": [
        {
          "output_type": "execute_result",
          "data": {
            "text/plain": [
              "torch.Size([5000])"
            ]
          },
          "metadata": {
            "tags": []
          },
          "execution_count": 114
        }
      ]
    },
    {
      "cell_type": "code",
      "metadata": {
        "id": "xS6Za_vAWSz7",
        "colab_type": "code",
        "colab": {}
      },
      "source": [
        "#showing concatenating ops of tensors\n",
        "T = torch.tensor([1, 2, 3, 4, 5])\n",
        "i = 2\n",
        "T = torch.cat([T[:i], T[i+1:]])"
      ],
      "execution_count": 0,
      "outputs": []
    },
    {
      "cell_type": "code",
      "metadata": {
        "id": "WE2VeC-cWzv0",
        "colab_type": "code",
        "outputId": "dfbea692-c6ca-4db5-8d37-78c3b088115b",
        "colab": {
          "base_uri": "https://localhost:8080/",
          "height": 34
        }
      },
      "source": [
        "x = torch.arange(10)\n",
        "x"
      ],
      "execution_count": 116,
      "outputs": [
        {
          "output_type": "execute_result",
          "data": {
            "text/plain": [
              "tensor([0, 1, 2, 3, 4, 5, 6, 7, 8, 9])"
            ]
          },
          "metadata": {
            "tags": []
          },
          "execution_count": 116
        }
      ]
    },
    {
      "cell_type": "code",
      "metadata": {
        "id": "BdxZQiT6ZPPf",
        "colab_type": "code",
        "colab": {}
      },
      "source": [
        "value = 5\n",
        "x = x[x != value]"
      ],
      "execution_count": 0,
      "outputs": []
    },
    {
      "cell_type": "code",
      "metadata": {
        "id": "H_TNX_vWZYI2",
        "colab_type": "code",
        "colab": {}
      },
      "source": [
        "# a way to remove the value at a index\n",
        "def remove(tens, index):\n",
        "  idx = torch.arange(len(tens))  #creating a tensor filled with (0,1,2...)\n",
        "  tens = tens[idx != index]\n",
        "  return tens"
      ],
      "execution_count": 0,
      "outputs": []
    },
    {
      "cell_type": "code",
      "metadata": {
        "id": "49bRf6KSc3d8",
        "colab_type": "code",
        "outputId": "6734a90e-5edd-4ee6-d8d3-191124b0aa5d",
        "colab": {
          "base_uri": "https://localhost:8080/",
          "height": 34
        }
      },
      "source": [
        "x = torch.tensor([1, 2, 3, 4])\n",
        "remove(x, 1)\n"
      ],
      "execution_count": 119,
      "outputs": [
        {
          "output_type": "execute_result",
          "data": {
            "text/plain": [
              "tensor([1, 3, 4])"
            ]
          },
          "metadata": {
            "tags": []
          },
          "execution_count": 119
        }
      ]
    },
    {
      "cell_type": "code",
      "metadata": {
        "id": "8-J8vvlhlmng",
        "colab_type": "code",
        "outputId": "daac3bac-1f98-493d-9f47-7ad446b482a5",
        "colab": {
          "base_uri": "https://localhost:8080/",
          "height": 34
        }
      },
      "source": [
        "db"
      ],
      "execution_count": 120,
      "outputs": [
        {
          "output_type": "execute_result",
          "data": {
            "text/plain": [
              "tensor([1, 1, 0,  ..., 1, 1, 0], dtype=torch.uint8)"
            ]
          },
          "metadata": {
            "tags": []
          },
          "execution_count": 120
        }
      ]
    },
    {
      "cell_type": "code",
      "metadata": {
        "id": "cRXulkyXkz2l",
        "colab_type": "code",
        "colab": {}
      },
      "source": [
        "#function for creating parallel db that is remove a index from a tensor\n",
        "def get_parallel_db(db, index):\n",
        "  return torch.cat((db[:index], db[index + 1 :]))  #way of removing a value at a given index"
      ],
      "execution_count": 0,
      "outputs": []
    },
    {
      "cell_type": "code",
      "metadata": {
        "id": "CDfpNqb4lchH",
        "colab_type": "code",
        "outputId": "2f8184ea-cd1e-420c-ef40-7ef3cce003ee",
        "colab": {
          "base_uri": "https://localhost:8080/",
          "height": 34
        }
      },
      "source": [
        "get_parallel_db(db, 0).shape #shows one element removed since original db contained 5000 elements"
      ],
      "execution_count": 122,
      "outputs": [
        {
          "output_type": "execute_result",
          "data": {
            "text/plain": [
              "torch.Size([4999])"
            ]
          },
          "metadata": {
            "tags": []
          },
          "execution_count": 122
        }
      ]
    },
    {
      "cell_type": "code",
      "metadata": {
        "id": "UdtbHaZBl8fp",
        "colab_type": "code",
        "colab": {}
      },
      "source": [
        "#function for creating a list of paralle dbs each one with one entry removed one by one iterating over the entire db\n",
        "def get_parallel_dbs(db):\n",
        "  parallel_dbs = list()\n",
        "  for i in range(len(db)):\n",
        "    pdb = get_parallel_db(db, i)\n",
        "    parallel_dbs.append(pdb)\n",
        "  return parallel_dbs  "
      ],
      "execution_count": 0,
      "outputs": []
    },
    {
      "cell_type": "code",
      "metadata": {
        "id": "tLFKbWKunZPB",
        "colab_type": "code",
        "colab": {}
      },
      "source": [
        "pdbs = get_parallel_dbs(db)"
      ],
      "execution_count": 0,
      "outputs": []
    },
    {
      "cell_type": "code",
      "metadata": {
        "id": "_9vvTPZPoF-H",
        "colab_type": "code",
        "outputId": "9883a632-6603-49f9-9baa-5256f7f13a03",
        "colab": {
          "base_uri": "https://localhost:8080/",
          "height": 34
        }
      },
      "source": [
        "len(pdbs)"
      ],
      "execution_count": 125,
      "outputs": [
        {
          "output_type": "execute_result",
          "data": {
            "text/plain": [
              "5000"
            ]
          },
          "metadata": {
            "tags": []
          },
          "execution_count": 125
        }
      ]
    },
    {
      "cell_type": "code",
      "metadata": {
        "id": "Oeb4BpcMoOi2",
        "colab_type": "code",
        "colab": {}
      },
      "source": [
        "#combined function for creating a db and then fetching required lists of paralle dbs\n",
        "def create_db_and_paralleldbs(entries):\n",
        "  db = torch.rand(entries) > 0.5\n",
        "  pdbs = get_parallel_dbs(db)\n",
        "  return db, pdbs\n",
        "  "
      ],
      "execution_count": 0,
      "outputs": []
    },
    {
      "cell_type": "code",
      "metadata": {
        "id": "ulSr1_-0o-7C",
        "colab_type": "code",
        "colab": {}
      },
      "source": [
        "#creating databases randomly filled with 1's and 0's and then creating parallel databases of length 4999\n",
        "db, pdbs = create_db_and_paralleldbs(5000)"
      ],
      "execution_count": 0,
      "outputs": []
    },
    {
      "cell_type": "markdown",
      "metadata": {
        "id": "veWarEENBULF",
        "colab_type": "text"
      },
      "source": [
        "# Understanding sensitivity of the function\n"
      ]
    },
    {
      "cell_type": "markdown",
      "metadata": {
        "id": "N-kLEvVzBaMG",
        "colab_type": "text"
      },
      "source": [
        "## let's start with sum function "
      ]
    },
    {
      "cell_type": "code",
      "metadata": {
        "id": "1Y0lAcotpE_d",
        "colab_type": "code",
        "outputId": "d8b36bd2-a574-41cb-b9ca-15dbddc0dd53",
        "colab": {
          "base_uri": "https://localhost:8080/",
          "height": 34
        }
      },
      "source": [
        "db"
      ],
      "execution_count": 128,
      "outputs": [
        {
          "output_type": "execute_result",
          "data": {
            "text/plain": [
              "tensor([0, 0, 1,  ..., 1, 0, 1], dtype=torch.uint8)"
            ]
          },
          "metadata": {
            "tags": []
          },
          "execution_count": 128
        }
      ]
    },
    {
      "cell_type": "code",
      "metadata": {
        "id": "r5x7BF-zpGRR",
        "colab_type": "code",
        "colab": {}
      },
      "source": [
        "pdbs"
      ],
      "execution_count": 0,
      "outputs": []
    },
    {
      "cell_type": "code",
      "metadata": {
        "id": "r9b6RKH2NxRX",
        "colab_type": "code",
        "colab": {}
      },
      "source": [
        "#function for calculating sum over the entire elements of database created\n",
        "def summation(db):\n",
        "  return db.sum()"
      ],
      "execution_count": 0,
      "outputs": []
    },
    {
      "cell_type": "code",
      "metadata": {
        "id": "-ZsuFVAAN3K4",
        "colab_type": "code",
        "colab": {
          "base_uri": "https://localhost:8080/",
          "height": 34
        },
        "outputId": "1a0aec5b-8d6f-4d12-f5cc-b681b64b2dd4"
      },
      "source": [
        "summation(db)"
      ],
      "execution_count": 138,
      "outputs": [
        {
          "output_type": "execute_result",
          "data": {
            "text/plain": [
              "tensor(2482)"
            ]
          },
          "metadata": {
            "tags": []
          },
          "execution_count": 138
        }
      ]
    },
    {
      "cell_type": "code",
      "metadata": {
        "id": "nzh9hPFhuQil",
        "colab_type": "code",
        "colab": {
          "base_uri": "https://localhost:8080/",
          "height": 34
        },
        "outputId": "fc89a59d-6d45-4656-b7c2-ed3a9d5b169f"
      },
      "source": [
        "summation(pdbs[14])"
      ],
      "execution_count": 139,
      "outputs": [
        {
          "output_type": "execute_result",
          "data": {
            "text/plain": [
              "tensor(2481)"
            ]
          },
          "metadata": {
            "tags": []
          },
          "execution_count": 139
        }
      ]
    },
    {
      "cell_type": "markdown",
      "metadata": {
        "id": "pFfCazETBwTk",
        "colab_type": "text"
      },
      "source": [
        "The sensitivity is defined as the maximum change in the query when one instance is removed from the database.\n"
      ]
    },
    {
      "cell_type": "markdown",
      "metadata": {
        "id": "nANrgHmiB8nP",
        "colab_type": "text"
      },
      "source": [
        "Here , we are going to firstly estimate the total sum of original database , and then iterate over the entire parallel databases generated then calulcate their sum and take absolute difference and find out the maximum of them because we wanna find maximum change occured for the query (here sum).\n",
        "This is also called L1 norm sensitvity."
      ]
    },
    {
      "cell_type": "code",
      "metadata": {
        "id": "3iWJEV44PHmj",
        "colab_type": "code",
        "colab": {}
      },
      "source": [
        "total_result = query(db)\n",
        "def sensitivity(pdbs):\n",
        "  maximum_distance = 0\n",
        "  for pdb in pdbs:\n",
        "    current_result = query(pdb)\n",
        "    current_distance = torch.abs(current_result - total_result)\n",
        "    if(current_distance > maximum_distance):\n",
        "      maximum_distance = current_distance\n",
        "  return maximum_distance    "
      ],
      "execution_count": 0,
      "outputs": []
    },
    {
      "cell_type": "code",
      "metadata": {
        "id": "Ru2ipJpYP5be",
        "colab_type": "code",
        "colab": {
          "base_uri": "https://localhost:8080/",
          "height": 34
        },
        "outputId": "fed08382-deee-4d74-f552-6939a52a8476"
      },
      "source": [
        "sensitivity(pdbs)"
      ],
      "execution_count": 150,
      "outputs": [
        {
          "output_type": "execute_result",
          "data": {
            "text/plain": [
              "tensor(0.0001)"
            ]
          },
          "metadata": {
            "tags": []
          },
          "execution_count": 150
        }
      ]
    },
    {
      "cell_type": "code",
      "metadata": {
        "id": "Xbj_W-vrERxa",
        "colab_type": "code",
        "colab": {}
      },
      "source": [
        "def query(db):\n",
        "  return db.float().mean()"
      ],
      "execution_count": 0,
      "outputs": []
    },
    {
      "cell_type": "code",
      "metadata": {
        "id": "KR36UUmGQBHS",
        "colab_type": "code",
        "colab": {}
      },
      "source": [
        "def L1_senstivity(query, n_entries = 1000):\n",
        "  db, pdbs = create_db_and_paralleldbs(n_entries)\n",
        "  maximum_distance = 0\n",
        "  total_result = query(db)\n",
        "  for pdb in pdbs:\n",
        "    current_result = query(pdb)\n",
        "    current_distance = torch.abs(current_result - total_result)\n",
        "    if(current_distance > maximum_distance):\n",
        "      maximum_distance = current_distance\n",
        "  return maximum_distance    "
      ],
      "execution_count": 0,
      "outputs": []
    },
    {
      "cell_type": "code",
      "metadata": {
        "id": "3qwY-ZA74TEc",
        "colab_type": "code",
        "colab": {
          "base_uri": "https://localhost:8080/",
          "height": 34
        },
        "outputId": "43938529-33e9-445f-ab98-f2cb3f7a39cf"
      },
      "source": [
        "L1_senstivity(query)"
      ],
      "execution_count": 192,
      "outputs": [
        {
          "output_type": "execute_result",
          "data": {
            "text/plain": [
              "tensor(0.0005)"
            ]
          },
          "metadata": {
            "tags": []
          },
          "execution_count": 192
        }
      ]
    },
    {
      "cell_type": "code",
      "metadata": {
        "id": "i8_BxJpCAwdF",
        "colab_type": "code",
        "colab": {}
      },
      "source": [
        ""
      ],
      "execution_count": 0,
      "outputs": []
    }
  ]
}