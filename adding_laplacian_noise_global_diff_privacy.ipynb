{
  "nbformat": 4,
  "nbformat_minor": 0,
  "metadata": {
    "colab": {
      "name": "adding_laplacian_noise_global_diff_privacy",
      "version": "0.3.2",
      "provenance": [],
      "include_colab_link": true
    },
    "kernelspec": {
      "name": "python3",
      "display_name": "Python 3"
    }
  },
  "cells": [
    {
      "cell_type": "markdown",
      "metadata": {
        "id": "view-in-github",
        "colab_type": "text"
      },
      "source": [
        "<a href=\"https://colab.research.google.com/github/souravs17031999/private-ai/blob/master/adding_laplacian_noise_global_diff_privacy.ipynb\" target=\"_parent\"><img src=\"https://colab.research.google.com/assets/colab-badge.svg\" alt=\"Open In Colab\"/></a>"
      ]
    },
    {
      "cell_type": "markdown",
      "metadata": {
        "id": "iaiXnos893T-",
        "colab_type": "text"
      },
      "source": [
        "#Project - VI\n",
        "## Implementing global differential privacy and understanding laplacian noise"
      ]
    },
    {
      "cell_type": "code",
      "metadata": {
        "id": "cqaN2Ue09KeM",
        "colab_type": "code",
        "colab": {}
      },
      "source": [
        "import torch\n",
        "import numpy as np"
      ],
      "execution_count": 0,
      "outputs": []
    },
    {
      "cell_type": "code",
      "metadata": {
        "id": "qLpHIXLI9QIF",
        "colab_type": "code",
        "colab": {}
      },
      "source": [
        "db = torch.rand(100) > 0.5"
      ],
      "execution_count": 0,
      "outputs": []
    },
    {
      "cell_type": "code",
      "metadata": {
        "id": "SeqZffYa9Y9N",
        "colab_type": "code",
        "colab": {}
      },
      "source": [
        "def sum_query(db):\n",
        "  return torch.sum(db.float())\n"
      ],
      "execution_count": 0,
      "outputs": []
    },
    {
      "cell_type": "markdown",
      "metadata": {
        "id": "Ti6D1hby-Fj6",
        "colab_type": "text"
      },
      "source": [
        "The idea of global differential privacy is about adding the noise to the output of the query function applied over the database.\n",
        "This is done when indivduals have beleif and faith in the process that curator will add noise to the output of query without seeing the individual datapoints.\n",
        "The following 'M' showcase some randomised algorithm which is stated in original definition of differential privacy by cynthia dwork , whose privacy we wish to maintain."
      ]
    },
    {
      "cell_type": "code",
      "metadata": {
        "id": "eX9eQMsb9c3g",
        "colab_type": "code",
        "colab": {}
      },
      "source": [
        "def M(db):\n",
        "  return query(db) + noise"
      ],
      "execution_count": 0,
      "outputs": []
    },
    {
      "cell_type": "code",
      "metadata": {
        "id": "YEzE_SBk9lYf",
        "colab_type": "code",
        "colab": {
          "base_uri": "https://localhost:8080/",
          "height": 34
        },
        "outputId": "f81ccf7d-dcd4-40fe-819d-15a96ba72551"
      },
      "source": [
        "sum_query(db)"
      ],
      "execution_count": 11,
      "outputs": [
        {
          "output_type": "execute_result",
          "data": {
            "text/plain": [
              "tensor(60.)"
            ]
          },
          "metadata": {
            "tags": []
          },
          "execution_count": 11
        }
      ]
    },
    {
      "cell_type": "markdown",
      "metadata": {
        "id": "Xet1-WMu-voG",
        "colab_type": "text"
      },
      "source": [
        "Now , How much noise should we add so that epsilon - delta constraint is satisfied according to original formal differential privacy is maintained."
      ]
    },
    {
      "cell_type": "markdown",
      "metadata": {
        "id": "zQKehDgjAioj",
        "colab_type": "text"
      },
      "source": [
        "This depends on following four things- \n",
        "\n",
        "* Type of noise added (gaussian , laplacian)\n",
        "* Sensitivity of query function\n",
        "* Desired epsilon\n",
        "* Desired delta"
      ]
    },
    {
      "cell_type": "markdown",
      "metadata": {
        "id": "AujYM6-oBNHP",
        "colab_type": "text"
      },
      "source": [
        "b is parameter for laplacian noise , where , b = sensitivity (query) / epsilon .\n",
        "In other words, if we set b to be this value, then we know that we will have a privacy leakage of <= epsilon. Furthermore, the nice thing about Laplace is that it guarantees this with delta == 0. There are some tunings where we can have very low epsilon where delta is non-zero, but we'll ignore them for now."
      ]
    },
    {
      "cell_type": "markdown",
      "metadata": {
        "id": "pCwWwe0AFHa0",
        "colab_type": "text"
      },
      "source": [
        "The laplace distruibution is shown below - \n",
        "![normal vs laplace distribution](https://www.vosesoftware.com/riskwiki/images/image15_632.gif)"
      ]
    },
    {
      "cell_type": "code",
      "metadata": {
        "id": "a_KwPFP3_DpC",
        "colab_type": "code",
        "colab": {}
      },
      "source": [
        "epsilon = 0.5\n"
      ],
      "execution_count": 0,
      "outputs": []
    },
    {
      "cell_type": "code",
      "metadata": {
        "id": "lTY3NPExDhSa",
        "colab_type": "code",
        "colab": {}
      },
      "source": [
        "def laplace_m(db, query, sensitivity):\n",
        "  beta = sensitivity / epsilon\n",
        "  noise = torch.tensor(np.random.laplace(0, beta, 1))\n",
        "  return query(db) + noise"
      ],
      "execution_count": 0,
      "outputs": []
    },
    {
      "cell_type": "code",
      "metadata": {
        "id": "dVSlHqquEH9C",
        "colab_type": "code",
        "colab": {
          "base_uri": "https://localhost:8080/",
          "height": 34
        },
        "outputId": "8b70b9bf-710f-41e0-c3c4-5544116f9b48"
      },
      "source": [
        "laplace_m(db, sum_query, 1)"
      ],
      "execution_count": 32,
      "outputs": [
        {
          "output_type": "execute_result",
          "data": {
            "text/plain": [
              "tensor([60.4653], dtype=torch.float64)"
            ]
          },
          "metadata": {
            "tags": []
          },
          "execution_count": 32
        }
      ]
    },
    {
      "cell_type": "code",
      "metadata": {
        "id": "nfjnfbLZExhA",
        "colab_type": "code",
        "colab": {}
      },
      "source": [
        "def mean_query(db):\n",
        "  return torch.mean(db.float())"
      ],
      "execution_count": 0,
      "outputs": []
    },
    {
      "cell_type": "code",
      "metadata": {
        "id": "BOyTIPhwFqdp",
        "colab_type": "code",
        "colab": {
          "base_uri": "https://localhost:8080/",
          "height": 34
        },
        "outputId": "9bc9c20c-7223-42de-ec87-8b1e5a09a708"
      },
      "source": [
        "laplace_m(db, mean_query, 1/100)"
      ],
      "execution_count": 31,
      "outputs": [
        {
          "output_type": "execute_result",
          "data": {
            "text/plain": [
              "tensor([0.6157], dtype=torch.float64)"
            ]
          },
          "metadata": {
            "tags": []
          },
          "execution_count": 31
        }
      ]
    },
    {
      "cell_type": "code",
      "metadata": {
        "id": "GmYjSkdVFwdE",
        "colab_type": "code",
        "colab": {
          "base_uri": "https://localhost:8080/",
          "height": 34
        },
        "outputId": "dea92771-9808-476b-ada2-8b0c233fd729"
      },
      "source": [
        "mean_query(db)"
      ],
      "execution_count": 33,
      "outputs": [
        {
          "output_type": "execute_result",
          "data": {
            "text/plain": [
              "tensor(0.6000)"
            ]
          },
          "metadata": {
            "tags": []
          },
          "execution_count": 33
        }
      ]
    },
    {
      "cell_type": "markdown",
      "metadata": {
        "id": "RJNYdiBmGbJ1",
        "colab_type": "text"
      },
      "source": [
        "Now , let's see when we decrease the value of epsilon to very little that means very negligible leakage of info."
      ]
    },
    {
      "cell_type": "code",
      "metadata": {
        "id": "8NTILOG9Gi8R",
        "colab_type": "code",
        "colab": {}
      },
      "source": [
        "epsilon = 0.0001"
      ],
      "execution_count": 0,
      "outputs": []
    },
    {
      "cell_type": "code",
      "metadata": {
        "id": "7dFZYSNFGlpd",
        "colab_type": "code",
        "colab": {
          "base_uri": "https://localhost:8080/",
          "height": 34
        },
        "outputId": "7669223f-96e4-46c3-fee8-a6d75aca9fd9"
      },
      "source": [
        "laplace_m(db, sum_query, 1)"
      ],
      "execution_count": 39,
      "outputs": [
        {
          "output_type": "execute_result",
          "data": {
            "text/plain": [
              "tensor([1627.9181], dtype=torch.float64)"
            ]
          },
          "metadata": {
            "tags": []
          },
          "execution_count": 39
        }
      ]
    },
    {
      "cell_type": "code",
      "metadata": {
        "id": "dMusG9_qGqjx",
        "colab_type": "code",
        "colab": {
          "base_uri": "https://localhost:8080/",
          "height": 34
        },
        "outputId": "3145fe15-eb31-46fc-f661-d6ca3da7cfb6"
      },
      "source": [
        "laplace_m(db, mean_query, 1/100)"
      ],
      "execution_count": 40,
      "outputs": [
        {
          "output_type": "execute_result",
          "data": {
            "text/plain": [
              "tensor([153.6952], dtype=torch.float64)"
            ]
          },
          "metadata": {
            "tags": []
          },
          "execution_count": 40
        }
      ]
    },
    {
      "cell_type": "markdown",
      "metadata": {
        "id": "7nrgYMGKGs8N",
        "colab_type": "text"
      },
      "source": [
        "As we can see , decreasing epsilon , increases beta parameter that means we have increased lots of noise and very less accuracy in the output and that's what the above results show !"
      ]
    }
  ]
}