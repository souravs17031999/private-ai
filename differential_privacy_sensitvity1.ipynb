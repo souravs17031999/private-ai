{
  "nbformat": 4,
  "nbformat_minor": 0,
  "metadata": {
    "colab": {
      "name": "differential - privacy_private_dbs",
      "version": "0.3.2",
      "provenance": [],
      "collapsed_sections": [],
      "include_colab_link": true
    },
    "kernelspec": {
      "name": "python3",
      "display_name": "Python 3"
    },
    "accelerator": "GPU"
  },
  "cells": [
    {
      "cell_type": "markdown",
      "metadata": {
        "id": "view-in-github",
        "colab_type": "text"
      },
      "source": [
        "<a href=\"https://colab.research.google.com/github/souravs17031999/private-ai/blob/master/differential_privacy_sensitvity1.ipynb\" target=\"_parent\"><img src=\"https://colab.research.google.com/assets/colab-badge.svg\" alt=\"Open In Colab\"/></a>"
      ]
    },
    {
      "cell_type": "markdown",
      "metadata": {
        "id": "veWarEENBULF",
        "colab_type": "text"
      },
      "source": [
        "#Project - II\n",
        "## Understanding sensitivity of the function\n"
      ]
    },
    {
      "cell_type": "code",
      "metadata": {
        "id": "Oeb4BpcMoOi2",
        "colab_type": "code",
        "colab": {}
      },
      "source": [
        "#combined function for creating a db and then fetching required lists of paralle dbs\n",
        "def create_db_and_paralleldbs(entries):\n",
        "  db = torch.rand(entries) > 0.5\n",
        "  pdbs = get_parallel_dbs(db)\n",
        "  return db, pdbs\n",
        "  "
      ],
      "execution_count": 0,
      "outputs": []
    },
    {
      "cell_type": "code",
      "metadata": {
        "id": "ulSr1_-0o-7C",
        "colab_type": "code",
        "colab": {}
      },
      "source": [
        "#creating databases randomly filled with 1's and 0's and then creating parallel databases of length 4999\n",
        "db, pdbs = create_db_and_paralleldbs(5000)"
      ],
      "execution_count": 0,
      "outputs": []
    },
    {
      "cell_type": "code",
      "metadata": {
        "id": "1Y0lAcotpE_d",
        "colab_type": "code",
        "outputId": "d8b36bd2-a574-41cb-b9ca-15dbddc0dd53",
        "colab": {
          "base_uri": "https://localhost:8080/",
          "height": 34
        }
      },
      "source": [
        "db"
      ],
      "execution_count": 0,
      "outputs": [
        {
          "output_type": "execute_result",
          "data": {
            "text/plain": [
              "tensor([0, 0, 1,  ..., 1, 0, 1], dtype=torch.uint8)"
            ]
          },
          "metadata": {
            "tags": []
          },
          "execution_count": 128
        }
      ]
    },
    {
      "cell_type": "code",
      "metadata": {
        "id": "r5x7BF-zpGRR",
        "colab_type": "code",
        "colab": {}
      },
      "source": [
        "pdbs"
      ],
      "execution_count": 0,
      "outputs": []
    },
    {
      "cell_type": "markdown",
      "metadata": {
        "id": "N-kLEvVzBaMG",
        "colab_type": "text"
      },
      "source": [
        "## let's start with sum function "
      ]
    },
    {
      "cell_type": "code",
      "metadata": {
        "id": "r9b6RKH2NxRX",
        "colab_type": "code",
        "colab": {}
      },
      "source": [
        "#function for calculating sum over the entire elements of database created\n",
        "def summation(db):\n",
        "  return db.sum()"
      ],
      "execution_count": 0,
      "outputs": []
    },
    {
      "cell_type": "code",
      "metadata": {
        "id": "-ZsuFVAAN3K4",
        "colab_type": "code",
        "outputId": "1a0aec5b-8d6f-4d12-f5cc-b681b64b2dd4",
        "colab": {
          "base_uri": "https://localhost:8080/",
          "height": 34
        }
      },
      "source": [
        "summation(db)"
      ],
      "execution_count": 0,
      "outputs": [
        {
          "output_type": "execute_result",
          "data": {
            "text/plain": [
              "tensor(2482)"
            ]
          },
          "metadata": {
            "tags": []
          },
          "execution_count": 138
        }
      ]
    },
    {
      "cell_type": "code",
      "metadata": {
        "id": "nzh9hPFhuQil",
        "colab_type": "code",
        "outputId": "fc89a59d-6d45-4656-b7c2-ed3a9d5b169f",
        "colab": {
          "base_uri": "https://localhost:8080/",
          "height": 34
        }
      },
      "source": [
        "summation(pdbs[14])"
      ],
      "execution_count": 0,
      "outputs": [
        {
          "output_type": "execute_result",
          "data": {
            "text/plain": [
              "tensor(2481)"
            ]
          },
          "metadata": {
            "tags": []
          },
          "execution_count": 139
        }
      ]
    },
    {
      "cell_type": "markdown",
      "metadata": {
        "id": "pFfCazETBwTk",
        "colab_type": "text"
      },
      "source": [
        "The sensitivity is defined as the maximum change in the query when one instance is removed from the database.\n"
      ]
    },
    {
      "cell_type": "markdown",
      "metadata": {
        "id": "nANrgHmiB8nP",
        "colab_type": "text"
      },
      "source": [
        "Here , we are going to firstly estimate the total sum of original database , and then iterate over the entire parallel databases generated then calulcate their sum and take absolute difference and find out the maximum of them because we wanna find maximum change occured for the query (here sum).\n",
        "This is also called L1 norm sensitvity."
      ]
    },
    {
      "cell_type": "code",
      "metadata": {
        "id": "3iWJEV44PHmj",
        "colab_type": "code",
        "colab": {}
      },
      "source": [
        "total_result = query(db)\n",
        "def sensitivity(pdbs):\n",
        "  maximum_distance = 0\n",
        "  for pdb in pdbs:\n",
        "    current_result = query(pdb)\n",
        "    current_distance = torch.abs(current_result - total_result)\n",
        "    if(current_distance > maximum_distance):\n",
        "      maximum_distance = current_distance\n",
        "  return maximum_distance    "
      ],
      "execution_count": 0,
      "outputs": []
    },
    {
      "cell_type": "code",
      "metadata": {
        "id": "Ru2ipJpYP5be",
        "colab_type": "code",
        "outputId": "fed08382-deee-4d74-f552-6939a52a8476",
        "colab": {
          "base_uri": "https://localhost:8080/",
          "height": 34
        }
      },
      "source": [
        "sensitivity(pdbs)"
      ],
      "execution_count": 0,
      "outputs": [
        {
          "output_type": "execute_result",
          "data": {
            "text/plain": [
              "tensor(0.0001)"
            ]
          },
          "metadata": {
            "tags": []
          },
          "execution_count": 150
        }
      ]
    },
    {
      "cell_type": "code",
      "metadata": {
        "id": "Xbj_W-vrERxa",
        "colab_type": "code",
        "colab": {}
      },
      "source": [
        "def query(db):\n",
        "  return db.float().mean()"
      ],
      "execution_count": 0,
      "outputs": []
    },
    {
      "cell_type": "code",
      "metadata": {
        "id": "KR36UUmGQBHS",
        "colab_type": "code",
        "colab": {}
      },
      "source": [
        "def L1_senstivity(query, n_entries = 1000):\n",
        "  db, pdbs = create_db_and_paralleldbs(n_entries)\n",
        "  maximum_distance = 0\n",
        "  total_result = query(db)\n",
        "  for pdb in pdbs:\n",
        "    current_result = query(pdb)\n",
        "    current_distance = torch.abs(current_result - total_result)\n",
        "    if(current_distance > maximum_distance):\n",
        "      maximum_distance = current_distance\n",
        "  return maximum_distance    "
      ],
      "execution_count": 0,
      "outputs": []
    },
    {
      "cell_type": "code",
      "metadata": {
        "id": "3qwY-ZA74TEc",
        "colab_type": "code",
        "outputId": "43938529-33e9-445f-ab98-f2cb3f7a39cf",
        "colab": {
          "base_uri": "https://localhost:8080/",
          "height": 34
        }
      },
      "source": [
        "L1_senstivity(query)"
      ],
      "execution_count": 0,
      "outputs": [
        {
          "output_type": "execute_result",
          "data": {
            "text/plain": [
              "tensor(0.0005)"
            ]
          },
          "metadata": {
            "tags": []
          },
          "execution_count": 192
        }
      ]
    },
    {
      "cell_type": "code",
      "metadata": {
        "id": "i8_BxJpCAwdF",
        "colab_type": "code",
        "colab": {}
      },
      "source": [
        ""
      ],
      "execution_count": 0,
      "outputs": []
    }
  ]
}